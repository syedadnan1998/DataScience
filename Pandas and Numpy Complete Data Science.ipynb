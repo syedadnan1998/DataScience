{
 "cells": [
  {
   "cell_type": "code",
   "execution_count": 1,
   "id": "137bd720",
   "metadata": {},
   "outputs": [],
   "source": [
    "import pandas as pd\n"
   ]
  },
  {
   "cell_type": "code",
   "execution_count": 2,
   "id": "5ac61128",
   "metadata": {},
   "outputs": [],
   "source": [
    "df=pd.read_csv('C:\\\\Users\\\\1933958\\\\Desktop\\\\DataScience\\\\ohana-api-master\\\\data\\\\sample-csv\\\\taxonomy.csv',sep=',',skiprows=[1,3])"
   ]
  },
  {
   "cell_type": "code",
   "execution_count": 3,
   "id": "108e8c42",
   "metadata": {},
   "outputs": [
    {
     "data": {
      "text/html": [
       "<div>\n",
       "<style scoped>\n",
       "    .dataframe tbody tr th:only-of-type {\n",
       "        vertical-align: middle;\n",
       "    }\n",
       "\n",
       "    .dataframe tbody tr th {\n",
       "        vertical-align: top;\n",
       "    }\n",
       "\n",
       "    .dataframe thead th {\n",
       "        text-align: right;\n",
       "    }\n",
       "</style>\n",
       "<table border=\"1\" class=\"dataframe\">\n",
       "  <thead>\n",
       "    <tr style=\"text-align: right;\">\n",
       "      <th></th>\n",
       "      <th>taxonomy_id</th>\n",
       "      <th>name</th>\n",
       "      <th>parent_id</th>\n",
       "      <th>parent_name</th>\n",
       "    </tr>\n",
       "  </thead>\n",
       "  <tbody>\n",
       "    <tr>\n",
       "      <th>0</th>\n",
       "      <td>101-01</td>\n",
       "      <td>Disaster Response</td>\n",
       "      <td>101</td>\n",
       "      <td>Emergency</td>\n",
       "    </tr>\n",
       "    <tr>\n",
       "      <th>1</th>\n",
       "      <td>101-02-01</td>\n",
       "      <td>Help Pay for Food</td>\n",
       "      <td>101-02</td>\n",
       "      <td>Emergency Cash</td>\n",
       "    </tr>\n",
       "    <tr>\n",
       "      <th>2</th>\n",
       "      <td>101-02-02</td>\n",
       "      <td>Help Pay for Healthcare</td>\n",
       "      <td>101-02</td>\n",
       "      <td>Emergency Cash</td>\n",
       "    </tr>\n",
       "    <tr>\n",
       "      <th>3</th>\n",
       "      <td>101-02-03</td>\n",
       "      <td>Help Pay for Housing</td>\n",
       "      <td>101-02</td>\n",
       "      <td>Emergency Cash</td>\n",
       "    </tr>\n",
       "    <tr>\n",
       "      <th>4</th>\n",
       "      <td>101-02-04</td>\n",
       "      <td>Help Pay for Gas</td>\n",
       "      <td>101-02</td>\n",
       "      <td>Emergency Cash</td>\n",
       "    </tr>\n",
       "    <tr>\n",
       "      <th>...</th>\n",
       "      <td>...</td>\n",
       "      <td>...</td>\n",
       "      <td>...</td>\n",
       "      <td>...</td>\n",
       "    </tr>\n",
       "    <tr>\n",
       "      <th>283</th>\n",
       "      <td>111-01-07</td>\n",
       "      <td>Workplace Rights</td>\n",
       "      <td>111-01</td>\n",
       "      <td>Advocacy &amp; Legal Aid</td>\n",
       "    </tr>\n",
       "    <tr>\n",
       "      <th>284</th>\n",
       "      <td>111-02</td>\n",
       "      <td>Mediation</td>\n",
       "      <td>111</td>\n",
       "      <td>Legal</td>\n",
       "    </tr>\n",
       "    <tr>\n",
       "      <th>285</th>\n",
       "      <td>111-03</td>\n",
       "      <td>Notary</td>\n",
       "      <td>111</td>\n",
       "      <td>Legal</td>\n",
       "    </tr>\n",
       "    <tr>\n",
       "      <th>286</th>\n",
       "      <td>111-04</td>\n",
       "      <td>Representation</td>\n",
       "      <td>111</td>\n",
       "      <td>Legal</td>\n",
       "    </tr>\n",
       "    <tr>\n",
       "      <th>287</th>\n",
       "      <td>111-05</td>\n",
       "      <td>Translation &amp; Interpretation</td>\n",
       "      <td>111</td>\n",
       "      <td>Legal</td>\n",
       "    </tr>\n",
       "  </tbody>\n",
       "</table>\n",
       "<p>288 rows × 4 columns</p>\n",
       "</div>"
      ],
      "text/plain": [
       "    taxonomy_id                          name parent_id           parent_name\n",
       "0        101-01             Disaster Response       101             Emergency\n",
       "1     101-02-01             Help Pay for Food    101-02        Emergency Cash\n",
       "2     101-02-02       Help Pay for Healthcare    101-02        Emergency Cash\n",
       "3     101-02-03          Help Pay for Housing    101-02        Emergency Cash\n",
       "4     101-02-04              Help Pay for Gas    101-02        Emergency Cash\n",
       "..          ...                           ...       ...                   ...\n",
       "283   111-01-07              Workplace Rights    111-01  Advocacy & Legal Aid\n",
       "284      111-02                     Mediation       111                 Legal\n",
       "285      111-03                        Notary       111                 Legal\n",
       "286      111-04                Representation       111                 Legal\n",
       "287      111-05  Translation & Interpretation       111                 Legal\n",
       "\n",
       "[288 rows x 4 columns]"
      ]
     },
     "execution_count": 3,
     "metadata": {},
     "output_type": "execute_result"
    }
   ],
   "source": [
    "df"
   ]
  },
  {
   "cell_type": "code",
   "execution_count": 4,
   "id": "3c7e415f",
   "metadata": {},
   "outputs": [
    {
     "data": {
      "text/plain": [
       "pandas.core.frame.DataFrame"
      ]
     },
     "execution_count": 4,
     "metadata": {},
     "output_type": "execute_result"
    }
   ],
   "source": [
    "type(df)"
   ]
  },
  {
   "cell_type": "code",
   "execution_count": 5,
   "id": "9c6031b0",
   "metadata": {},
   "outputs": [],
   "source": [
    "df2=pd.read_csv('C:\\\\Users\\\\1933958\\\\Desktop\\\\DataScience\\\\ohana-api-master\\\\data\\\\sample-csv\\\\services.csv')"
   ]
  },
  {
   "cell_type": "code",
   "execution_count": 6,
   "id": "6b38d7f9",
   "metadata": {},
   "outputs": [
    {
     "data": {
      "text/plain": [
       "id                           int64\n",
       "location_id                  int64\n",
       "program_id                 float64\n",
       "accepted_payments           object\n",
       "alternate_name              object\n",
       "application_process         object\n",
       "audience                    object\n",
       "description                 object\n",
       "eligibility                 object\n",
       "email                       object\n",
       "fees                        object\n",
       "funding_sources             object\n",
       "interpretation_services     object\n",
       "keywords                    object\n",
       "languages                   object\n",
       "name                        object\n",
       "required_documents          object\n",
       "service_areas               object\n",
       "status                      object\n",
       "wait_time                   object\n",
       "website                     object\n",
       "taxonomy_ids                object\n",
       "dtype: object"
      ]
     },
     "execution_count": 6,
     "metadata": {},
     "output_type": "execute_result"
    }
   ],
   "source": [
    "df2.dtypes"
   ]
  },
  {
   "cell_type": "code",
   "execution_count": 7,
   "id": "8c32d298",
   "metadata": {},
   "outputs": [
    {
     "data": {
      "text/html": [
       "<div>\n",
       "<style scoped>\n",
       "    .dataframe tbody tr th:only-of-type {\n",
       "        vertical-align: middle;\n",
       "    }\n",
       "\n",
       "    .dataframe tbody tr th {\n",
       "        vertical-align: top;\n",
       "    }\n",
       "\n",
       "    .dataframe thead th {\n",
       "        text-align: right;\n",
       "    }\n",
       "</style>\n",
       "<table border=\"1\" class=\"dataframe\">\n",
       "  <thead>\n",
       "    <tr style=\"text-align: right;\">\n",
       "      <th></th>\n",
       "      <th>id</th>\n",
       "      <th>location_id</th>\n",
       "      <th>program_id</th>\n",
       "      <th>accepted_payments</th>\n",
       "      <th>alternate_name</th>\n",
       "      <th>application_process</th>\n",
       "      <th>audience</th>\n",
       "      <th>description</th>\n",
       "      <th>eligibility</th>\n",
       "      <th>email</th>\n",
       "      <th>...</th>\n",
       "      <th>interpretation_services</th>\n",
       "      <th>keywords</th>\n",
       "      <th>languages</th>\n",
       "      <th>name</th>\n",
       "      <th>required_documents</th>\n",
       "      <th>service_areas</th>\n",
       "      <th>status</th>\n",
       "      <th>wait_time</th>\n",
       "      <th>website</th>\n",
       "      <th>taxonomy_ids</th>\n",
       "    </tr>\n",
       "  </thead>\n",
       "  <tbody>\n",
       "    <tr>\n",
       "      <th>0</th>\n",
       "      <td>1</td>\n",
       "      <td>1</td>\n",
       "      <td>NaN</td>\n",
       "      <td>NaN</td>\n",
       "      <td>NaN</td>\n",
       "      <td>Walk in or apply by phone.</td>\n",
       "      <td>Older adults age 55 or over, ethnic minorities...</td>\n",
       "      <td>A walk-in center for older adults that provide...</td>\n",
       "      <td>Age 55 or over for most programs, age 60 or ov...</td>\n",
       "      <td>NaN</td>\n",
       "      <td>...</td>\n",
       "      <td>NaN</td>\n",
       "      <td>ADULT PROTECTION AND CARE SERVICES, Meal Sites...</td>\n",
       "      <td>NaN</td>\n",
       "      <td>Fair Oaks Adult Activity Center</td>\n",
       "      <td>NaN</td>\n",
       "      <td>Colma</td>\n",
       "      <td>active</td>\n",
       "      <td>No wait.</td>\n",
       "      <td>NaN</td>\n",
       "      <td>NaN</td>\n",
       "    </tr>\n",
       "    <tr>\n",
       "      <th>1</th>\n",
       "      <td>2</td>\n",
       "      <td>2</td>\n",
       "      <td>NaN</td>\n",
       "      <td>NaN</td>\n",
       "      <td>NaN</td>\n",
       "      <td>Apply by phone for an appointment.</td>\n",
       "      <td>Residents of San Mateo County age 55 or over</td>\n",
       "      <td>Provides training and job placement to eligibl...</td>\n",
       "      <td>Age 55 or over, county resident and willing an...</td>\n",
       "      <td>NaN</td>\n",
       "      <td>...</td>\n",
       "      <td>NaN</td>\n",
       "      <td>EMPLOYMENT/TRAINING SERVICES, Job Development,...</td>\n",
       "      <td>NaN</td>\n",
       "      <td>Second Career Employment Program</td>\n",
       "      <td>NaN</td>\n",
       "      <td>San Mateo County</td>\n",
       "      <td>active</td>\n",
       "      <td>Varies.</td>\n",
       "      <td>NaN</td>\n",
       "      <td>NaN</td>\n",
       "    </tr>\n",
       "    <tr>\n",
       "      <th>2</th>\n",
       "      <td>3</td>\n",
       "      <td>3</td>\n",
       "      <td>NaN</td>\n",
       "      <td>NaN</td>\n",
       "      <td>NaN</td>\n",
       "      <td>Phone for information (403-4300 Ext. 4322).</td>\n",
       "      <td>Older adults age 55 or over who can benefit fr...</td>\n",
       "      <td>Offers supportive counseling services to San M...</td>\n",
       "      <td>Resident of San Mateo County age 55 or over</td>\n",
       "      <td>NaN</td>\n",
       "      <td>...</td>\n",
       "      <td>NaN</td>\n",
       "      <td>Geriatric Counseling, Older Adults, Gay, Lesbi...</td>\n",
       "      <td>NaN</td>\n",
       "      <td>Senior Peer Counseling</td>\n",
       "      <td>NaN</td>\n",
       "      <td>San Mateo County</td>\n",
       "      <td>active</td>\n",
       "      <td>Varies.</td>\n",
       "      <td>NaN</td>\n",
       "      <td>NaN</td>\n",
       "    </tr>\n",
       "  </tbody>\n",
       "</table>\n",
       "<p>3 rows × 22 columns</p>\n",
       "</div>"
      ],
      "text/plain": [
       "   id  location_id  program_id accepted_payments alternate_name  \\\n",
       "0   1            1         NaN               NaN            NaN   \n",
       "1   2            2         NaN               NaN            NaN   \n",
       "2   3            3         NaN               NaN            NaN   \n",
       "\n",
       "                           application_process  \\\n",
       "0                   Walk in or apply by phone.   \n",
       "1           Apply by phone for an appointment.   \n",
       "2  Phone for information (403-4300 Ext. 4322).   \n",
       "\n",
       "                                            audience  \\\n",
       "0  Older adults age 55 or over, ethnic minorities...   \n",
       "1       Residents of San Mateo County age 55 or over   \n",
       "2  Older adults age 55 or over who can benefit fr...   \n",
       "\n",
       "                                         description  \\\n",
       "0  A walk-in center for older adults that provide...   \n",
       "1  Provides training and job placement to eligibl...   \n",
       "2  Offers supportive counseling services to San M...   \n",
       "\n",
       "                                         eligibility email  ...  \\\n",
       "0  Age 55 or over for most programs, age 60 or ov...   NaN  ...   \n",
       "1  Age 55 or over, county resident and willing an...   NaN  ...   \n",
       "2        Resident of San Mateo County age 55 or over   NaN  ...   \n",
       "\n",
       "  interpretation_services                                           keywords  \\\n",
       "0                     NaN  ADULT PROTECTION AND CARE SERVICES, Meal Sites...   \n",
       "1                     NaN  EMPLOYMENT/TRAINING SERVICES, Job Development,...   \n",
       "2                     NaN  Geriatric Counseling, Older Adults, Gay, Lesbi...   \n",
       "\n",
       "  languages                              name required_documents  \\\n",
       "0       NaN   Fair Oaks Adult Activity Center                NaN   \n",
       "1       NaN  Second Career Employment Program                NaN   \n",
       "2       NaN            Senior Peer Counseling                NaN   \n",
       "\n",
       "      service_areas  status wait_time website taxonomy_ids  \n",
       "0             Colma  active  No wait.     NaN          NaN  \n",
       "1  San Mateo County  active   Varies.     NaN          NaN  \n",
       "2  San Mateo County  active   Varies.     NaN          NaN  \n",
       "\n",
       "[3 rows x 22 columns]"
      ]
     },
     "execution_count": 7,
     "metadata": {},
     "output_type": "execute_result"
    }
   ],
   "source": [
    "df2.head(3)"
   ]
  },
  {
   "cell_type": "code",
   "execution_count": 8,
   "id": "7f086e6e",
   "metadata": {},
   "outputs": [
    {
     "data": {
      "text/html": [
       "<div>\n",
       "<style scoped>\n",
       "    .dataframe tbody tr th:only-of-type {\n",
       "        vertical-align: middle;\n",
       "    }\n",
       "\n",
       "    .dataframe tbody tr th {\n",
       "        vertical-align: top;\n",
       "    }\n",
       "\n",
       "    .dataframe thead th {\n",
       "        text-align: right;\n",
       "    }\n",
       "</style>\n",
       "<table border=\"1\" class=\"dataframe\">\n",
       "  <thead>\n",
       "    <tr style=\"text-align: right;\">\n",
       "      <th></th>\n",
       "      <th>taxonomy_id</th>\n",
       "      <th>name</th>\n",
       "      <th>parent_id</th>\n",
       "      <th>parent_name</th>\n",
       "    </tr>\n",
       "  </thead>\n",
       "  <tbody>\n",
       "    <tr>\n",
       "      <th>278</th>\n",
       "      <td>111-01-02</td>\n",
       "      <td>Citizenship &amp; Immigration</td>\n",
       "      <td>111-01</td>\n",
       "      <td>Advocacy &amp; Legal Aid</td>\n",
       "    </tr>\n",
       "    <tr>\n",
       "      <th>279</th>\n",
       "      <td>111-01-03</td>\n",
       "      <td>Discrimination &amp; Civil Rights</td>\n",
       "      <td>111-01</td>\n",
       "      <td>Advocacy &amp; Legal Aid</td>\n",
       "    </tr>\n",
       "    <tr>\n",
       "      <th>280</th>\n",
       "      <td>111-01-04</td>\n",
       "      <td>Guardianship</td>\n",
       "      <td>111-01</td>\n",
       "      <td>Advocacy &amp; Legal Aid</td>\n",
       "    </tr>\n",
       "    <tr>\n",
       "      <th>281</th>\n",
       "      <td>111-01-05</td>\n",
       "      <td>Identification Recovery</td>\n",
       "      <td>111-01</td>\n",
       "      <td>Advocacy &amp; Legal Aid</td>\n",
       "    </tr>\n",
       "    <tr>\n",
       "      <th>282</th>\n",
       "      <td>111-01-06</td>\n",
       "      <td>Understand Government Programs</td>\n",
       "      <td>111-01</td>\n",
       "      <td>Advocacy &amp; Legal Aid</td>\n",
       "    </tr>\n",
       "    <tr>\n",
       "      <th>283</th>\n",
       "      <td>111-01-07</td>\n",
       "      <td>Workplace Rights</td>\n",
       "      <td>111-01</td>\n",
       "      <td>Advocacy &amp; Legal Aid</td>\n",
       "    </tr>\n",
       "    <tr>\n",
       "      <th>284</th>\n",
       "      <td>111-02</td>\n",
       "      <td>Mediation</td>\n",
       "      <td>111</td>\n",
       "      <td>Legal</td>\n",
       "    </tr>\n",
       "    <tr>\n",
       "      <th>285</th>\n",
       "      <td>111-03</td>\n",
       "      <td>Notary</td>\n",
       "      <td>111</td>\n",
       "      <td>Legal</td>\n",
       "    </tr>\n",
       "    <tr>\n",
       "      <th>286</th>\n",
       "      <td>111-04</td>\n",
       "      <td>Representation</td>\n",
       "      <td>111</td>\n",
       "      <td>Legal</td>\n",
       "    </tr>\n",
       "    <tr>\n",
       "      <th>287</th>\n",
       "      <td>111-05</td>\n",
       "      <td>Translation &amp; Interpretation</td>\n",
       "      <td>111</td>\n",
       "      <td>Legal</td>\n",
       "    </tr>\n",
       "  </tbody>\n",
       "</table>\n",
       "</div>"
      ],
      "text/plain": [
       "    taxonomy_id                            name parent_id  \\\n",
       "278   111-01-02       Citizenship & Immigration    111-01   \n",
       "279   111-01-03   Discrimination & Civil Rights    111-01   \n",
       "280   111-01-04                    Guardianship    111-01   \n",
       "281   111-01-05         Identification Recovery    111-01   \n",
       "282   111-01-06  Understand Government Programs    111-01   \n",
       "283   111-01-07                Workplace Rights    111-01   \n",
       "284      111-02                       Mediation       111   \n",
       "285      111-03                          Notary       111   \n",
       "286      111-04                  Representation       111   \n",
       "287      111-05    Translation & Interpretation       111   \n",
       "\n",
       "              parent_name  \n",
       "278  Advocacy & Legal Aid  \n",
       "279  Advocacy & Legal Aid  \n",
       "280  Advocacy & Legal Aid  \n",
       "281  Advocacy & Legal Aid  \n",
       "282  Advocacy & Legal Aid  \n",
       "283  Advocacy & Legal Aid  \n",
       "284                 Legal  \n",
       "285                 Legal  \n",
       "286                 Legal  \n",
       "287                 Legal  "
      ]
     },
     "execution_count": 8,
     "metadata": {},
     "output_type": "execute_result"
    }
   ],
   "source": [
    "df.tail(10)"
   ]
  },
  {
   "cell_type": "code",
   "execution_count": 9,
   "id": "02b8aa35",
   "metadata": {},
   "outputs": [
    {
     "data": {
      "text/plain": [
       "Index(['taxonomy_id', 'name', 'parent_id', 'parent_name'], dtype='object')"
      ]
     },
     "execution_count": 9,
     "metadata": {},
     "output_type": "execute_result"
    }
   ],
   "source": [
    "df.columns"
   ]
  },
  {
   "cell_type": "code",
   "execution_count": 10,
   "id": "cfc9dd20",
   "metadata": {},
   "outputs": [
    {
     "data": {
      "text/plain": [
       "taxonomy_id    object\n",
       "name           object\n",
       "parent_id      object\n",
       "parent_name    object\n",
       "dtype: object"
      ]
     },
     "execution_count": 10,
     "metadata": {},
     "output_type": "execute_result"
    }
   ],
   "source": [
    "df.dtypes"
   ]
  },
  {
   "cell_type": "code",
   "execution_count": 11,
   "id": "fd20d20a",
   "metadata": {},
   "outputs": [
    {
     "data": {
      "text/html": [
       "<div>\n",
       "<style scoped>\n",
       "    .dataframe tbody tr th:only-of-type {\n",
       "        vertical-align: middle;\n",
       "    }\n",
       "\n",
       "    .dataframe tbody tr th {\n",
       "        vertical-align: top;\n",
       "    }\n",
       "\n",
       "    .dataframe thead th {\n",
       "        text-align: right;\n",
       "    }\n",
       "</style>\n",
       "<table border=\"1\" class=\"dataframe\">\n",
       "  <thead>\n",
       "    <tr style=\"text-align: right;\">\n",
       "      <th></th>\n",
       "      <th>taxonomy_id</th>\n",
       "      <th>name</th>\n",
       "      <th>parent_id</th>\n",
       "    </tr>\n",
       "  </thead>\n",
       "  <tbody>\n",
       "    <tr>\n",
       "      <th>0</th>\n",
       "      <td>101-01</td>\n",
       "      <td>Disaster Response</td>\n",
       "      <td>101</td>\n",
       "    </tr>\n",
       "    <tr>\n",
       "      <th>1</th>\n",
       "      <td>101-02-01</td>\n",
       "      <td>Help Pay for Food</td>\n",
       "      <td>101-02</td>\n",
       "    </tr>\n",
       "    <tr>\n",
       "      <th>2</th>\n",
       "      <td>101-02-02</td>\n",
       "      <td>Help Pay for Healthcare</td>\n",
       "      <td>101-02</td>\n",
       "    </tr>\n",
       "    <tr>\n",
       "      <th>3</th>\n",
       "      <td>101-02-03</td>\n",
       "      <td>Help Pay for Housing</td>\n",
       "      <td>101-02</td>\n",
       "    </tr>\n",
       "    <tr>\n",
       "      <th>4</th>\n",
       "      <td>101-02-04</td>\n",
       "      <td>Help Pay for Gas</td>\n",
       "      <td>101-02</td>\n",
       "    </tr>\n",
       "    <tr>\n",
       "      <th>...</th>\n",
       "      <td>...</td>\n",
       "      <td>...</td>\n",
       "      <td>...</td>\n",
       "    </tr>\n",
       "    <tr>\n",
       "      <th>283</th>\n",
       "      <td>111-01-07</td>\n",
       "      <td>Workplace Rights</td>\n",
       "      <td>111-01</td>\n",
       "    </tr>\n",
       "    <tr>\n",
       "      <th>284</th>\n",
       "      <td>111-02</td>\n",
       "      <td>Mediation</td>\n",
       "      <td>111</td>\n",
       "    </tr>\n",
       "    <tr>\n",
       "      <th>285</th>\n",
       "      <td>111-03</td>\n",
       "      <td>Notary</td>\n",
       "      <td>111</td>\n",
       "    </tr>\n",
       "    <tr>\n",
       "      <th>286</th>\n",
       "      <td>111-04</td>\n",
       "      <td>Representation</td>\n",
       "      <td>111</td>\n",
       "    </tr>\n",
       "    <tr>\n",
       "      <th>287</th>\n",
       "      <td>111-05</td>\n",
       "      <td>Translation &amp; Interpretation</td>\n",
       "      <td>111</td>\n",
       "    </tr>\n",
       "  </tbody>\n",
       "</table>\n",
       "<p>288 rows × 3 columns</p>\n",
       "</div>"
      ],
      "text/plain": [
       "    taxonomy_id                          name parent_id\n",
       "0        101-01             Disaster Response       101\n",
       "1     101-02-01             Help Pay for Food    101-02\n",
       "2     101-02-02       Help Pay for Healthcare    101-02\n",
       "3     101-02-03          Help Pay for Housing    101-02\n",
       "4     101-02-04              Help Pay for Gas    101-02\n",
       "..          ...                           ...       ...\n",
       "283   111-01-07              Workplace Rights    111-01\n",
       "284      111-02                     Mediation       111\n",
       "285      111-03                        Notary       111\n",
       "286      111-04                Representation       111\n",
       "287      111-05  Translation & Interpretation       111\n",
       "\n",
       "[288 rows x 3 columns]"
      ]
     },
     "execution_count": 11,
     "metadata": {},
     "output_type": "execute_result"
    }
   ],
   "source": [
    "df[['taxonomy_id','name','parent_id']]\n"
   ]
  },
  {
   "cell_type": "code",
   "execution_count": 12,
   "id": "d8f82183",
   "metadata": {},
   "outputs": [],
   "source": [
    "a=df['name']"
   ]
  },
  {
   "cell_type": "code",
   "execution_count": 13,
   "id": "5b819e59",
   "metadata": {},
   "outputs": [
    {
     "data": {
      "text/plain": [
       "0                 Disaster Response\n",
       "1                 Help Pay for Food\n",
       "2           Help Pay for Healthcare\n",
       "3              Help Pay for Housing\n",
       "4                  Help Pay for Gas\n",
       "                   ...             \n",
       "283                Workplace Rights\n",
       "284                       Mediation\n",
       "285                          Notary\n",
       "286                  Representation\n",
       "287    Translation & Interpretation\n",
       "Name: name, Length: 288, dtype: object"
      ]
     },
     "execution_count": 13,
     "metadata": {},
     "output_type": "execute_result"
    }
   ],
   "source": [
    "type(a)\n",
    "a"
   ]
  },
  {
   "cell_type": "code",
   "execution_count": 14,
   "id": "1eef77fa",
   "metadata": {},
   "outputs": [],
   "source": [
    "b=df[['taxonomy_id','name','parent_id']]\n"
   ]
  },
  {
   "cell_type": "code",
   "execution_count": 15,
   "id": "f6039c11",
   "metadata": {},
   "outputs": [
    {
     "data": {
      "text/plain": [
       "pandas.core.frame.DataFrame"
      ]
     },
     "execution_count": 15,
     "metadata": {},
     "output_type": "execute_result"
    }
   ],
   "source": [
    "type(b)"
   ]
  },
  {
   "cell_type": "code",
   "execution_count": 16,
   "id": "c5e19e13",
   "metadata": {},
   "outputs": [
    {
     "data": {
      "text/html": [
       "<div>\n",
       "<style scoped>\n",
       "    .dataframe tbody tr th:only-of-type {\n",
       "        vertical-align: middle;\n",
       "    }\n",
       "\n",
       "    .dataframe tbody tr th {\n",
       "        vertical-align: top;\n",
       "    }\n",
       "\n",
       "    .dataframe thead th {\n",
       "        text-align: right;\n",
       "    }\n",
       "</style>\n",
       "<table border=\"1\" class=\"dataframe\">\n",
       "  <thead>\n",
       "    <tr style=\"text-align: right;\">\n",
       "      <th></th>\n",
       "      <th>taxonomy_id</th>\n",
       "    </tr>\n",
       "  </thead>\n",
       "  <tbody>\n",
       "    <tr>\n",
       "      <th>0</th>\n",
       "      <td>101-01</td>\n",
       "    </tr>\n",
       "    <tr>\n",
       "      <th>1</th>\n",
       "      <td>101-02-01</td>\n",
       "    </tr>\n",
       "    <tr>\n",
       "      <th>2</th>\n",
       "      <td>101-02-02</td>\n",
       "    </tr>\n",
       "    <tr>\n",
       "      <th>3</th>\n",
       "      <td>101-02-03</td>\n",
       "    </tr>\n",
       "    <tr>\n",
       "      <th>4</th>\n",
       "      <td>101-02-04</td>\n",
       "    </tr>\n",
       "    <tr>\n",
       "      <th>...</th>\n",
       "      <td>...</td>\n",
       "    </tr>\n",
       "    <tr>\n",
       "      <th>283</th>\n",
       "      <td>111-01-07</td>\n",
       "    </tr>\n",
       "    <tr>\n",
       "      <th>284</th>\n",
       "      <td>111-02</td>\n",
       "    </tr>\n",
       "    <tr>\n",
       "      <th>285</th>\n",
       "      <td>111-03</td>\n",
       "    </tr>\n",
       "    <tr>\n",
       "      <th>286</th>\n",
       "      <td>111-04</td>\n",
       "    </tr>\n",
       "    <tr>\n",
       "      <th>287</th>\n",
       "      <td>111-05</td>\n",
       "    </tr>\n",
       "  </tbody>\n",
       "</table>\n",
       "<p>288 rows × 1 columns</p>\n",
       "</div>"
      ],
      "text/plain": [
       "    taxonomy_id\n",
       "0        101-01\n",
       "1     101-02-01\n",
       "2     101-02-02\n",
       "3     101-02-03\n",
       "4     101-02-04\n",
       "..          ...\n",
       "283   111-01-07\n",
       "284      111-02\n",
       "285      111-03\n",
       "286      111-04\n",
       "287      111-05\n",
       "\n",
       "[288 rows x 1 columns]"
      ]
     },
     "execution_count": 16,
     "metadata": {},
     "output_type": "execute_result"
    }
   ],
   "source": [
    "c=df[['taxonomy_id']]\n",
    "c"
   ]
  },
  {
   "cell_type": "code",
   "execution_count": 17,
   "id": "442e0b1a",
   "metadata": {},
   "outputs": [
    {
     "data": {
      "text/html": [
       "<div>\n",
       "<style scoped>\n",
       "    .dataframe tbody tr th:only-of-type {\n",
       "        vertical-align: middle;\n",
       "    }\n",
       "\n",
       "    .dataframe tbody tr th {\n",
       "        vertical-align: top;\n",
       "    }\n",
       "\n",
       "    .dataframe thead th {\n",
       "        text-align: right;\n",
       "    }\n",
       "</style>\n",
       "<table border=\"1\" class=\"dataframe\">\n",
       "  <thead>\n",
       "    <tr style=\"text-align: right;\">\n",
       "      <th></th>\n",
       "      <th>Unnamed: 0</th>\n",
       "      <th>Unnamed: 1</th>\n",
       "      <th>Unnamed: 2</th>\n",
       "      <th>Unnamed: 3</th>\n",
       "      <th>Unnamed: 4</th>\n",
       "    </tr>\n",
       "  </thead>\n",
       "  <tbody>\n",
       "    <tr>\n",
       "      <th>0</th>\n",
       "      <td>NaN</td>\n",
       "      <td>NaN</td>\n",
       "      <td>NaN</td>\n",
       "      <td>NaN</td>\n",
       "      <td>NaN</td>\n",
       "    </tr>\n",
       "    <tr>\n",
       "      <th>1</th>\n",
       "      <td>NaN</td>\n",
       "      <td>NaN</td>\n",
       "      <td>NaN</td>\n",
       "      <td>NaN</td>\n",
       "      <td>NaN</td>\n",
       "    </tr>\n",
       "    <tr>\n",
       "      <th>2</th>\n",
       "      <td>NaN</td>\n",
       "      <td>NaN</td>\n",
       "      <td>NaN</td>\n",
       "      <td>NaN</td>\n",
       "      <td>NaN</td>\n",
       "    </tr>\n",
       "    <tr>\n",
       "      <th>3</th>\n",
       "      <td>NaN</td>\n",
       "      <td>NaN</td>\n",
       "      <td>NaN</td>\n",
       "      <td>NaN</td>\n",
       "      <td>NaN</td>\n",
       "    </tr>\n",
       "    <tr>\n",
       "      <th>4</th>\n",
       "      <td>NaN</td>\n",
       "      <td>NaN</td>\n",
       "      <td>NaN</td>\n",
       "      <td>NaN</td>\n",
       "      <td>NaN</td>\n",
       "    </tr>\n",
       "    <tr>\n",
       "      <th>5</th>\n",
       "      <td>NaN</td>\n",
       "      <td>NaN</td>\n",
       "      <td>NaN</td>\n",
       "      <td>NaN</td>\n",
       "      <td>NaN</td>\n",
       "    </tr>\n",
       "    <tr>\n",
       "      <th>6</th>\n",
       "      <td>NaN</td>\n",
       "      <td>NaN</td>\n",
       "      <td>NaN</td>\n",
       "      <td>NaN</td>\n",
       "      <td>NaN</td>\n",
       "    </tr>\n",
       "    <tr>\n",
       "      <th>7</th>\n",
       "      <td>NaN</td>\n",
       "      <td>NaN</td>\n",
       "      <td>NaN</td>\n",
       "      <td>NaN</td>\n",
       "      <td>NaN</td>\n",
       "    </tr>\n",
       "    <tr>\n",
       "      <th>8</th>\n",
       "      <td>NaN</td>\n",
       "      <td>NaN</td>\n",
       "      <td>NaN</td>\n",
       "      <td>NaN</td>\n",
       "      <td>NaN</td>\n",
       "    </tr>\n",
       "    <tr>\n",
       "      <th>9</th>\n",
       "      <td>NaN</td>\n",
       "      <td>NaN</td>\n",
       "      <td>NaN</td>\n",
       "      <td>NaN</td>\n",
       "      <td>NaN</td>\n",
       "    </tr>\n",
       "    <tr>\n",
       "      <th>10</th>\n",
       "      <td>NaN</td>\n",
       "      <td>NaN</td>\n",
       "      <td>NaN</td>\n",
       "      <td>NaN</td>\n",
       "      <td>NaN</td>\n",
       "    </tr>\n",
       "    <tr>\n",
       "      <th>11</th>\n",
       "      <td>NaN</td>\n",
       "      <td>NaN</td>\n",
       "      <td>NaN</td>\n",
       "      <td>NaN</td>\n",
       "      <td>NaN</td>\n",
       "    </tr>\n",
       "    <tr>\n",
       "      <th>12</th>\n",
       "      <td>NaN</td>\n",
       "      <td>NaN</td>\n",
       "      <td>NaN</td>\n",
       "      <td>NaN</td>\n",
       "      <td>NaN</td>\n",
       "    </tr>\n",
       "    <tr>\n",
       "      <th>13</th>\n",
       "      <td>NaN</td>\n",
       "      <td>NaN</td>\n",
       "      <td>NaN</td>\n",
       "      <td>NaN</td>\n",
       "      <td>The Challenge</td>\n",
       "    </tr>\n",
       "    <tr>\n",
       "      <th>14</th>\n",
       "      <td>NaN</td>\n",
       "      <td>NaN</td>\n",
       "      <td>NaN</td>\n",
       "      <td>NaN</td>\n",
       "      <td>NaN</td>\n",
       "    </tr>\n",
       "    <tr>\n",
       "      <th>15</th>\n",
       "      <td>NaN</td>\n",
       "      <td>NaN</td>\n",
       "      <td>NaN</td>\n",
       "      <td>NaN</td>\n",
       "      <td>You are an asset manager who has recently secu...</td>\n",
       "    </tr>\n",
       "    <tr>\n",
       "      <th>16</th>\n",
       "      <td>NaN</td>\n",
       "      <td>NaN</td>\n",
       "      <td>NaN</td>\n",
       "      <td>NaN</td>\n",
       "      <td>NaN</td>\n",
       "    </tr>\n",
       "    <tr>\n",
       "      <th>17</th>\n",
       "      <td>NaN</td>\n",
       "      <td>NaN</td>\n",
       "      <td>NaN</td>\n",
       "      <td>NaN</td>\n",
       "      <td>As part of the investment agreement with the p...</td>\n",
       "    </tr>\n",
       "    <tr>\n",
       "      <th>18</th>\n",
       "      <td>NaN</td>\n",
       "      <td>NaN</td>\n",
       "      <td>NaN</td>\n",
       "      <td>NaN</td>\n",
       "      <td>NaN</td>\n",
       "    </tr>\n",
       "    <tr>\n",
       "      <th>19</th>\n",
       "      <td>NaN</td>\n",
       "      <td>NaN</td>\n",
       "      <td>NaN</td>\n",
       "      <td>NaN</td>\n",
       "      <td>The Solution</td>\n",
       "    </tr>\n",
       "    <tr>\n",
       "      <th>20</th>\n",
       "      <td>NaN</td>\n",
       "      <td>NaN</td>\n",
       "      <td>NaN</td>\n",
       "      <td>NaN</td>\n",
       "      <td>NaN</td>\n",
       "    </tr>\n",
       "    <tr>\n",
       "      <th>21</th>\n",
       "      <td>NaN</td>\n",
       "      <td>NaN</td>\n",
       "      <td>NaN</td>\n",
       "      <td>NaN</td>\n",
       "      <td>Using LUSID you can mirror your live investmen...</td>\n",
       "    </tr>\n",
       "    <tr>\n",
       "      <th>22</th>\n",
       "      <td>NaN</td>\n",
       "      <td>NaN</td>\n",
       "      <td>NaN</td>\n",
       "      <td>NaN</td>\n",
       "      <td>NaN</td>\n",
       "    </tr>\n",
       "    <tr>\n",
       "      <th>23</th>\n",
       "      <td>NaN</td>\n",
       "      <td>NaN</td>\n",
       "      <td>NaN</td>\n",
       "      <td>NaN</td>\n",
       "      <td>1) Creating your live production environment f...</td>\n",
       "    </tr>\n",
       "    <tr>\n",
       "      <th>24</th>\n",
       "      <td>NaN</td>\n",
       "      <td>NaN</td>\n",
       "      <td>NaN</td>\n",
       "      <td>NaN</td>\n",
       "      <td>NaN</td>\n",
       "    </tr>\n",
       "    <tr>\n",
       "      <th>25</th>\n",
       "      <td>NaN</td>\n",
       "      <td>NaN</td>\n",
       "      <td>NaN</td>\n",
       "      <td>NaN</td>\n",
       "      <td>2) Creating your instrument universe</td>\n",
       "    </tr>\n",
       "    <tr>\n",
       "      <th>26</th>\n",
       "      <td>NaN</td>\n",
       "      <td>NaN</td>\n",
       "      <td>NaN</td>\n",
       "      <td>NaN</td>\n",
       "      <td>NaN</td>\n",
       "    </tr>\n",
       "    <tr>\n",
       "      <th>27</th>\n",
       "      <td>NaN</td>\n",
       "      <td>NaN</td>\n",
       "      <td>NaN</td>\n",
       "      <td>NaN</td>\n",
       "      <td>3) Adding your take on balances for your clien...</td>\n",
       "    </tr>\n",
       "    <tr>\n",
       "      <th>28</th>\n",
       "      <td>NaN</td>\n",
       "      <td>NaN</td>\n",
       "      <td>NaN</td>\n",
       "      <td>NaN</td>\n",
       "      <td>NaN</td>\n",
       "    </tr>\n",
       "    <tr>\n",
       "      <th>29</th>\n",
       "      <td>NaN</td>\n",
       "      <td>NaN</td>\n",
       "      <td>NaN</td>\n",
       "      <td>NaN</td>\n",
       "      <td>4) Creating your test environment and using de...</td>\n",
       "    </tr>\n",
       "    <tr>\n",
       "      <th>30</th>\n",
       "      <td>NaN</td>\n",
       "      <td>NaN</td>\n",
       "      <td>NaN</td>\n",
       "      <td>NaN</td>\n",
       "      <td>NaN</td>\n",
       "    </tr>\n",
       "    <tr>\n",
       "      <th>31</th>\n",
       "      <td>NaN</td>\n",
       "      <td>NaN</td>\n",
       "      <td>NaN</td>\n",
       "      <td>NaN</td>\n",
       "      <td>5) Making some trades for your client in your ...</td>\n",
       "    </tr>\n",
       "    <tr>\n",
       "      <th>32</th>\n",
       "      <td>NaN</td>\n",
       "      <td>NaN</td>\n",
       "      <td>NaN</td>\n",
       "      <td>NaN</td>\n",
       "      <td>NaN</td>\n",
       "    </tr>\n",
       "    <tr>\n",
       "      <th>33</th>\n",
       "      <td>NaN</td>\n",
       "      <td>NaN</td>\n",
       "      <td>NaN</td>\n",
       "      <td>NaN</td>\n",
       "      <td>6) Adding some transactions to your test envir...</td>\n",
       "    </tr>\n",
       "  </tbody>\n",
       "</table>\n",
       "</div>"
      ],
      "text/plain": [
       "    Unnamed: 0  Unnamed: 1  Unnamed: 2  Unnamed: 3  \\\n",
       "0          NaN         NaN         NaN         NaN   \n",
       "1          NaN         NaN         NaN         NaN   \n",
       "2          NaN         NaN         NaN         NaN   \n",
       "3          NaN         NaN         NaN         NaN   \n",
       "4          NaN         NaN         NaN         NaN   \n",
       "5          NaN         NaN         NaN         NaN   \n",
       "6          NaN         NaN         NaN         NaN   \n",
       "7          NaN         NaN         NaN         NaN   \n",
       "8          NaN         NaN         NaN         NaN   \n",
       "9          NaN         NaN         NaN         NaN   \n",
       "10         NaN         NaN         NaN         NaN   \n",
       "11         NaN         NaN         NaN         NaN   \n",
       "12         NaN         NaN         NaN         NaN   \n",
       "13         NaN         NaN         NaN         NaN   \n",
       "14         NaN         NaN         NaN         NaN   \n",
       "15         NaN         NaN         NaN         NaN   \n",
       "16         NaN         NaN         NaN         NaN   \n",
       "17         NaN         NaN         NaN         NaN   \n",
       "18         NaN         NaN         NaN         NaN   \n",
       "19         NaN         NaN         NaN         NaN   \n",
       "20         NaN         NaN         NaN         NaN   \n",
       "21         NaN         NaN         NaN         NaN   \n",
       "22         NaN         NaN         NaN         NaN   \n",
       "23         NaN         NaN         NaN         NaN   \n",
       "24         NaN         NaN         NaN         NaN   \n",
       "25         NaN         NaN         NaN         NaN   \n",
       "26         NaN         NaN         NaN         NaN   \n",
       "27         NaN         NaN         NaN         NaN   \n",
       "28         NaN         NaN         NaN         NaN   \n",
       "29         NaN         NaN         NaN         NaN   \n",
       "30         NaN         NaN         NaN         NaN   \n",
       "31         NaN         NaN         NaN         NaN   \n",
       "32         NaN         NaN         NaN         NaN   \n",
       "33         NaN         NaN         NaN         NaN   \n",
       "\n",
       "                                           Unnamed: 4  \n",
       "0                                                 NaN  \n",
       "1                                                 NaN  \n",
       "2                                                 NaN  \n",
       "3                                                 NaN  \n",
       "4                                                 NaN  \n",
       "5                                                 NaN  \n",
       "6                                                 NaN  \n",
       "7                                                 NaN  \n",
       "8                                                 NaN  \n",
       "9                                                 NaN  \n",
       "10                                                NaN  \n",
       "11                                                NaN  \n",
       "12                                                NaN  \n",
       "13                                      The Challenge  \n",
       "14                                                NaN  \n",
       "15  You are an asset manager who has recently secu...  \n",
       "16                                                NaN  \n",
       "17  As part of the investment agreement with the p...  \n",
       "18                                                NaN  \n",
       "19                                       The Solution  \n",
       "20                                                NaN  \n",
       "21  Using LUSID you can mirror your live investmen...  \n",
       "22                                                NaN  \n",
       "23  1) Creating your live production environment f...  \n",
       "24                                                NaN  \n",
       "25               2) Creating your instrument universe  \n",
       "26                                                NaN  \n",
       "27  3) Adding your take on balances for your clien...  \n",
       "28                                                NaN  \n",
       "29  4) Creating your test environment and using de...  \n",
       "30                                                NaN  \n",
       "31  5) Making some trades for your client in your ...  \n",
       "32                                                NaN  \n",
       "33  6) Adding some transactions to your test envir...  "
      ]
     },
     "execution_count": 17,
     "metadata": {},
     "output_type": "execute_result"
    }
   ],
   "source": [
    "df3=pd.read_excel('LUSID Excel - Business Agility - Making Simple Changes Quickly & Easily.xlsx',sheet_name='Introduction')\n",
    "df3"
   ]
  },
  {
   "cell_type": "code",
   "execution_count": 18,
   "id": "c5c43be7",
   "metadata": {},
   "outputs": [
    {
     "data": {
      "text/plain": [
       "['Create Portfolio',\n",
       " 'Introduction',\n",
       " 'Create your instrument universe',\n",
       " 'Add your take on balances',\n",
       " 'Create your test environment',\n",
       " 'Make live trades in production',\n",
       " 'Add some test transactions',\n",
       " 'Inputs']"
      ]
     },
     "execution_count": 18,
     "metadata": {},
     "output_type": "execute_result"
    }
   ],
   "source": [
    "df4=pd.ExcelFile('LUSID Excel - Business Agility - Making Simple Changes Quickly & Easily.xlsx')\n",
    "df4.sheet_names"
   ]
  },
  {
   "cell_type": "code",
   "execution_count": 19,
   "id": "26a2b9bd",
   "metadata": {},
   "outputs": [
    {
     "ename": "AttributeError",
     "evalue": "'DataFrame' object has no attribute 'sheet_names'",
     "output_type": "error",
     "traceback": [
      "\u001b[1;31m---------------------------------------------------------------------------\u001b[0m",
      "\u001b[1;31mAttributeError\u001b[0m                            Traceback (most recent call last)",
      "\u001b[1;32m~\\AppData\\Local\\Temp/ipykernel_16480/779365956.py\u001b[0m in \u001b[0;36m<module>\u001b[1;34m\u001b[0m\n\u001b[1;32m----> 1\u001b[1;33m \u001b[1;32mfor\u001b[0m \u001b[0mi\u001b[0m \u001b[1;32min\u001b[0m \u001b[0mdf\u001b[0m\u001b[1;33m.\u001b[0m\u001b[0msheet_names\u001b[0m\u001b[1;33m:\u001b[0m\u001b[1;33m\u001b[0m\u001b[1;33m\u001b[0m\u001b[0m\n\u001b[0m\u001b[0;32m      2\u001b[0m     \u001b[0mpd\u001b[0m\u001b[1;33m.\u001b[0m\u001b[0mread_csv\u001b[0m\u001b[1;33m(\u001b[0m\u001b[1;34m'LUSID Excel - Business Agility - Making Simple Changes Quickly & Easily.xlsx'\u001b[0m\u001b[1;33m,\u001b[0m\u001b[0msheet_name\u001b[0m\u001b[1;33m=\u001b[0m\u001b[0mi\u001b[0m\u001b[1;33m)\u001b[0m\u001b[1;33m\u001b[0m\u001b[1;33m\u001b[0m\u001b[0m\n",
      "\u001b[1;32m~\\AppData\\Roaming\\Python\\Python39\\site-packages\\pandas\\core\\generic.py\u001b[0m in \u001b[0;36m__getattr__\u001b[1;34m(self, name)\u001b[0m\n\u001b[0;32m   5573\u001b[0m         ):\n\u001b[0;32m   5574\u001b[0m             \u001b[1;32mreturn\u001b[0m \u001b[0mself\u001b[0m\u001b[1;33m[\u001b[0m\u001b[0mname\u001b[0m\u001b[1;33m]\u001b[0m\u001b[1;33m\u001b[0m\u001b[1;33m\u001b[0m\u001b[0m\n\u001b[1;32m-> 5575\u001b[1;33m         \u001b[1;32mreturn\u001b[0m \u001b[0mobject\u001b[0m\u001b[1;33m.\u001b[0m\u001b[0m__getattribute__\u001b[0m\u001b[1;33m(\u001b[0m\u001b[0mself\u001b[0m\u001b[1;33m,\u001b[0m \u001b[0mname\u001b[0m\u001b[1;33m)\u001b[0m\u001b[1;33m\u001b[0m\u001b[1;33m\u001b[0m\u001b[0m\n\u001b[0m\u001b[0;32m   5576\u001b[0m \u001b[1;33m\u001b[0m\u001b[0m\n\u001b[0;32m   5577\u001b[0m     \u001b[1;32mdef\u001b[0m \u001b[0m__setattr__\u001b[0m\u001b[1;33m(\u001b[0m\u001b[0mself\u001b[0m\u001b[1;33m,\u001b[0m \u001b[0mname\u001b[0m\u001b[1;33m:\u001b[0m \u001b[0mstr\u001b[0m\u001b[1;33m,\u001b[0m \u001b[0mvalue\u001b[0m\u001b[1;33m)\u001b[0m \u001b[1;33m->\u001b[0m \u001b[1;32mNone\u001b[0m\u001b[1;33m:\u001b[0m\u001b[1;33m\u001b[0m\u001b[1;33m\u001b[0m\u001b[0m\n",
      "\u001b[1;31mAttributeError\u001b[0m: 'DataFrame' object has no attribute 'sheet_names'"
     ]
    }
   ],
   "source": [
    "for i in df.sheet_names:\n",
    "    pd.read_csv('LUSID Excel - Business Agility - Making Simple Changes Quickly & Easily.xlsx',sheet_name=i)"
   ]
  },
  {
   "cell_type": "code",
   "execution_count": null,
   "id": "f014e512",
   "metadata": {},
   "outputs": [],
   "source": [
    "pd.read_csv('https://raw.githubusercontent.com/datasciencedojo/datasets/master/titanic.csv')"
   ]
  },
  {
   "cell_type": "markdown",
   "id": "c1f3673b",
   "metadata": {},
   "source": [
    "# Day2 "
   ]
  },
  {
   "cell_type": "code",
   "execution_count": null,
   "id": "2ab51c0a",
   "metadata": {},
   "outputs": [],
   "source": []
  },
  {
   "cell_type": "code",
   "execution_count": null,
   "id": "e1391d8f",
   "metadata": {},
   "outputs": [],
   "source": [
    "pip install lxml"
   ]
  },
  {
   "cell_type": "code",
   "execution_count": null,
   "id": "2b4c640d",
   "metadata": {},
   "outputs": [],
   "source": [
    "\n",
    "//extrct tabular data only \n",
    "pd.read_html('https://www.basketball-reference.com/leagues/NBA_2015_totals.html')"
   ]
  },
  {
   "cell_type": "code",
   "execution_count": null,
   "id": "9e071832",
   "metadata": {},
   "outputs": [],
   "source": [
    "df.to_csv('Adman.csv',index=False,header=False)"
   ]
  },
  {
   "cell_type": "code",
   "execution_count": null,
   "id": "7f2ef55a",
   "metadata": {},
   "outputs": [],
   "source": [
    "pd.read_html('https://stats.espncricinfo.com/ci/engine/records/averages/batting.html?class=2;id=2020;type=year')"
   ]
  },
  {
   "cell_type": "code",
   "execution_count": null,
   "id": "2a7196a2",
   "metadata": {},
   "outputs": [],
   "source": [
    "d=\"\"\"\n",
    "{\n",
    "\"name\": \"Adnan\",\n",
    "\"email\": \"xyz@gmail.com\",\n",
    "\"tech\": [\"ML\", \"DL\", \"DA\"],\n",
    "\"platform\": [\"A\", \"B\", \"C\"]\n",
    "}\n",
    "\"\"\""
   ]
  },
  {
   "cell_type": "code",
   "execution_count": null,
   "id": "de70510b",
   "metadata": {},
   "outputs": [],
   "source": [
    "import json"
   ]
  },
  {
   "cell_type": "code",
   "execution_count": null,
   "id": "e1bdc702",
   "metadata": {},
   "outputs": [],
   "source": [
    "res=json.loads(d)"
   ]
  },
  {
   "cell_type": "code",
   "execution_count": null,
   "id": "55b04f92",
   "metadata": {},
   "outputs": [],
   "source": [
    "res"
   ]
  },
  {
   "cell_type": "code",
   "execution_count": null,
   "id": "cdae70ef",
   "metadata": {},
   "outputs": [],
   "source": [
    "type(res)"
   ]
  },
  {
   "cell_type": "code",
   "execution_count": null,
   "id": "b4098de9",
   "metadata": {},
   "outputs": [],
   "source": [
    "result=pd.DataFrame(res)"
   ]
  },
  {
   "cell_type": "code",
   "execution_count": null,
   "id": "d74e572b",
   "metadata": {},
   "outputs": [],
   "source": [
    "res['name']"
   ]
  },
  {
   "cell_type": "code",
   "execution_count": null,
   "id": "036fce63",
   "metadata": {},
   "outputs": [],
   "source": [
    "res['tech']"
   ]
  },
  {
   "cell_type": "code",
   "execution_count": null,
   "id": "a350a0bf",
   "metadata": {},
   "outputs": [],
   "source": [
    "pd.DataFrame(res['name'])"
   ]
  },
  {
   "cell_type": "code",
   "execution_count": null,
   "id": "42d8d13a",
   "metadata": {},
   "outputs": [],
   "source": [
    "pd.DataFrame(res['tech'])"
   ]
  },
  {
   "cell_type": "code",
   "execution_count": null,
   "id": "9af79fea",
   "metadata": {},
   "outputs": [],
   "source": [
    "# del df['xyz colm']  if any mismqtch in list length"
   ]
  },
  {
   "cell_type": "code",
   "execution_count": null,
   "id": "a6a2cfd8",
   "metadata": {},
   "outputs": [],
   "source": [
    "data={ \n",
    "    \"coffee\": {\n",
    "        \"region\": [\n",
    "            {\"id\":1,\"name\":\"John Doe\"},\n",
    "            {\"id\":2,\"name\":\"Don Joeh\"}\n",
    "        ],\n",
    "        \"country\": {\"id\":2,\"company\":\"ACME\"}\n",
    "    }, \n",
    "    \"brewing\": {\n",
    "        \"region\": [\n",
    "            {\"id\":1,\"name\":\"John Doe\"},\n",
    "            {\"id\":2,\"name\":\"Don Joeh\"}\n",
    "        ],\n",
    "        \"country\": {\"id\":2,\"company\":\"ACME\"}\n",
    "    }\n",
    "\n",
    "\n",
    "}"
   ]
  },
  {
   "cell_type": "code",
   "execution_count": null,
   "id": "7d724ae1",
   "metadata": {},
   "outputs": [],
   "source": [
    "x=data['coffee']['region']\n",
    "x"
   ]
  },
  {
   "cell_type": "code",
   "execution_count": null,
   "id": "ae4a40d5",
   "metadata": {},
   "outputs": [],
   "source": [
    "pd.DataFrame(x)"
   ]
  },
  {
   "cell_type": "code",
   "execution_count": null,
   "id": "48f2c021",
   "metadata": {},
   "outputs": [],
   "source": [
    "dfNew=pd.read_json('https://api.github.com/repos/pandas-dev/pandas/issues')"
   ]
  },
  {
   "cell_type": "code",
   "execution_count": null,
   "id": "b93832f4",
   "metadata": {},
   "outputs": [],
   "source": [
    "dfNew"
   ]
  },
  {
   "cell_type": "code",
   "execution_count": null,
   "id": "d7815334",
   "metadata": {},
   "outputs": [],
   "source": [
    "import requests\n",
    "url=\"https://api.github.com/repos/pandas-dev/pandas/issues\";"
   ]
  },
  {
   "cell_type": "code",
   "execution_count": null,
   "id": "92ce2e94",
   "metadata": {},
   "outputs": [],
   "source": [
    "data=requests.get(url)"
   ]
  },
  {
   "cell_type": "code",
   "execution_count": null,
   "id": "bcf08e4a",
   "metadata": {},
   "outputs": [],
   "source": [
    "data"
   ]
  },
  {
   "cell_type": "code",
   "execution_count": null,
   "id": "2242a52f",
   "metadata": {},
   "outputs": [],
   "source": [
    "data1=data.json()\n",
    "data1"
   ]
  },
  {
   "cell_type": "code",
   "execution_count": null,
   "id": "b88b7ed8",
   "metadata": {},
   "outputs": [],
   "source": [
    "# unique Dictionaries\n",
    "len(data1)"
   ]
  },
  {
   "cell_type": "code",
   "execution_count": null,
   "id": "291b511c",
   "metadata": {},
   "outputs": [],
   "source": [
    "data1[0]['user']['id']"
   ]
  },
  {
   "cell_type": "code",
   "execution_count": null,
   "id": "82b2d6b6",
   "metadata": {},
   "outputs": [],
   "source": [
    "for i in range(len(data1)):\n",
    "    print(data1[i]['user']['id'])"
   ]
  },
  {
   "cell_type": "code",
   "execution_count": null,
   "id": "3cf5d39d",
   "metadata": {},
   "outputs": [],
   "source": [
    "data1"
   ]
  },
  {
   "cell_type": "code",
   "execution_count": null,
   "id": "2e02b9df",
   "metadata": {},
   "outputs": [],
   "source": [
    "pd.DataFrame(data1)"
   ]
  },
  {
   "cell_type": "code",
   "execution_count": null,
   "id": "dede6300",
   "metadata": {},
   "outputs": [],
   "source": [
    "df2=pd.DataFrame(data1,columns=['id','url','repository_url','labels_url','user'])"
   ]
  },
  {
   "cell_type": "code",
   "execution_count": null,
   "id": "abbf667a",
   "metadata": {},
   "outputs": [],
   "source": [
    "df2.to_csv('JSONRESPONSE.csv')"
   ]
  },
  {
   "cell_type": "code",
   "execution_count": null,
   "id": "bf5c0784",
   "metadata": {},
   "outputs": [],
   "source": [
    "df2.head()"
   ]
  },
  {
   "cell_type": "code",
   "execution_count": null,
   "id": "342d99e5",
   "metadata": {},
   "outputs": [],
   "source": [
    "# pd.DataFrame(df2[['user']],columns=['login',id])\n"
   ]
  },
  {
   "cell_type": "code",
   "execution_count": null,
   "id": "cda80de3",
   "metadata": {},
   "outputs": [],
   "source": [
    "# Challenge"
   ]
  },
  {
   "cell_type": "code",
   "execution_count": null,
   "id": "479590ab",
   "metadata": {},
   "outputs": [],
   "source": [
    "x=[];\n",
    "y=[];\n",
    "for i in range(0,len(df2)):\n",
    "    x.append(df2['user'][i]['login'])\n",
    "    y.append(df2['user'][i]['id'])\n",
    "x\n",
    "y"
   ]
  },
  {
   "cell_type": "code",
   "execution_count": null,
   "id": "65ebbe34",
   "metadata": {},
   "outputs": [],
   "source": [
    "df2['login']=x\n",
    "df2['user_id']=y\n",
    "df2"
   ]
  },
  {
   "cell_type": "markdown",
   "id": "39c17cff",
   "metadata": {},
   "source": [
    "# Day3"
   ]
  },
  {
   "cell_type": "code",
   "execution_count": null,
   "id": "e4d55443",
   "metadata": {},
   "outputs": [],
   "source": [
    "dfTitanic=pd.read_csv('https://raw.githubusercontent.com/datasciencedojo/datasets/master/titanic.csv')\n",
    "dfTitanic"
   ]
  },
  {
   "cell_type": "code",
   "execution_count": null,
   "id": "4c627549",
   "metadata": {},
   "outputs": [],
   "source": [
    "dfTitanic.dtypes"
   ]
  },
  {
   "cell_type": "code",
   "execution_count": null,
   "id": "e8d956d2",
   "metadata": {},
   "outputs": [],
   "source": [
    "dfTitanic.info()"
   ]
  },
  {
   "cell_type": "code",
   "execution_count": null,
   "id": "da979f45",
   "metadata": {},
   "outputs": [],
   "source": [
    "dfTitanic.describe()"
   ]
  },
  {
   "cell_type": "code",
   "execution_count": null,
   "id": "ab860bc0",
   "metadata": {},
   "outputs": [],
   "source": [
    "dfTitanic['PassengerId'].sum()/891"
   ]
  },
  {
   "cell_type": "code",
   "execution_count": null,
   "id": "be52bf96",
   "metadata": {},
   "outputs": [],
   "source": [
    "dfTitanic.columns"
   ]
  },
  {
   "cell_type": "code",
   "execution_count": null,
   "id": "45af0c84",
   "metadata": {},
   "outputs": [],
   "source": [
    "dfTitanic.dtypes==\"object\""
   ]
  },
  {
   "cell_type": "code",
   "execution_count": null,
   "id": "cc5f0e0e",
   "metadata": {},
   "outputs": [],
   "source": [
    "type(dfTitanic.dtypes)"
   ]
  },
  {
   "cell_type": "code",
   "execution_count": null,
   "id": "5aeefb66",
   "metadata": {},
   "outputs": [],
   "source": [
    "dfTitanic.dtypes[dfTitanic.dtypes==\"object\"]"
   ]
  },
  {
   "cell_type": "code",
   "execution_count": null,
   "id": "47c3c739",
   "metadata": {},
   "outputs": [],
   "source": [
    "list=[1,3,4,5,\"Adnan\",\"Heman\"]\n"
   ]
  },
  {
   "cell_type": "code",
   "execution_count": null,
   "id": "76481c4c",
   "metadata": {},
   "outputs": [],
   "source": [
    "list[0]"
   ]
  },
  {
   "cell_type": "code",
   "execution_count": null,
   "id": "0e95e444",
   "metadata": {},
   "outputs": [],
   "source": [
    "list[list==4]"
   ]
  },
  {
   "cell_type": "code",
   "execution_count": null,
   "id": "8120a749",
   "metadata": {},
   "outputs": [],
   "source": [
    "col_name=dfTitanic.dtypes[dfTitanic.dtypes==\"object\"].index"
   ]
  },
  {
   "cell_type": "code",
   "execution_count": null,
   "id": "c2cbd3e0",
   "metadata": {},
   "outputs": [],
   "source": [
    "col_name"
   ]
  },
  {
   "cell_type": "code",
   "execution_count": null,
   "id": "65d3bf0b",
   "metadata": {},
   "outputs": [],
   "source": [
    "dfTitanic[col_name].describe()"
   ]
  },
  {
   "cell_type": "code",
   "execution_count": null,
   "id": "f04dbc01",
   "metadata": {},
   "outputs": [],
   "source": [
    "dfTitanic['Ineuron']=\"Adnan\""
   ]
  },
  {
   "cell_type": "code",
   "execution_count": null,
   "id": "04ad792a",
   "metadata": {},
   "outputs": [],
   "source": [
    "dfTitanic"
   ]
  },
  {
   "cell_type": "code",
   "execution_count": null,
   "id": "f92d2505",
   "metadata": {},
   "outputs": [],
   "source": [
    "dfTitanic['Name'][0:15]"
   ]
  },
  {
   "cell_type": "code",
   "execution_count": null,
   "id": "9f63a591",
   "metadata": {},
   "outputs": [],
   "source": [
    "dfTitanic['Name'][0:15:2]"
   ]
  },
  {
   "cell_type": "code",
   "execution_count": null,
   "id": "2726d7a2",
   "metadata": {},
   "outputs": [],
   "source": [
    "dfTitanic['Name'][15:0:-1]"
   ]
  },
  {
   "cell_type": "code",
   "execution_count": null,
   "id": "2b8be9ce",
   "metadata": {},
   "outputs": [],
   "source": [
    "dfTitanic[dfTitanic[\"Age\"].isnull()==True]"
   ]
  },
  {
   "cell_type": "code",
   "execution_count": null,
   "id": "f06fcade",
   "metadata": {},
   "outputs": [],
   "source": [
    "age_null_indexes=dfTitanic[dfTitanic[\"Age\"].isnull()==True].index\n",
    "age_null_indexes"
   ]
  },
  {
   "cell_type": "code",
   "execution_count": null,
   "id": "d9216620",
   "metadata": {},
   "outputs": [],
   "source": [
    "dfTitanic.loc[age_null_indexes]"
   ]
  },
  {
   "cell_type": "code",
   "execution_count": null,
   "id": "2a8067ea",
   "metadata": {},
   "outputs": [],
   "source": [
    "dfTitanic['Fare'].max()"
   ]
  },
  {
   "cell_type": "code",
   "execution_count": null,
   "id": "f79f1ecd",
   "metadata": {},
   "outputs": [],
   "source": [
    "dfTitanic[dfTitanic['Fare']==dfTitanic['Fare'].max()]['Name'].values"
   ]
  },
  {
   "cell_type": "code",
   "execution_count": null,
   "id": "da8aac10",
   "metadata": {},
   "outputs": [],
   "source": [
    "dfTitanic.head()"
   ]
  },
  {
   "cell_type": "code",
   "execution_count": null,
   "id": "3b3bca01",
   "metadata": {},
   "outputs": [],
   "source": [
    "# Challenges"
   ]
  },
  {
   "cell_type": "code",
   "execution_count": null,
   "id": "0af91d27",
   "metadata": {},
   "outputs": [],
   "source": [
    "male=len(dfTitanic[dfTitanic['Sex']==\"male\"])\n",
    "# Or"
   ]
  },
  {
   "cell_type": "code",
   "execution_count": null,
   "id": "a050396a",
   "metadata": {},
   "outputs": [],
   "source": [
    "dfTitanic.groupby('Sex').size()"
   ]
  },
  {
   "cell_type": "code",
   "execution_count": null,
   "id": "e4453d2e",
   "metadata": {},
   "outputs": [],
   "source": [
    "female=len(dfTitanic[dfTitanic['Sex']==\"female\"])\n",
    "female"
   ]
  },
  {
   "cell_type": "code",
   "execution_count": null,
   "id": "ae70e7f6",
   "metadata": {},
   "outputs": [],
   "source": [
    "len(dfTitanic[dfTitanic['Survived']==1])"
   ]
  },
  {
   "cell_type": "code",
   "execution_count": null,
   "id": "b763c9ed",
   "metadata": {},
   "outputs": [],
   "source": [
    "dfTitanic[dfTitanic['Age']==dfTitanic['Age'].max()]['Name']"
   ]
  },
  {
   "cell_type": "code",
   "execution_count": null,
   "id": "96e6f7dc",
   "metadata": {},
   "outputs": [],
   "source": [
    "len(dfTitanic[dfTitanic['Pclass']==1])\n",
    "len(dfTitanic[dfTitanic['Pclass']==2])\n",
    "len(dfTitanic[dfTitanic['Pclass']==3])\n"
   ]
  },
  {
   "cell_type": "code",
   "execution_count": null,
   "id": "cbdabb6f",
   "metadata": {},
   "outputs": [],
   "source": [
    "dfTitanic['Pclass'].value_counts()"
   ]
  },
  {
   "cell_type": "code",
   "execution_count": null,
   "id": "b8b2b758",
   "metadata": {},
   "outputs": [],
   "source": [
    "dfTitanic[dfTitanic['Name'].str.startswith('S')]"
   ]
  },
  {
   "cell_type": "code",
   "execution_count": null,
   "id": "6aee1a63",
   "metadata": {},
   "outputs": [],
   "source": [
    "dfTitanic.groupby('Pclass')['Pclass'].count()"
   ]
  },
  {
   "cell_type": "code",
   "execution_count": null,
   "id": "5574ba6a",
   "metadata": {},
   "outputs": [],
   "source": [
    "dfTitanic['New Column']=dfTitanic['SibSp']+dfTitanic['Parch']"
   ]
  },
  {
   "cell_type": "code",
   "execution_count": null,
   "id": "77b6356e",
   "metadata": {},
   "outputs": [],
   "source": [
    "dfTitanic"
   ]
  },
  {
   "cell_type": "code",
   "execution_count": null,
   "id": "d0861a6b",
   "metadata": {},
   "outputs": [],
   "source": [
    "len(dfTitanic[dfTitanic['Age']<25])"
   ]
  },
  {
   "cell_type": "code",
   "execution_count": null,
   "id": "a0380a95",
   "metadata": {},
   "outputs": [],
   "source": [
    "len(dfTitanic[(dfTitanic['Age']<40) &  (dfTitanic['Survived']==0)])\n"
   ]
  },
  {
   "cell_type": "code",
   "execution_count": null,
   "id": "cb4023fe",
   "metadata": {},
   "outputs": [],
   "source": [
    "dfTitanic['Cabin']"
   ]
  },
  {
   "cell_type": "code",
   "execution_count": null,
   "id": "147890e1",
   "metadata": {},
   "outputs": [],
   "source": [
    "import re\n",
    "replace=re.compile(\"([a-zA-Z]+)\")"
   ]
  },
  {
   "cell_type": "code",
   "execution_count": null,
   "id": "35b5db34",
   "metadata": {},
   "outputs": [],
   "source": [
    "dfTitanic['srting_cabin']=dfTitanic['Cabin'].str.extract(replace)\n",
    "dfTitanic['num_cabin']=dfTitanic['Cabin'].str.replace(replace,\"\")\n",
    "dfTitanic"
   ]
  },
  {
   "cell_type": "code",
   "execution_count": null,
   "id": "523a0fd3",
   "metadata": {},
   "outputs": [],
   "source": [
    "df=pd.read_csv('C:\\\\Users\\\\1933958\\\\Desktop\\\\DataScience\\\\bank.csv',sep=';')\n",
    "df"
   ]
  },
  {
   "cell_type": "code",
   "execution_count": null,
   "id": "2e7a40c2",
   "metadata": {},
   "outputs": [],
   "source": [
    "# challenge"
   ]
  },
  {
   "cell_type": "code",
   "execution_count": null,
   "id": "e4cb0f0d",
   "metadata": {},
   "outputs": [],
   "source": [
    "len(df['campaign'].unique())"
   ]
  },
  {
   "cell_type": "code",
   "execution_count": null,
   "id": "507dd81c",
   "metadata": {},
   "outputs": [],
   "source": [
    "dfnew =df[(df['housing']=='yes') & (df['loan']=='yes')]"
   ]
  },
  {
   "cell_type": "code",
   "execution_count": null,
   "id": "327a670e",
   "metadata": {},
   "outputs": [],
   "source": [
    "len(dfnew)"
   ]
  },
  {
   "cell_type": "code",
   "execution_count": null,
   "id": "b62acf7f",
   "metadata": {},
   "outputs": [],
   "source": [
    "df['month'].value_counts().index[0]"
   ]
  },
  {
   "cell_type": "code",
   "execution_count": null,
   "id": "2150c6fa",
   "metadata": {},
   "outputs": [],
   "source": [
    "dfgroup=df.groupby(['contact','y']).count()\n",
    "dfgroup"
   ]
  },
  {
   "cell_type": "code",
   "execution_count": null,
   "id": "edac0a1d",
   "metadata": {},
   "outputs": [],
   "source": [
    "dfgroup.loc['cellular','yes']\n",
    "dfgroup.loc['telephone','yes']\n"
   ]
  },
  {
   "cell_type": "code",
   "execution_count": null,
   "id": "55b54492",
   "metadata": {},
   "outputs": [],
   "source": [
    "len(df[df['job']=='entrepreneur'])"
   ]
  },
  {
   "cell_type": "code",
   "execution_count": null,
   "id": "17b8f73c",
   "metadata": {},
   "outputs": [],
   "source": [
    "len(df[df['balance']<0])"
   ]
  },
  {
   "cell_type": "code",
   "execution_count": null,
   "id": "155e196a",
   "metadata": {},
   "outputs": [],
   "source": [
    "df.groupby('education')['education'].count()"
   ]
  },
  {
   "cell_type": "code",
   "execution_count": null,
   "id": "773031c8",
   "metadata": {},
   "outputs": [],
   "source": [
    "df['education'].unique()"
   ]
  },
  {
   "cell_type": "code",
   "execution_count": null,
   "id": "c42c55b0",
   "metadata": {},
   "outputs": [],
   "source": [
    "l=[]\n",
    "for i in df['education'].unique():\n",
    "    l.append(df[df['education']==i])\n"
   ]
  },
  {
   "cell_type": "code",
   "execution_count": null,
   "id": "1c0558a8",
   "metadata": {},
   "outputs": [],
   "source": [
    "l[0]"
   ]
  },
  {
   "cell_type": "code",
   "execution_count": null,
   "id": "6558a75f",
   "metadata": {},
   "outputs": [],
   "source": [
    "l[1]"
   ]
  },
  {
   "cell_type": "markdown",
   "id": "1a4b3bde",
   "metadata": {},
   "source": [
    "# Day 4"
   ]
  },
  {
   "cell_type": "code",
   "execution_count": null,
   "id": "1edfed3d",
   "metadata": {},
   "outputs": [],
   "source": [
    "import pandas as pd\n",
    "import numpy as np"
   ]
  },
  {
   "cell_type": "code",
   "execution_count": null,
   "id": "471c1556",
   "metadata": {},
   "outputs": [],
   "source": [
    "dfTitanic"
   ]
  },
  {
   "cell_type": "code",
   "execution_count": null,
   "id": "762d99bd",
   "metadata": {},
   "outputs": [],
   "source": [
    "dfTitanic.dropna(axis=1)"
   ]
  },
  {
   "cell_type": "code",
   "execution_count": null,
   "id": "b8023452",
   "metadata": {},
   "outputs": [],
   "source": [
    "dfTitanic.isnull().sum()"
   ]
  },
  {
   "cell_type": "code",
   "execution_count": null,
   "id": "6d040686",
   "metadata": {},
   "outputs": [],
   "source": [
    "dfTitanic.dropna(axis=1,thresh=800,how =\"all\")"
   ]
  },
  {
   "cell_type": "code",
   "execution_count": null,
   "id": "6bcd1896",
   "metadata": {},
   "outputs": [],
   "source": [
    "dfTitanic.fillna(value=\"Adnan\")"
   ]
  },
  {
   "cell_type": "code",
   "execution_count": null,
   "id": "8ff8880a",
   "metadata": {},
   "outputs": [],
   "source": [
    "dfTitanic.fillna(value=dfTitanic['Age'].mean())"
   ]
  },
  {
   "cell_type": "code",
   "execution_count": null,
   "id": "4eb6562d",
   "metadata": {},
   "outputs": [],
   "source": [
    "dfTitanic.groupby(['Survived']).describe()"
   ]
  },
  {
   "cell_type": "code",
   "execution_count": null,
   "id": "0641c23a",
   "metadata": {},
   "outputs": [],
   "source": [
    "dfTitanic.groupby(['Survived']).describe()['PassengerId'].transpose()"
   ]
  },
  {
   "cell_type": "code",
   "execution_count": null,
   "id": "ffed7fb8",
   "metadata": {},
   "outputs": [],
   "source": [
    "df2=df.head(5)\n",
    "df3=df.tail(5)"
   ]
  },
  {
   "cell_type": "code",
   "execution_count": null,
   "id": "aa5efd43",
   "metadata": {},
   "outputs": [],
   "source": [
    "df5=pd.concat([df2,df3],axis=1)\n",
    "df5"
   ]
  },
  {
   "cell_type": "code",
   "execution_count": null,
   "id": "d6a51ed3",
   "metadata": {},
   "outputs": [],
   "source": [
    "df5['age']"
   ]
  },
  {
   "cell_type": "markdown",
   "id": "f6eaccb9",
   "metadata": {},
   "source": []
  },
  {
   "cell_type": "code",
   "execution_count": null,
   "id": "37a8318f",
   "metadata": {},
   "outputs": [],
   "source": [
    "df5.iloc[:,[3,4]]"
   ]
  },
  {
   "cell_type": "code",
   "execution_count": null,
   "id": "01de3bd5",
   "metadata": {},
   "outputs": [],
   "source": [
    "df5.iloc[[4,5],[3,4]]"
   ]
  },
  {
   "cell_type": "code",
   "execution_count": null,
   "id": "234622c9",
   "metadata": {},
   "outputs": [],
   "source": [
    "df.loc[[1,4519],'age']"
   ]
  },
  {
   "cell_type": "code",
   "execution_count": null,
   "id": "0b6a82f7",
   "metadata": {},
   "outputs": [],
   "source": [
    "df2"
   ]
  },
  {
   "cell_type": "code",
   "execution_count": null,
   "id": "a622d686",
   "metadata": {},
   "outputs": [],
   "source": [
    "df2.iloc[[1,2],[2,3]]"
   ]
  },
  {
   "cell_type": "code",
   "execution_count": null,
   "id": "cef5b825",
   "metadata": {},
   "outputs": [],
   "source": [
    "df2.loc[[1,2],['marital','education']]"
   ]
  },
  {
   "cell_type": "code",
   "execution_count": null,
   "id": "7addf431",
   "metadata": {},
   "outputs": [],
   "source": [
    "pd.merge(df2,df3,on='age',how=\"left\")"
   ]
  },
  {
   "cell_type": "code",
   "execution_count": null,
   "id": "16db7970",
   "metadata": {},
   "outputs": [],
   "source": [
    "pd.merge(df2,df3,on='age',how=\"right\")"
   ]
  },
  {
   "cell_type": "code",
   "execution_count": null,
   "id": "2e3947cc",
   "metadata": {},
   "outputs": [],
   "source": [
    "pd.merge(df2,df3,on='age',how=\"outer\")"
   ]
  },
  {
   "cell_type": "code",
   "execution_count": null,
   "id": "95fafa9e",
   "metadata": {},
   "outputs": [],
   "source": [
    "df2.join(df3,on='age')"
   ]
  },
  {
   "cell_type": "code",
   "execution_count": null,
   "id": "073f51e4",
   "metadata": {},
   "outputs": [],
   "source": [
    "df2=df2.set_index('age')\n",
    "df2.rename(columns={''})"
   ]
  },
  {
   "cell_type": "code",
   "execution_count": null,
   "id": "615dd22f",
   "metadata": {},
   "outputs": [],
   "source": [
    "df3=df3.set_index('age')"
   ]
  },
  {
   "cell_type": "code",
   "execution_count": null,
   "id": "a2ed6248",
   "metadata": {},
   "outputs": [],
   "source": [
    "df2.join(df3,on='age')"
   ]
  },
  {
   "cell_type": "markdown",
   "id": "e78ae874",
   "metadata": {},
   "source": [
    "# Day5"
   ]
  },
  {
   "cell_type": "code",
   "execution_count": null,
   "id": "55390cbd",
   "metadata": {},
   "outputs": [],
   "source": [
    "df=pd.DataFrame({'col1':[1,2,3,4,5],\n",
    "               'col2':[23,32,12,34,22],\n",
    "                'col3':\"Syed Mohammad Adnan Mian Sahab\".split(\" \") })\n",
    "\n",
    "df"
   ]
  },
  {
   "cell_type": "code",
   "execution_count": null,
   "id": "6c6372cb",
   "metadata": {},
   "outputs": [],
   "source": [
    "df['col4']=df['col1']**2\n",
    "df"
   ]
  },
  {
   "cell_type": "code",
   "execution_count": null,
   "id": "f587cfe8",
   "metadata": {},
   "outputs": [],
   "source": [
    "df['col5']=df['col3'].str[0]\n",
    "df"
   ]
  },
  {
   "cell_type": "code",
   "execution_count": null,
   "id": "e8b6486b",
   "metadata": {},
   "outputs": [],
   "source": [
    "def test(a):\n",
    "    return a**2"
   ]
  },
  {
   "cell_type": "code",
   "execution_count": null,
   "id": "7f2f1f6e",
   "metadata": {},
   "outputs": [],
   "source": [
    "df['col_4']=df['col1'].apply(test)\n",
    "df"
   ]
  },
  {
   "cell_type": "code",
   "execution_count": null,
   "id": "31b95f2c",
   "metadata": {},
   "outputs": [],
   "source": [
    "def test2(val):\n",
    "    if(val==\"S\"):\n",
    "        return \"S\"\n",
    "    else:\n",
    "        return \"Z\""
   ]
  },
  {
   "cell_type": "code",
   "execution_count": null,
   "id": "4745ca3f",
   "metadata": {},
   "outputs": [],
   "source": [
    "df['col6']=df['col5'].apply(test2)"
   ]
  },
  {
   "cell_type": "code",
   "execution_count": null,
   "id": "9750d38a",
   "metadata": {},
   "outputs": [],
   "source": [
    "df"
   ]
  },
  {
   "cell_type": "code",
   "execution_count": null,
   "id": "ee66e494",
   "metadata": {},
   "outputs": [],
   "source": [
    "df['col6_6']=df['col5'].apply(lambda val:\"S\" if val==\"S\" else \"Z\")"
   ]
  },
  {
   "cell_type": "code",
   "execution_count": null,
   "id": "385abdd5",
   "metadata": {},
   "outputs": [],
   "source": [
    "df"
   ]
  },
  {
   "cell_type": "code",
   "execution_count": null,
   "id": "8952c384",
   "metadata": {},
   "outputs": [],
   "source": [
    "df['col7']=df['col3'].apply(len)\n",
    "df"
   ]
  },
  {
   "cell_type": "code",
   "execution_count": null,
   "id": "3973490f",
   "metadata": {},
   "outputs": [],
   "source": [
    "import math\n",
    "df['col8']=df['col2'].apply(math.log)"
   ]
  },
  {
   "cell_type": "code",
   "execution_count": null,
   "id": "670d8a0f",
   "metadata": {
    "scrolled": true
   },
   "outputs": [],
   "source": [
    "df"
   ]
  },
  {
   "cell_type": "markdown",
   "id": "f6b47a2f",
   "metadata": {},
   "source": [
    "# NUMPY"
   ]
  },
  {
   "cell_type": "code",
   "execution_count": null,
   "id": "54840c3e",
   "metadata": {},
   "outputs": [],
   "source": [
    "import numpy as np"
   ]
  },
  {
   "cell_type": "code",
   "execution_count": null,
   "id": "917e9d7b",
   "metadata": {},
   "outputs": [],
   "source": [
    "l=[\"Adnan\",1,3,4,5,6]\n",
    "type(l)"
   ]
  },
  {
   "cell_type": "code",
   "execution_count": null,
   "id": "369d4a8b",
   "metadata": {},
   "outputs": [],
   "source": [
    "a=np.array(l)\n",
    "a"
   ]
  },
  {
   "cell_type": "code",
   "execution_count": null,
   "id": "7af91265",
   "metadata": {},
   "outputs": [],
   "source": [
    "type(a)"
   ]
  },
  {
   "cell_type": "code",
   "execution_count": null,
   "id": "9229109a",
   "metadata": {},
   "outputs": [],
   "source": [
    "c=np.array([3,4,5,6,7.0])\n",
    "c"
   ]
  },
  {
   "cell_type": "code",
   "execution_count": null,
   "id": "44223ceb",
   "metadata": {},
   "outputs": [],
   "source": [
    "b=np.array([[1,2],[3,4]])\n",
    "b"
   ]
  },
  {
   "cell_type": "code",
   "execution_count": null,
   "id": "2d8934d7",
   "metadata": {},
   "outputs": [],
   "source": [
    "b[1][1]"
   ]
  },
  {
   "cell_type": "code",
   "execution_count": null,
   "id": "6a679ffb",
   "metadata": {},
   "outputs": [],
   "source": [
    "c[1]"
   ]
  },
  {
   "cell_type": "code",
   "execution_count": null,
   "id": "9e0f150e",
   "metadata": {},
   "outputs": [],
   "source": [
    "d=np.array([1,2,3,4],ndmin=3)\n",
    "d"
   ]
  },
  {
   "cell_type": "code",
   "execution_count": null,
   "id": "95b83f41",
   "metadata": {},
   "outputs": [],
   "source": [
    "d[0][0][0]"
   ]
  },
  {
   "cell_type": "code",
   "execution_count": null,
   "id": "abd4ad52",
   "metadata": {},
   "outputs": [],
   "source": [
    "np.asanyarray([1,2,3,4,5])"
   ]
  },
  {
   "cell_type": "code",
   "execution_count": null,
   "id": "2ba2b0a0",
   "metadata": {},
   "outputs": [],
   "source": [
    "np.asarray([1,2,3,4,5])"
   ]
  },
  {
   "cell_type": "code",
   "execution_count": null,
   "id": "d8b03b27",
   "metadata": {},
   "outputs": [],
   "source": [
    "np.mat([1,2,3,4,5])"
   ]
  },
  {
   "cell_type": "code",
   "execution_count": null,
   "id": "bfc757bc",
   "metadata": {},
   "outputs": [],
   "source": [
    "a=[1,2,3,4,5,6]\n",
    "np.asanyarray(a)"
   ]
  },
  {
   "cell_type": "code",
   "execution_count": null,
   "id": "31dac917",
   "metadata": {},
   "outputs": [],
   "source": [
    "np.mat(a)"
   ]
  },
  {
   "cell_type": "code",
   "execution_count": null,
   "id": "92a2c418",
   "metadata": {},
   "outputs": [],
   "source": [
    "np.asanyarray(np.mat(a))"
   ]
  },
  {
   "cell_type": "code",
   "execution_count": null,
   "id": "3055a0f9",
   "metadata": {},
   "outputs": [],
   "source": [
    "np.fromfunction(lambda i,j:i==j ,(3,3))"
   ]
  },
  {
   "cell_type": "code",
   "execution_count": null,
   "id": "8ad11e1c",
   "metadata": {},
   "outputs": [],
   "source": [
    "np.fromfunction(lambda i,j:i*j ,(4,4),dtype=int)"
   ]
  },
  {
   "cell_type": "code",
   "execution_count": null,
   "id": "427f5b1c",
   "metadata": {},
   "outputs": [],
   "source": [
    "y=np.mat(np.fromfunction(lambda i,j:i*j ,(4,4),dtype=int))\n",
    "y"
   ]
  },
  {
   "cell_type": "code",
   "execution_count": null,
   "id": "75e2b0be",
   "metadata": {},
   "outputs": [],
   "source": [
    "\n",
    "z=np.fromfunction(lambda i,j,z:i*j*z ,(3,3,2),dtype=int)\n",
    "z"
   ]
  },
  {
   "cell_type": "code",
   "execution_count": null,
   "id": "71f7e21e",
   "metadata": {},
   "outputs": [],
   "source": [
    "z"
   ]
  },
  {
   "cell_type": "code",
   "execution_count": null,
   "id": "8d882a32",
   "metadata": {},
   "outputs": [],
   "source": [
    "z.ndim"
   ]
  },
  {
   "cell_type": "code",
   "execution_count": null,
   "id": "e9f38631",
   "metadata": {},
   "outputs": [],
   "source": [
    "z.size"
   ]
  },
  {
   "cell_type": "code",
   "execution_count": null,
   "id": "4d9b9fed",
   "metadata": {},
   "outputs": [],
   "source": [
    "z.shape"
   ]
  },
  {
   "cell_type": "code",
   "execution_count": null,
   "id": "da520098",
   "metadata": {},
   "outputs": [],
   "source": [
    "z.dtype"
   ]
  },
  {
   "cell_type": "code",
   "execution_count": null,
   "id": "35c7605b",
   "metadata": {},
   "outputs": [],
   "source": [
    "y=np.mat(np.fromfunction(lambda i,j:i*j ,(400,100),dtype=int))\n",
    "pd.DataFrame(y)"
   ]
  },
  {
   "cell_type": "code",
   "execution_count": null,
   "id": "2e79cde4",
   "metadata": {},
   "outputs": [],
   "source": [
    "x=np.random.rand(100,4)\n",
    "x"
   ]
  },
  {
   "cell_type": "code",
   "execution_count": null,
   "id": "524e57c8",
   "metadata": {},
   "outputs": [],
   "source": [
    "y=np.random.randint(4,50)\n",
    "y"
   ]
  },
  {
   "cell_type": "code",
   "execution_count": null,
   "id": "51549219",
   "metadata": {},
   "outputs": [],
   "source": [
    "n=np.random.randn(4,5)\n",
    "n"
   ]
  },
  {
   "cell_type": "code",
   "execution_count": null,
   "id": "8dfe4af8",
   "metadata": {},
   "outputs": [],
   "source": [
    "pd.DataFrame(n)"
   ]
  },
  {
   "cell_type": "code",
   "execution_count": null,
   "id": "85259296",
   "metadata": {},
   "outputs": [],
   "source": [
    "z"
   ]
  },
  {
   "cell_type": "code",
   "execution_count": null,
   "id": "f83de4ae",
   "metadata": {},
   "outputs": [],
   "source": [
    "z=z.reshape(6,3)\n",
    "z"
   ]
  },
  {
   "cell_type": "code",
   "execution_count": null,
   "id": "57f951d4",
   "metadata": {},
   "outputs": [],
   "source": [
    "pd.DataFrame(z)"
   ]
  },
  {
   "cell_type": "code",
   "execution_count": null,
   "id": "79dc609c",
   "metadata": {},
   "outputs": [],
   "source": [
    "z=np.fromfunction(lambda i,j,z:i*j*z ,(4,3,2),dtype=int)\n",
    "z"
   ]
  },
  {
   "cell_type": "code",
   "execution_count": null,
   "id": "ce4d66bb",
   "metadata": {},
   "outputs": [],
   "source": [
    "z.reshape(4,-1)"
   ]
  },
  {
   "cell_type": "code",
   "execution_count": null,
   "id": "3b622541",
   "metadata": {},
   "outputs": [],
   "source": [
    "z.reshape(2,-1)"
   ]
  },
  {
   "cell_type": "code",
   "execution_count": null,
   "id": "2236ef00",
   "metadata": {},
   "outputs": [],
   "source": [
    "z.reshape(2,-102345)"
   ]
  },
  {
   "cell_type": "code",
   "execution_count": null,
   "id": "4faddf29",
   "metadata": {},
   "outputs": [],
   "source": [
    "list(range(4,10,2))"
   ]
  },
  {
   "cell_type": "code",
   "execution_count": null,
   "id": "726023d5",
   "metadata": {},
   "outputs": [],
   "source": [
    "a1=np.arange(4,10.5,0.2)\n",
    "a1"
   ]
  },
  {
   "cell_type": "code",
   "execution_count": null,
   "id": "29b75c0e",
   "metadata": {},
   "outputs": [],
   "source": [
    "a1[1:4]"
   ]
  },
  {
   "cell_type": "code",
   "execution_count": null,
   "id": "9a45bd7b",
   "metadata": {},
   "outputs": [],
   "source": [
    "arr=np.random.rand(4,5)\n",
    "arr"
   ]
  },
  {
   "cell_type": "code",
   "execution_count": null,
   "id": "b21fb78d",
   "metadata": {},
   "outputs": [],
   "source": [
    "arr[arr>0.5]"
   ]
  },
  {
   "cell_type": "code",
   "execution_count": null,
   "id": "452524ab",
   "metadata": {},
   "outputs": [],
   "source": [
    "arr"
   ]
  },
  {
   "cell_type": "code",
   "execution_count": null,
   "id": "25cf6378",
   "metadata": {},
   "outputs": [],
   "source": [
    "arr[1:3,2]"
   ]
  },
  {
   "cell_type": "code",
   "execution_count": null,
   "id": "55bdce55",
   "metadata": {},
   "outputs": [],
   "source": [
    "arr=np.random.rand(8,5)\n",
    "arr"
   ]
  },
  {
   "cell_type": "code",
   "execution_count": null,
   "id": "7c58fe45",
   "metadata": {},
   "outputs": [],
   "source": [
    "a2=arr[1:,0:3]\n",
    "a2"
   ]
  },
  {
   "cell_type": "code",
   "execution_count": null,
   "id": "71abb0b0",
   "metadata": {},
   "outputs": [],
   "source": [
    "a2[0][0]=120\n",
    "a2"
   ]
  },
  {
   "cell_type": "code",
   "execution_count": null,
   "id": "77e5cecc",
   "metadata": {},
   "outputs": [],
   "source": [
    "a=np.array([[1,2],[3,4]])\n",
    "b=np.array([[5,6],[7,8]])"
   ]
  },
  {
   "cell_type": "code",
   "execution_count": null,
   "id": "328b403f",
   "metadata": {},
   "outputs": [],
   "source": [
    "a"
   ]
  },
  {
   "cell_type": "code",
   "execution_count": null,
   "id": "b45bbf13",
   "metadata": {},
   "outputs": [],
   "source": [
    "b"
   ]
  },
  {
   "cell_type": "code",
   "execution_count": null,
   "id": "55c3358d",
   "metadata": {},
   "outputs": [],
   "source": [
    "a*b"
   ]
  },
  {
   "cell_type": "code",
   "execution_count": null,
   "id": "cb8572ac",
   "metadata": {},
   "outputs": [],
   "source": [
    "# Matrix Multiplication\n",
    "m=a@b"
   ]
  },
  {
   "cell_type": "code",
   "execution_count": null,
   "id": "9adb61c9",
   "metadata": {},
   "outputs": [],
   "source": [
    "m/0"
   ]
  },
  {
   "cell_type": "markdown",
   "id": "d9dd91c2",
   "metadata": {},
   "source": [
    "# NUMPY PART2"
   ]
  },
  {
   "cell_type": "code",
   "execution_count": 20,
   "id": "311d1c26",
   "metadata": {},
   "outputs": [],
   "source": [
    "import numpy as np"
   ]
  },
  {
   "cell_type": "code",
   "execution_count": 23,
   "id": "ab6fce57",
   "metadata": {},
   "outputs": [
    {
     "data": {
      "text/plain": [
       "array([0., 0., 0., 0., 0.])"
      ]
     },
     "execution_count": 23,
     "metadata": {},
     "output_type": "execute_result"
    }
   ],
   "source": [
    "np.zeros(5)"
   ]
  },
  {
   "cell_type": "code",
   "execution_count": 26,
   "id": "828328f0",
   "metadata": {},
   "outputs": [
    {
     "data": {
      "text/plain": [
       "array([[0., 0., 0., 0.],\n",
       "       [0., 0., 0., 0.],\n",
       "       [0., 0., 0., 0.]])"
      ]
     },
     "execution_count": 26,
     "metadata": {},
     "output_type": "execute_result"
    }
   ],
   "source": [
    "np.zeros((3,4))"
   ]
  },
  {
   "cell_type": "code",
   "execution_count": 27,
   "id": "e0e2451b",
   "metadata": {},
   "outputs": [
    {
     "data": {
      "text/plain": [
       "array([[[0., 0., 0., 0., 0.],\n",
       "        [0., 0., 0., 0., 0.],\n",
       "        [0., 0., 0., 0., 0.],\n",
       "        [0., 0., 0., 0., 0.]],\n",
       "\n",
       "       [[0., 0., 0., 0., 0.],\n",
       "        [0., 0., 0., 0., 0.],\n",
       "        [0., 0., 0., 0., 0.],\n",
       "        [0., 0., 0., 0., 0.]],\n",
       "\n",
       "       [[0., 0., 0., 0., 0.],\n",
       "        [0., 0., 0., 0., 0.],\n",
       "        [0., 0., 0., 0., 0.],\n",
       "        [0., 0., 0., 0., 0.]]])"
      ]
     },
     "execution_count": 27,
     "metadata": {},
     "output_type": "execute_result"
    }
   ],
   "source": [
    "np.zeros((3,4,5))"
   ]
  },
  {
   "cell_type": "code",
   "execution_count": 28,
   "id": "03f92455",
   "metadata": {},
   "outputs": [
    {
     "data": {
      "text/plain": [
       "array([1., 1., 1., 1., 1.])"
      ]
     },
     "execution_count": 28,
     "metadata": {},
     "output_type": "execute_result"
    }
   ],
   "source": [
    "np.ones(5)"
   ]
  },
  {
   "cell_type": "code",
   "execution_count": 31,
   "id": "82378f24",
   "metadata": {},
   "outputs": [],
   "source": [
    "a=np.ones((3,5))"
   ]
  },
  {
   "cell_type": "code",
   "execution_count": 32,
   "id": "8b58f9d7",
   "metadata": {},
   "outputs": [
    {
     "data": {
      "text/html": [
       "<div>\n",
       "<style scoped>\n",
       "    .dataframe tbody tr th:only-of-type {\n",
       "        vertical-align: middle;\n",
       "    }\n",
       "\n",
       "    .dataframe tbody tr th {\n",
       "        vertical-align: top;\n",
       "    }\n",
       "\n",
       "    .dataframe thead th {\n",
       "        text-align: right;\n",
       "    }\n",
       "</style>\n",
       "<table border=\"1\" class=\"dataframe\">\n",
       "  <thead>\n",
       "    <tr style=\"text-align: right;\">\n",
       "      <th></th>\n",
       "      <th>0</th>\n",
       "      <th>1</th>\n",
       "      <th>2</th>\n",
       "      <th>3</th>\n",
       "      <th>4</th>\n",
       "    </tr>\n",
       "  </thead>\n",
       "  <tbody>\n",
       "    <tr>\n",
       "      <th>0</th>\n",
       "      <td>1.0</td>\n",
       "      <td>1.0</td>\n",
       "      <td>1.0</td>\n",
       "      <td>1.0</td>\n",
       "      <td>1.0</td>\n",
       "    </tr>\n",
       "    <tr>\n",
       "      <th>1</th>\n",
       "      <td>1.0</td>\n",
       "      <td>1.0</td>\n",
       "      <td>1.0</td>\n",
       "      <td>1.0</td>\n",
       "      <td>1.0</td>\n",
       "    </tr>\n",
       "    <tr>\n",
       "      <th>2</th>\n",
       "      <td>1.0</td>\n",
       "      <td>1.0</td>\n",
       "      <td>1.0</td>\n",
       "      <td>1.0</td>\n",
       "      <td>1.0</td>\n",
       "    </tr>\n",
       "  </tbody>\n",
       "</table>\n",
       "</div>"
      ],
      "text/plain": [
       "     0    1    2    3    4\n",
       "0  1.0  1.0  1.0  1.0  1.0\n",
       "1  1.0  1.0  1.0  1.0  1.0\n",
       "2  1.0  1.0  1.0  1.0  1.0"
      ]
     },
     "execution_count": 32,
     "metadata": {},
     "output_type": "execute_result"
    }
   ],
   "source": [
    "pd.DataFrame(a)"
   ]
  },
  {
   "cell_type": "code",
   "execution_count": 35,
   "id": "99ad8bad",
   "metadata": {},
   "outputs": [
    {
     "data": {
      "text/plain": [
       "array([[5., 5., 5., 5.],\n",
       "       [5., 5., 5., 5.],\n",
       "       [5., 5., 5., 5.]])"
      ]
     },
     "execution_count": 35,
     "metadata": {},
     "output_type": "execute_result"
    }
   ],
   "source": [
    "# BroadCasting\n",
    "5+np.zeros((3,4))"
   ]
  },
  {
   "cell_type": "code",
   "execution_count": 39,
   "id": "2c2f12b7",
   "metadata": {},
   "outputs": [
    {
     "data": {
      "text/plain": [
       "array([[0.e+000, 1.e-323, 0.e+000, 0.e+000, 1.e-323],\n",
       "       [2.e-323, 3.e-323, 4.e-323, 5.e-323, 6.e-323],\n",
       "       [0.e+000, 1.e-323, 2.e-323, 3.e-323, 4.e-323],\n",
       "       [5.e-323, 6.e-323, 7.e-323, 8.e-323, 9.e-323]])"
      ]
     },
     "execution_count": 39,
     "metadata": {},
     "output_type": "execute_result"
    }
   ],
   "source": [
    "np.empty((4,5))"
   ]
  },
  {
   "cell_type": "code",
   "execution_count": 43,
   "id": "1d8f1e0e",
   "metadata": {},
   "outputs": [
    {
     "data": {
      "text/plain": [
       "array([2.        , 2.44444444, 2.88888889, 3.33333333, 3.77777778,\n",
       "       4.22222222, 4.66666667, 5.11111111, 5.55555556, 6.        ])"
      ]
     },
     "execution_count": 43,
     "metadata": {},
     "output_type": "execute_result"
    }
   ],
   "source": [
    "x=np.linspace(2,6,10)\n",
    "x"
   ]
  },
  {
   "cell_type": "code",
   "execution_count": 44,
   "id": "3b22ff7c",
   "metadata": {},
   "outputs": [
    {
     "data": {
      "text/plain": [
       "array([[2.        , 2.44444444, 2.88888889, 3.33333333, 3.77777778],\n",
       "       [4.22222222, 4.66666667, 5.11111111, 5.55555556, 6.        ]])"
      ]
     },
     "execution_count": 44,
     "metadata": {},
     "output_type": "execute_result"
    }
   ],
   "source": [
    "x.reshape(2,5)"
   ]
  },
  {
   "cell_type": "code",
   "execution_count": 47,
   "id": "2ea35766",
   "metadata": {},
   "outputs": [
    {
     "data": {
      "text/plain": [
       "(array([2. , 2.4, 2.8, 3.2, 3.6, 4. , 4.4, 4.8, 5.2, 5.6]), 0.4)"
      ]
     },
     "execution_count": 47,
     "metadata": {},
     "output_type": "execute_result"
    }
   ],
   "source": [
    "y=np.linspace(2,6,10,endpoint=False,retstep=True)\n",
    "y"
   ]
  },
  {
   "cell_type": "code",
   "execution_count": 52,
   "id": "bf9c8882",
   "metadata": {},
   "outputs": [
    {
     "data": {
      "text/plain": [
       "array([ 4.        ,  5.44316   ,  7.4069977 , 10.0793684 , 13.71590373,\n",
       "       18.66446463, 25.39841683, 34.56191164, 47.03150375, 64.        ])"
      ]
     },
     "execution_count": 52,
     "metadata": {},
     "output_type": "execute_result"
    }
   ],
   "source": [
    "np.logspace(2,6,10,base=2)"
   ]
  },
  {
   "cell_type": "code",
   "execution_count": 65,
   "id": "8b34fc7e",
   "metadata": {},
   "outputs": [
    {
     "data": {
      "text/plain": [
       "array([[ 0,  1,  2,  3],\n",
       "       [ 4,  5,  6,  7],\n",
       "       [30,  9, 10, 11],\n",
       "       [12, 13, 14, 15]])"
      ]
     },
     "execution_count": 65,
     "metadata": {},
     "output_type": "execute_result"
    }
   ],
   "source": [
    "a=np.arange(0,16).reshape(4,4)\n",
    "a[2][0]=30\n",
    "a\n"
   ]
  },
  {
   "cell_type": "code",
   "execution_count": 57,
   "id": "6f663750",
   "metadata": {},
   "outputs": [
    {
     "data": {
      "text/plain": [
       "15"
      ]
     },
     "execution_count": 57,
     "metadata": {},
     "output_type": "execute_result"
    }
   ],
   "source": [
    "a.max()"
   ]
  },
  {
   "cell_type": "code",
   "execution_count": 62,
   "id": "52f9376d",
   "metadata": {},
   "outputs": [
    {
     "data": {
      "text/plain": [
       "array([ 3,  7, 30, 15])"
      ]
     },
     "execution_count": 62,
     "metadata": {},
     "output_type": "execute_result"
    }
   ],
   "source": [
    "a.max(axis=1)"
   ]
  },
  {
   "cell_type": "code",
   "execution_count": 64,
   "id": "f9e66117",
   "metadata": {},
   "outputs": [
    {
     "data": {
      "text/plain": [
       "array([30, 13, 14, 15])"
      ]
     },
     "execution_count": 64,
     "metadata": {},
     "output_type": "execute_result"
    }
   ],
   "source": [
    "a.max(axis=0)"
   ]
  },
  {
   "cell_type": "code",
   "execution_count": 66,
   "id": "2b4eccfa",
   "metadata": {},
   "outputs": [
    {
     "data": {
      "text/plain": [
       "array([[10, 11, 12, 13],\n",
       "       [14, 15, 16, 17],\n",
       "       [40, 19, 20, 21],\n",
       "       [22, 23, 24, 25]])"
      ]
     },
     "execution_count": 66,
     "metadata": {},
     "output_type": "execute_result"
    }
   ],
   "source": [
    "10+a"
   ]
  },
  {
   "cell_type": "code",
   "execution_count": 67,
   "id": "3ac20598",
   "metadata": {},
   "outputs": [
    {
     "data": {
      "text/plain": [
       "array([[  0,   1,   4,   9],\n",
       "       [ 16,  25,  36,  49],\n",
       "       [900,  81, 100, 121],\n",
       "       [144, 169, 196, 225]])"
      ]
     },
     "execution_count": 67,
     "metadata": {},
     "output_type": "execute_result"
    }
   ],
   "source": [
    "a**2"
   ]
  },
  {
   "cell_type": "code",
   "execution_count": 68,
   "id": "a2c80828",
   "metadata": {},
   "outputs": [
    {
     "data": {
      "text/plain": [
       "array([[     0,      1,     16,     81],\n",
       "       [   256,    625,   1296,   2401],\n",
       "       [810000,   6561,  10000,  14641],\n",
       "       [ 20736,  28561,  38416,  50625]], dtype=int32)"
      ]
     },
     "execution_count": 68,
     "metadata": {},
     "output_type": "execute_result"
    }
   ],
   "source": [
    "pow(a,4)"
   ]
  },
  {
   "cell_type": "code",
   "execution_count": 77,
   "id": "d751e223",
   "metadata": {},
   "outputs": [],
   "source": [
    "b=np.array([2,1,4,3])"
   ]
  },
  {
   "cell_type": "code",
   "execution_count": 78,
   "id": "4a361b22",
   "metadata": {},
   "outputs": [
    {
     "data": {
      "text/plain": [
       "array([[ 2,  2,  6,  6],\n",
       "       [ 6,  6, 10, 10],\n",
       "       [32, 10, 14, 14],\n",
       "       [14, 14, 18, 18]])"
      ]
     },
     "execution_count": 78,
     "metadata": {},
     "output_type": "execute_result"
    }
   ],
   "source": [
    "a+b"
   ]
  },
  {
   "cell_type": "code",
   "execution_count": 80,
   "id": "ae8fbb4a",
   "metadata": {},
   "outputs": [
    {
     "data": {
      "text/plain": [
       "array([2, 1, 4, 3])"
      ]
     },
     "execution_count": 80,
     "metadata": {},
     "output_type": "execute_result"
    }
   ],
   "source": [
    "b=np.array([2,1,4,3]).T\n",
    "b"
   ]
  },
  {
   "cell_type": "code",
   "execution_count": 92,
   "id": "2276eea3",
   "metadata": {},
   "outputs": [],
   "source": [
    "b=b.reshape(-1,1)"
   ]
  },
  {
   "cell_type": "code",
   "execution_count": 94,
   "id": "9ff8ddc9",
   "metadata": {},
   "outputs": [
    {
     "data": {
      "text/plain": [
       "array([[2],\n",
       "       [1],\n",
       "       [4],\n",
       "       [3]])"
      ]
     },
     "execution_count": 94,
     "metadata": {},
     "output_type": "execute_result"
    }
   ],
   "source": [
    "b=b.T\n",
    "b"
   ]
  },
  {
   "cell_type": "code",
   "execution_count": 95,
   "id": "fc27365b",
   "metadata": {},
   "outputs": [
    {
     "data": {
      "text/plain": [
       "array([[ 2,  3,  4,  5],\n",
       "       [ 5,  6,  7,  8],\n",
       "       [34, 13, 14, 15],\n",
       "       [15, 16, 17, 18]])"
      ]
     },
     "execution_count": 95,
     "metadata": {},
     "output_type": "execute_result"
    }
   ],
   "source": [
    "a+b"
   ]
  },
  {
   "cell_type": "code",
   "execution_count": 97,
   "id": "80eee1d2",
   "metadata": {},
   "outputs": [
    {
     "data": {
      "text/plain": [
       "array([[0.        , 1.        , 1.41421356, 1.73205081],\n",
       "       [2.        , 2.23606798, 2.44948974, 2.64575131],\n",
       "       [5.47722558, 3.        , 3.16227766, 3.31662479],\n",
       "       [3.46410162, 3.60555128, 3.74165739, 3.87298335]])"
      ]
     },
     "execution_count": 97,
     "metadata": {},
     "output_type": "execute_result"
    }
   ],
   "source": [
    "np.sqrt(a)"
   ]
  },
  {
   "cell_type": "code",
   "execution_count": 98,
   "id": "46f7c86a",
   "metadata": {},
   "outputs": [
    {
     "data": {
      "text/plain": [
       "array([[1.00000000e+00, 2.71828183e+00, 7.38905610e+00, 2.00855369e+01],\n",
       "       [5.45981500e+01, 1.48413159e+02, 4.03428793e+02, 1.09663316e+03],\n",
       "       [1.06864746e+13, 8.10308393e+03, 2.20264658e+04, 5.98741417e+04],\n",
       "       [1.62754791e+05, 4.42413392e+05, 1.20260428e+06, 3.26901737e+06]])"
      ]
     },
     "execution_count": 98,
     "metadata": {},
     "output_type": "execute_result"
    }
   ],
   "source": [
    "np.exp(a)"
   ]
  },
  {
   "cell_type": "code",
   "execution_count": 99,
   "id": "3a47a4df",
   "metadata": {},
   "outputs": [
    {
     "name": "stderr",
     "output_type": "stream",
     "text": [
      "C:\\Users\\1933958\\AppData\\Local\\Temp/ipykernel_16480/547625357.py:1: RuntimeWarning: divide by zero encountered in log10\n",
      "  np.log10(a)\n"
     ]
    },
    {
     "data": {
      "text/plain": [
       "array([[      -inf, 0.        , 0.30103   , 0.47712125],\n",
       "       [0.60205999, 0.69897   , 0.77815125, 0.84509804],\n",
       "       [1.47712125, 0.95424251, 1.        , 1.04139269],\n",
       "       [1.07918125, 1.11394335, 1.14612804, 1.17609126]])"
      ]
     },
     "execution_count": 99,
     "metadata": {},
     "output_type": "execute_result"
    }
   ],
   "source": [
    "np.log10(a)"
   ]
  },
  {
   "cell_type": "code",
   "execution_count": 100,
   "id": "a09c1f47",
   "metadata": {},
   "outputs": [],
   "source": [
    "x=np.array([1,2,3])"
   ]
  },
  {
   "cell_type": "code",
   "execution_count": 101,
   "id": "8821bff9",
   "metadata": {},
   "outputs": [],
   "source": [
    "y=x"
   ]
  },
  {
   "cell_type": "code",
   "execution_count": 102,
   "id": "7fce1870",
   "metadata": {},
   "outputs": [
    {
     "data": {
      "text/plain": [
       "array([1, 2, 3])"
      ]
     },
     "execution_count": 102,
     "metadata": {},
     "output_type": "execute_result"
    }
   ],
   "source": [
    "y"
   ]
  },
  {
   "cell_type": "code",
   "execution_count": 103,
   "id": "97c1edbd",
   "metadata": {},
   "outputs": [],
   "source": [
    "z=np.copy(x)"
   ]
  },
  {
   "cell_type": "code",
   "execution_count": 104,
   "id": "651f69b0",
   "metadata": {},
   "outputs": [
    {
     "data": {
      "text/plain": [
       "array([1, 2, 3])"
      ]
     },
     "execution_count": 104,
     "metadata": {},
     "output_type": "execute_result"
    }
   ],
   "source": [
    "z"
   ]
  },
  {
   "cell_type": "code",
   "execution_count": 105,
   "id": "49b686dd",
   "metadata": {},
   "outputs": [],
   "source": [
    "x[0]=100"
   ]
  },
  {
   "cell_type": "code",
   "execution_count": 106,
   "id": "7b9fb9e1",
   "metadata": {},
   "outputs": [
    {
     "data": {
      "text/plain": [
       "array([100,   2,   3])"
      ]
     },
     "execution_count": 106,
     "metadata": {},
     "output_type": "execute_result"
    }
   ],
   "source": [
    "y"
   ]
  },
  {
   "cell_type": "code",
   "execution_count": 107,
   "id": "cdf86ab7",
   "metadata": {},
   "outputs": [
    {
     "data": {
      "text/plain": [
       "array([1, 2, 3])"
      ]
     },
     "execution_count": 107,
     "metadata": {},
     "output_type": "execute_result"
    }
   ],
   "source": [
    "z"
   ]
  },
  {
   "cell_type": "code",
   "execution_count": 108,
   "id": "59cfac8c",
   "metadata": {},
   "outputs": [
    {
     "data": {
      "text/plain": [
       "1762106866640"
      ]
     },
     "execution_count": 108,
     "metadata": {},
     "output_type": "execute_result"
    }
   ],
   "source": [
    "id(x)"
   ]
  },
  {
   "cell_type": "code",
   "execution_count": 109,
   "id": "3da3dd1b",
   "metadata": {},
   "outputs": [
    {
     "data": {
      "text/plain": [
       "1762106866640"
      ]
     },
     "execution_count": 109,
     "metadata": {},
     "output_type": "execute_result"
    }
   ],
   "source": [
    "id(y)"
   ]
  },
  {
   "cell_type": "code",
   "execution_count": 110,
   "id": "a58dbc02",
   "metadata": {},
   "outputs": [
    {
     "data": {
      "text/plain": [
       "1762106866256"
      ]
     },
     "execution_count": 110,
     "metadata": {},
     "output_type": "execute_result"
    }
   ],
   "source": [
    "id(z)"
   ]
  },
  {
   "cell_type": "code",
   "execution_count": 111,
   "id": "09c03c41",
   "metadata": {},
   "outputs": [
    {
     "data": {
      "text/plain": [
       "1762107031696"
      ]
     },
     "execution_count": 111,
     "metadata": {},
     "output_type": "execute_result"
    }
   ],
   "source": [
    "id(x[0])"
   ]
  },
  {
   "cell_type": "code",
   "execution_count": 112,
   "id": "064948ae",
   "metadata": {},
   "outputs": [
    {
     "data": {
      "text/plain": [
       "1762107031664"
      ]
     },
     "execution_count": 112,
     "metadata": {},
     "output_type": "execute_result"
    }
   ],
   "source": [
    "id(y[0])"
   ]
  },
  {
   "cell_type": "code",
   "execution_count": 115,
   "id": "efd0c79c",
   "metadata": {},
   "outputs": [
    {
     "data": {
      "text/plain": [
       "True"
      ]
     },
     "execution_count": 115,
     "metadata": {},
     "output_type": "execute_result"
    }
   ],
   "source": [
    "id(x[0])==id(y[0])"
   ]
  },
  {
   "cell_type": "code",
   "execution_count": 116,
   "id": "74556cd1",
   "metadata": {},
   "outputs": [
    {
     "data": {
      "text/plain": [
       "False"
      ]
     },
     "execution_count": 116,
     "metadata": {},
     "output_type": "execute_result"
    }
   ],
   "source": [
    "c=\"Adnan\"\n",
    "id(c)==id(x)"
   ]
  },
  {
   "cell_type": "code",
   "execution_count": null,
   "id": "c1439464",
   "metadata": {},
   "outputs": [],
   "source": []
  }
 ],
 "metadata": {
  "kernelspec": {
   "display_name": "Python 3 (ipykernel)",
   "language": "python",
   "name": "python3"
  },
  "language_info": {
   "codemirror_mode": {
    "name": "ipython",
    "version": 3
   },
   "file_extension": ".py",
   "mimetype": "text/x-python",
   "name": "python",
   "nbconvert_exporter": "python",
   "pygments_lexer": "ipython3",
   "version": "3.9.6"
  }
 },
 "nbformat": 4,
 "nbformat_minor": 5
}
