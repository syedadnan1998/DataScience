{
 "cells": [
  {
   "cell_type": "code",
   "execution_count": 1,
   "id": "ba2586c1",
   "metadata": {},
   "outputs": [],
   "source": [
    "l=[1,2,3,4,5]"
   ]
  },
  {
   "cell_type": "markdown",
   "id": "db12cb52",
   "metadata": {},
   "source": [
    "# Iterable and Iterator"
   ]
  },
  {
   "cell_type": "code",
   "execution_count": 2,
   "id": "20e77f8c",
   "metadata": {},
   "outputs": [
    {
     "ename": "TypeError",
     "evalue": "'list' object is not an iterator",
     "output_type": "error",
     "traceback": [
      "\u001b[1;31m---------------------------------------------------------------------------\u001b[0m",
      "\u001b[1;31mTypeError\u001b[0m                                 Traceback (most recent call last)",
      "\u001b[1;32m~\\AppData\\Local\\Temp\\ipykernel_1884\\2016234150.py\u001b[0m in \u001b[0;36m<module>\u001b[1;34m\u001b[0m\n\u001b[1;32m----> 1\u001b[1;33m \u001b[0mnext\u001b[0m\u001b[1;33m(\u001b[0m\u001b[0ml\u001b[0m\u001b[1;33m)\u001b[0m\u001b[1;33m\u001b[0m\u001b[1;33m\u001b[0m\u001b[0m\n\u001b[0m",
      "\u001b[1;31mTypeError\u001b[0m: 'list' object is not an iterator"
     ]
    }
   ],
   "source": [
    "next(l)"
   ]
  },
  {
   "cell_type": "code",
   "execution_count": null,
   "id": "ae540f48",
   "metadata": {},
   "outputs": [],
   "source": [
    "l=iter(l)"
   ]
  },
  {
   "cell_type": "code",
   "execution_count": null,
   "id": "ccc41e35",
   "metadata": {},
   "outputs": [],
   "source": [
    "next(l)"
   ]
  },
  {
   "cell_type": "code",
   "execution_count": null,
   "id": "62557c61",
   "metadata": {},
   "outputs": [],
   "source": [
    "next(l)"
   ]
  },
  {
   "cell_type": "code",
   "execution_count": null,
   "id": "6913df2b",
   "metadata": {},
   "outputs": [],
   "source": [
    "next(l)"
   ]
  },
  {
   "cell_type": "code",
   "execution_count": null,
   "id": "3e94eb00",
   "metadata": {},
   "outputs": [],
   "source": [
    "next(l)"
   ]
  },
  {
   "cell_type": "code",
   "execution_count": null,
   "id": "b43799bd",
   "metadata": {},
   "outputs": [],
   "source": [
    "next(l)"
   ]
  },
  {
   "cell_type": "code",
   "execution_count": null,
   "id": "b594b000",
   "metadata": {},
   "outputs": [],
   "source": [
    "next(l)"
   ]
  },
  {
   "cell_type": "code",
   "execution_count": null,
   "id": "f1ef81bd",
   "metadata": {},
   "outputs": [],
   "source": [
    "# for loop is firsr calll iter and print it nternally"
   ]
  },
  {
   "cell_type": "code",
   "execution_count": null,
   "id": "933f3bec",
   "metadata": {},
   "outputs": [],
   "source": [
    "a=56\n"
   ]
  },
  {
   "cell_type": "code",
   "execution_count": null,
   "id": "ca2dcae8",
   "metadata": {},
   "outputs": [],
   "source": [
    "next(a)"
   ]
  },
  {
   "cell_type": "code",
   "execution_count": null,
   "id": "64bcb54f",
   "metadata": {},
   "outputs": [],
   "source": [
    "a=iter(a)"
   ]
  },
  {
   "cell_type": "code",
   "execution_count": null,
   "id": "64aeb414",
   "metadata": {},
   "outputs": [],
   "source": [
    "t=(1,2,3,\"fsf\");\n"
   ]
  },
  {
   "cell_type": "code",
   "execution_count": null,
   "id": "aaa06eb2",
   "metadata": {},
   "outputs": [],
   "source": [
    "t=iter(t)"
   ]
  },
  {
   "cell_type": "code",
   "execution_count": null,
   "id": "0ca04b07",
   "metadata": {},
   "outputs": [],
   "source": [
    "next(t)"
   ]
  },
  {
   "cell_type": "code",
   "execution_count": null,
   "id": "2b087c07",
   "metadata": {},
   "outputs": [],
   "source": [
    "r=range(0,6)"
   ]
  },
  {
   "cell_type": "code",
   "execution_count": null,
   "id": "93923d73",
   "metadata": {},
   "outputs": [],
   "source": [
    "next(r)"
   ]
  },
  {
   "cell_type": "code",
   "execution_count": null,
   "id": "a8e90bf2",
   "metadata": {},
   "outputs": [],
   "source": [
    "r=iter(r)"
   ]
  },
  {
   "cell_type": "code",
   "execution_count": null,
   "id": "2a119222",
   "metadata": {},
   "outputs": [],
   "source": [
    "next(r)"
   ]
  },
  {
   "cell_type": "code",
   "execution_count": null,
   "id": "ccf5fd2d",
   "metadata": {},
   "outputs": [],
   "source": [
    "next(r)"
   ]
  },
  {
   "cell_type": "markdown",
   "id": "f2fcb1ad",
   "metadata": {},
   "source": [
    "# Generator"
   ]
  },
  {
   "cell_type": "code",
   "execution_count": null,
   "id": "4be9d9c0",
   "metadata": {},
   "outputs": [],
   "source": [
    "range(45)"
   ]
  },
  {
   "cell_type": "code",
   "execution_count": null,
   "id": "654907ac",
   "metadata": {},
   "outputs": [],
   "source": [
    "list(range(0,45,3))"
   ]
  },
  {
   "cell_type": "code",
   "execution_count": null,
   "id": "5653a3a8",
   "metadata": {},
   "outputs": [],
   "source": [
    "def generateCube(n):\n",
    "    l=[]\n",
    "    for i in range(n):\n",
    "        l.append(i**3)\n",
    "    return l"
   ]
  },
  {
   "cell_type": "code",
   "execution_count": null,
   "id": "9cbde7c8",
   "metadata": {},
   "outputs": [],
   "source": [
    "generateCube(6)"
   ]
  },
  {
   "cell_type": "code",
   "execution_count": null,
   "id": "882332d6",
   "metadata": {},
   "outputs": [],
   "source": [
    "range(10000000000000000000000000000)\n",
    "# it procdue in fraction of sec "
   ]
  },
  {
   "cell_type": "code",
   "execution_count": null,
   "id": "26115429",
   "metadata": {},
   "outputs": [],
   "source": [
    "for i in range(1000000):\n",
    "    print(i)\n",
    "#     it wont occupy memory but it will return non-type"
   ]
  },
  {
   "cell_type": "code",
   "execution_count": null,
   "id": "1897086e",
   "metadata": {},
   "outputs": [],
   "source": [
    "def generateCube(n):\n",
    "    for i in range(n):\n",
    "        yield i**3\n",
    "# now it is a generator function"
   ]
  },
  {
   "cell_type": "code",
   "execution_count": null,
   "id": "d7fae664",
   "metadata": {},
   "outputs": [],
   "source": [
    "generateCube(10)"
   ]
  },
  {
   "cell_type": "code",
   "execution_count": null,
   "id": "0d129375",
   "metadata": {},
   "outputs": [],
   "source": [
    "for i in generateCube(1000):\n",
    "    print(i)"
   ]
  },
  {
   "cell_type": "code",
   "execution_count": null,
   "id": "6602ea3e",
   "metadata": {},
   "outputs": [],
   "source": [
    "def genFibbonaci(n):\n",
    "    a=1\n",
    "    b=1\n",
    "    for i in range(n):\n",
    "        yield a,i\n",
    "        a,b=b,a+b\n",
    "        "
   ]
  },
  {
   "cell_type": "code",
   "execution_count": null,
   "id": "35a4795a",
   "metadata": {},
   "outputs": [],
   "source": [
    "genFibbonaci(10)"
   ]
  },
  {
   "cell_type": "code",
   "execution_count": null,
   "id": "30d15505",
   "metadata": {
    "scrolled": true
   },
   "outputs": [],
   "source": [
    "for i in genFibbonaci(10):\n",
    "    print(i)"
   ]
  },
  {
   "cell_type": "code",
   "execution_count": null,
   "id": "0900f062",
   "metadata": {},
   "outputs": [],
   "source": [
    "def fib1(n):\n",
    "    a=1\n",
    "    b=1\n",
    "    l=[]\n",
    "    for i in range(n):\n",
    "        l.append(a)\n",
    "        a,b=b,a+b\n",
    "    return l;\n",
    "        "
   ]
  },
  {
   "cell_type": "code",
   "execution_count": null,
   "id": "7cab1358",
   "metadata": {},
   "outputs": [],
   "source": [
    "fib1(10)"
   ]
  },
  {
   "cell_type": "markdown",
   "id": "9bd01769",
   "metadata": {},
   "source": [
    "# File Operation"
   ]
  },
  {
   "cell_type": "code",
   "execution_count": null,
   "id": "099fb580",
   "metadata": {},
   "outputs": [],
   "source": [
    "f=open(\"abc.txt\",\"w\")"
   ]
  },
  {
   "cell_type": "code",
   "execution_count": null,
   "id": "1deeeac1",
   "metadata": {},
   "outputs": [],
   "source": [
    "ls"
   ]
  },
  {
   "cell_type": "code",
   "execution_count": null,
   "id": "2122d7e7",
   "metadata": {},
   "outputs": [],
   "source": [
    "f.write(\"This is my first file operation\")"
   ]
  },
  {
   "cell_type": "code",
   "execution_count": null,
   "id": "5fa35228",
   "metadata": {},
   "outputs": [],
   "source": [
    "f.close()"
   ]
  },
  {
   "cell_type": "markdown",
   "id": "7045cff7",
   "metadata": {},
   "source": [
    "# method2 of writing a file"
   ]
  },
  {
   "cell_type": "code",
   "execution_count": null,
   "id": "6b0fcff9",
   "metadata": {},
   "outputs": [],
   "source": [
    "%%writefile abc2.txt\n",
    "this is new data i wanna store"
   ]
  },
  {
   "cell_type": "code",
   "execution_count": null,
   "id": "bab9b94f",
   "metadata": {},
   "outputs": [],
   "source": [
    "f=open(\"abc.txt\",\"r\")"
   ]
  },
  {
   "cell_type": "code",
   "execution_count": null,
   "id": "4c3f36c4",
   "metadata": {},
   "outputs": [],
   "source": [
    "f.read()"
   ]
  },
  {
   "cell_type": "code",
   "execution_count": null,
   "id": "72735aff",
   "metadata": {},
   "outputs": [],
   "source": [
    "f.write('fds')"
   ]
  },
  {
   "cell_type": "code",
   "execution_count": null,
   "id": "f44dcb33",
   "metadata": {},
   "outputs": [],
   "source": [
    "f.read()"
   ]
  },
  {
   "cell_type": "code",
   "execution_count": null,
   "id": "b58d8214",
   "metadata": {},
   "outputs": [],
   "source": [
    "f.seek(5)\n",
    "# to reset the cursor"
   ]
  },
  {
   "cell_type": "code",
   "execution_count": null,
   "id": "ae1471bc",
   "metadata": {},
   "outputs": [],
   "source": [
    "f.read()"
   ]
  },
  {
   "cell_type": "code",
   "execution_count": null,
   "id": "c6757839",
   "metadata": {},
   "outputs": [],
   "source": [
    "f.seek(0)"
   ]
  },
  {
   "cell_type": "code",
   "execution_count": null,
   "id": "c1e2e718",
   "metadata": {},
   "outputs": [],
   "source": [
    "f.read()"
   ]
  },
  {
   "cell_type": "code",
   "execution_count": null,
   "id": "60e17e82",
   "metadata": {},
   "outputs": [],
   "source": [
    "f.tell()\n",
    "# at which position the cursor is"
   ]
  },
  {
   "cell_type": "code",
   "execution_count": null,
   "id": "16892f91",
   "metadata": {},
   "outputs": [],
   "source": [
    "f.seek(2)"
   ]
  },
  {
   "cell_type": "code",
   "execution_count": null,
   "id": "d6266e5c",
   "metadata": {},
   "outputs": [],
   "source": [
    "f.tell()"
   ]
  },
  {
   "cell_type": "code",
   "execution_count": null,
   "id": "6fe56bb6",
   "metadata": {},
   "outputs": [],
   "source": [
    "f=open(\"abc2.txt\",\"r+\")"
   ]
  },
  {
   "cell_type": "code",
   "execution_count": null,
   "id": "41f3b532",
   "metadata": {},
   "outputs": [],
   "source": [
    "f.read()"
   ]
  },
  {
   "cell_type": "code",
   "execution_count": null,
   "id": "29521555",
   "metadata": {},
   "outputs": [],
   "source": [
    "f.tell()"
   ]
  },
  {
   "cell_type": "code",
   "execution_count": null,
   "id": "b6c89a81",
   "metadata": {},
   "outputs": [],
   "source": [
    "f.seek(0)"
   ]
  },
  {
   "cell_type": "code",
   "execution_count": null,
   "id": "3302d017",
   "metadata": {},
   "outputs": [],
   "source": [
    "f.readline()"
   ]
  },
  {
   "cell_type": "code",
   "execution_count": null,
   "id": "bf4cc755",
   "metadata": {},
   "outputs": [],
   "source": [
    "f.read()"
   ]
  },
  {
   "cell_type": "code",
   "execution_count": null,
   "id": "d9d84d40",
   "metadata": {},
   "outputs": [],
   "source": [
    "f.seek(0)"
   ]
  },
  {
   "cell_type": "code",
   "execution_count": null,
   "id": "7e44ea6c",
   "metadata": {},
   "outputs": [],
   "source": [
    "f.read()"
   ]
  },
  {
   "cell_type": "code",
   "execution_count": null,
   "id": "f86567e5",
   "metadata": {},
   "outputs": [],
   "source": [
    "f=open(\"abc2.txt\",\"r+\")\n",
    "for line in f:\n",
    "    print(line,end=\"\")"
   ]
  },
  {
   "cell_type": "code",
   "execution_count": null,
   "id": "c659572b",
   "metadata": {},
   "outputs": [],
   "source": [
    "f.write(\"Aur btaoo\")"
   ]
  },
  {
   "cell_type": "code",
   "execution_count": null,
   "id": "f09b1b6b",
   "metadata": {},
   "outputs": [],
   "source": [
    "f.seek(0)"
   ]
  },
  {
   "cell_type": "code",
   "execution_count": null,
   "id": "3a6425ae",
   "metadata": {},
   "outputs": [],
   "source": [
    "f.read()"
   ]
  },
  {
   "cell_type": "code",
   "execution_count": null,
   "id": "560e805e",
   "metadata": {},
   "outputs": [],
   "source": [
    "f.close()"
   ]
  },
  {
   "cell_type": "code",
   "execution_count": null,
   "id": "52a2c0a6",
   "metadata": {},
   "outputs": [],
   "source": [
    "f=open(\"abc2.txt\",\"r+\")"
   ]
  },
  {
   "cell_type": "code",
   "execution_count": null,
   "id": "02c67e76",
   "metadata": {},
   "outputs": [],
   "source": [
    "data=f.readlines()\n",
    "data"
   ]
  },
  {
   "cell_type": "code",
   "execution_count": null,
   "id": "fdadba9e",
   "metadata": {},
   "outputs": [],
   "source": [
    "data[0]"
   ]
  },
  {
   "cell_type": "code",
   "execution_count": null,
   "id": "36e68432",
   "metadata": {},
   "outputs": [],
   "source": [
    "data[0].split(\" \")"
   ]
  },
  {
   "cell_type": "code",
   "execution_count": null,
   "id": "57d68eaa",
   "metadata": {},
   "outputs": [],
   "source": [
    "l1=[]\n",
    "for i in data[0].split(\" \"):\n",
    "    l1.append(i[0])\n",
    "l1"
   ]
  },
  {
   "cell_type": "code",
   "execution_count": null,
   "id": "02e8bcc8",
   "metadata": {},
   "outputs": [],
   "source": [
    "f.name"
   ]
  },
  {
   "cell_type": "code",
   "execution_count": null,
   "id": "d5ee7f81",
   "metadata": {},
   "outputs": [],
   "source": [
    "l=[\"My First line 1\",\"My First line 2\",\"My First line 3\",\"My First line 4\"]"
   ]
  },
  {
   "cell_type": "code",
   "execution_count": null,
   "id": "e073b9f5",
   "metadata": {},
   "outputs": [],
   "source": [
    "f.write(\"I am adnan\")"
   ]
  },
  {
   "cell_type": "code",
   "execution_count": null,
   "id": "2775f3b1",
   "metadata": {},
   "outputs": [],
   "source": [
    "f.seek(0)"
   ]
  },
  {
   "cell_type": "code",
   "execution_count": null,
   "id": "40a9aa00",
   "metadata": {},
   "outputs": [],
   "source": [
    "f.read()"
   ]
  },
  {
   "cell_type": "code",
   "execution_count": null,
   "id": "1bc2834d",
   "metadata": {},
   "outputs": [],
   "source": [
    "f.writelines(l)"
   ]
  },
  {
   "cell_type": "code",
   "execution_count": null,
   "id": "e8648c23",
   "metadata": {},
   "outputs": [],
   "source": [
    "f.seek(0)"
   ]
  },
  {
   "cell_type": "code",
   "execution_count": null,
   "id": "bcb90192",
   "metadata": {},
   "outputs": [],
   "source": [
    "f.close()"
   ]
  },
  {
   "cell_type": "code",
   "execution_count": null,
   "id": "ca080f78",
   "metadata": {},
   "outputs": [],
   "source": [
    "f=open(\"abc2.txt\",\"r+\")\n",
    "f.fileno()\n",
    "# which no. file in directory"
   ]
  },
  {
   "cell_type": "code",
   "execution_count": null,
   "id": "c3e38d98",
   "metadata": {},
   "outputs": [],
   "source": [
    "import os"
   ]
  },
  {
   "cell_type": "code",
   "execution_count": null,
   "id": "a18fba7c",
   "metadata": {},
   "outputs": [],
   "source": [
    "os.remove(\"abc.txt\")"
   ]
  },
  {
   "cell_type": "code",
   "execution_count": null,
   "id": "b4f62d0c",
   "metadata": {},
   "outputs": [],
   "source": [
    "os.getcwd()\n",
    "# current working dir"
   ]
  },
  {
   "cell_type": "code",
   "execution_count": null,
   "id": "a9a4cc70",
   "metadata": {},
   "outputs": [],
   "source": [
    "os.listdir()"
   ]
  },
  {
   "cell_type": "code",
   "execution_count": null,
   "id": "4d635aea",
   "metadata": {},
   "outputs": [],
   "source": [
    "os.getcwd()"
   ]
  },
  {
   "cell_type": "code",
   "execution_count": null,
   "id": "20dd5e5a",
   "metadata": {},
   "outputs": [],
   "source": [
    "dir=os.listdir('C:\\\\Users\\\\DELL')"
   ]
  },
  {
   "cell_type": "code",
   "execution_count": null,
   "id": "bd2c5377",
   "metadata": {},
   "outputs": [],
   "source": [
    "l=[]\n",
    "for i in dir:\n",
    "    if(i.endswith('.txt')):\n",
    "        l.append(i)\n",
    "l"
   ]
  },
  {
   "cell_type": "markdown",
   "id": "2bcd8c72",
   "metadata": {},
   "source": [
    "# Exception Handling"
   ]
  },
  {
   "cell_type": "code",
   "execution_count": null,
   "id": "5238fa91",
   "metadata": {},
   "outputs": [],
   "source": [
    "a=5\n",
    "b=int(input())\n",
    "a/b"
   ]
  },
  {
   "cell_type": "code",
   "execution_count": null,
   "id": "a206bd4e",
   "metadata": {},
   "outputs": [],
   "source": [
    "f=open(\"abc.txt\",\"r\")\n",
    "f.write(\"cxc dscsdf\")\n",
    "print(\"There was mistake\")\n"
   ]
  },
  {
   "cell_type": "code",
   "execution_count": null,
   "id": "5549f5f8",
   "metadata": {},
   "outputs": [],
   "source": [
    "try:\n",
    "    f=open(\"abc2.txt\",\"r\")\n",
    "    f.write(\"cxc dscsdf\")\n",
    "except:\n",
    "    print(\"There was mistake\")\n",
    "    "
   ]
  },
  {
   "cell_type": "code",
   "execution_count": null,
   "id": "fbd7d4e6",
   "metadata": {},
   "outputs": [],
   "source": [
    "l=[4,3,4,4,5,5]\n",
    "try:\n",
    "    for i in range(len(l)+1):\n",
    "        print(l[i])\n",
    "except:\n",
    "    print(\"index error\")"
   ]
  },
  {
   "cell_type": "code",
   "execution_count": null,
   "id": "2543e68c",
   "metadata": {},
   "outputs": [],
   "source": [
    "5/0"
   ]
  },
  {
   "cell_type": "code",
   "execution_count": null,
   "id": "a74f3d39",
   "metadata": {},
   "outputs": [],
   "source": [
    "try:\n",
    "    f=open(\"abc2.txt\",\"r\")\n",
    "    f.write(\"cxc dscsdf\")\n",
    "except Exception as e:\n",
    "    print(e)\n",
    "    "
   ]
  },
  {
   "cell_type": "code",
   "execution_count": null,
   "id": "66b75a83",
   "metadata": {},
   "outputs": [],
   "source": [
    "l=[4,3,4,4,5,5]\n",
    "try:\n",
    "    for i in range(len(l)+1):\n",
    "        print(l[i])\n",
    "except Exception as e:\n",
    "    print(e)"
   ]
  },
  {
   "cell_type": "code",
   "execution_count": null,
   "id": "3d694b03",
   "metadata": {},
   "outputs": [],
   "source": [
    "try:\n",
    "    a=int(input())\n",
    "    b=int(input())\n",
    "except Exception as e:\n",
    "    print(e)\n",
    "l=[4,3,4,4,5,5]\n",
    "try:\n",
    "    for i in range(len(l)+1):\n",
    "        print(l[i])\n",
    "except Exception as e:\n",
    "    print(e)"
   ]
  },
  {
   "cell_type": "code",
   "execution_count": null,
   "id": "67f61aa2",
   "metadata": {},
   "outputs": [],
   "source": [
    "try:\n",
    "    d={\"key1\":\"sudh\",\"key2\":[1,2,3 ]}\n",
    "    d[\"key3\"]=int(input())\n",
    "    f=open(\"test2\",\"r\")\n",
    "except ValueError as sudh:\n",
    "    print(sudh)\n",
    "except FileNotFoundError as e:\n",
    "    print(e)"
   ]
  },
  {
   "cell_type": "code",
   "execution_count": null,
   "id": "bfa1139c",
   "metadata": {},
   "outputs": [],
   "source": [
    "try:\n",
    "    f=open(\"abc2.txt\",\"w\")\n",
    "    f.write(\"this is my code in try\")\n",
    "except Exception as e:\n",
    "    print(\"this will handle an error\")\n",
    "else:\n",
    "    print(\"this will execute once try block will br executed successfully\")\n",
    "    f.close()"
   ]
  },
  {
   "cell_type": "code",
   "execution_count": null,
   "id": "94a58c6c",
   "metadata": {},
   "outputs": [],
   "source": [
    "try:\n",
    "    f=open(\"abc2.txt\",\"w\")\n",
    "    f.write(\"this is my code in try\")\n",
    "except Exception as e:\n",
    "    print(\"this will handle an error\")\n",
    "else:\n",
    "    print(\"do this when try executed successfully\")\n",
    "finally:\n",
    "    print(\"do this for sure\")\n",
    "    f.close()"
   ]
  },
  {
   "cell_type": "code",
   "execution_count": null,
   "id": "193310bb",
   "metadata": {},
   "outputs": [],
   "source": [
    "try:\n",
    "    f=open(\"abc2.txt\",\"r\")\n",
    "    f.write(\"this is my code in try\")\n",
    "except Exception as e:\n",
    "    print(\"this will handle an error\")\n",
    "else:\n",
    "    print(\"do this when try executed successfully\")\n",
    "finally:\n",
    "    print(\"do this for sure it will executed always\")\n",
    "    f.close()"
   ]
  },
  {
   "cell_type": "code",
   "execution_count": null,
   "id": "b98ad768",
   "metadata": {},
   "outputs": [],
   "source": [
    "def askint():\n",
    "    try:\n",
    "        a=int(input())\n",
    "        return a\n",
    "    except Exception as e:\n",
    "        print(e)"
   ]
  },
  {
   "cell_type": "code",
   "execution_count": null,
   "id": "a8ec94e8",
   "metadata": {},
   "outputs": [],
   "source": [
    "askint()"
   ]
  },
  {
   "cell_type": "code",
   "execution_count": null,
   "id": "57c91899",
   "metadata": {},
   "outputs": [],
   "source": [
    "askint()"
   ]
  },
  {
   "cell_type": "code",
   "execution_count": null,
   "id": "3f75d041",
   "metadata": {},
   "outputs": [],
   "source": [
    "def askint2():\n",
    "    while True:\n",
    "        try:\n",
    "            a =int(input())\n",
    "            return a\n",
    "            break\n",
    "        except Exception as e:\n",
    "             print(e)\n",
    "askint2()"
   ]
  },
  {
   "cell_type": "code",
   "execution_count": null,
   "id": "0c30e07b",
   "metadata": {},
   "outputs": [],
   "source": [
    "askint2()"
   ]
  },
  {
   "cell_type": "code",
   "execution_count": null,
   "id": "c8b81e76",
   "metadata": {},
   "outputs": [],
   "source": [
    "def test(a):\n",
    "    if a<0:\n",
    "        raise Exception (\"You have entered a negative value\",a)\n",
    "    return a"
   ]
  },
  {
   "cell_type": "code",
   "execution_count": null,
   "id": "7ace8a49",
   "metadata": {},
   "outputs": [],
   "source": [
    "test(-4)"
   ]
  },
  {
   "cell_type": "code",
   "execution_count": null,
   "id": "94f7a537",
   "metadata": {},
   "outputs": [],
   "source": [
    "try:\n",
    "    a=int(input())\n",
    "    test(a)\n",
    "except Exception as e:\n",
    "    print(\"Calling my raised exception\",e)"
   ]
  },
  {
   "cell_type": "markdown",
   "id": "a863c3be",
   "metadata": {},
   "source": [
    "# Logging"
   ]
  },
  {
   "cell_type": "code",
   "execution_count": null,
   "id": "10e5bc0f",
   "metadata": {},
   "outputs": [],
   "source": [
    " import logging"
   ]
  },
  {
   "cell_type": "code",
   "execution_count": null,
   "id": "8f86a8d7",
   "metadata": {},
   "outputs": [],
   "source": [
    "logging.basicConfig(filename=\"test.log\",level=logging.INFO)"
   ]
  },
  {
   "cell_type": "code",
   "execution_count": null,
   "id": "b1e575c4",
   "metadata": {},
   "outputs": [],
   "source": [
    "# DEBUG\n",
    "# INFO\n",
    "# WARNING\n",
    "# ERROR\n",
    "# CRITICAL"
   ]
  },
  {
   "cell_type": "code",
   "execution_count": null,
   "id": "401b5cca",
   "metadata": {},
   "outputs": [],
   "source": [
    "logging.info(\"Info\")\n",
    "logging.warning(\"Warn\")\n",
    "logging.error(\"Error\")"
   ]
  },
  {
   "cell_type": "code",
   "execution_count": null,
   "id": "ebc12377",
   "metadata": {},
   "outputs": [],
   "source": [
    "logging.shutdown()"
   ]
  },
  {
   "cell_type": "code",
   "execution_count": null,
   "id": "607d8a3a",
   "metadata": {},
   "outputs": [],
   "source": [
    "logging.basicConfig(filename=\"test2.log\",level=logging.DEBUG,format='%(asctime)s %(levelname)s %(message)s')"
   ]
  },
  {
   "cell_type": "code",
   "execution_count": null,
   "id": "c2ddd7e1",
   "metadata": {},
   "outputs": [],
   "source": [
    "logging.info(\"Info\")\n",
    "logging.warning(\"Warn\")\n",
    "logging.error(\"Error\")"
   ]
  },
  {
   "cell_type": "code",
   "execution_count": null,
   "id": "bce1122f",
   "metadata": {},
   "outputs": [],
   "source": [
    "# priority\n",
    "# ERROR\n",
    "# WARNING\n",
    "# INF0\n",
    "# DEBUG"
   ]
  },
  {
   "cell_type": "code",
   "execution_count": null,
   "id": "6eb2af6f",
   "metadata": {},
   "outputs": [],
   "source": [
    "logging.basicConfig(filename=\"test4.log\",level=logging.DEBUG,format='%(asctime)s %(levelname)s %(message)s')"
   ]
  },
  {
   "cell_type": "code",
   "execution_count": null,
   "id": "9539f829",
   "metadata": {},
   "outputs": [],
   "source": [
    "def divBy0(a,b):\n",
    "    try:   \n",
    "        logging.info(\"This is the starting of core a , b %s and %s\",a,b)\n",
    "        res=a/b\n",
    "        logging.info(\"executed successfully\")\n",
    "    except Exception as e:\n",
    "        logging.error(\"we got the error\")\n",
    "        logging.exception(\"Getting exception\"+str(e))\n",
    "        \n",
    "    "
   ]
  },
  {
   "cell_type": "code",
   "execution_count": null,
   "id": "d817731a",
   "metadata": {},
   "outputs": [],
   "source": [
    "divBy0(2,3)"
   ]
  },
  {
   "cell_type": "code",
   "execution_count": null,
   "id": "7dc3e83a",
   "metadata": {},
   "outputs": [],
   "source": [
    "divBy0(2,0)"
   ]
  },
  {
   "cell_type": "code",
   "execution_count": null,
   "id": "778f93ca",
   "metadata": {},
   "outputs": [],
   "source": [
    "pwd"
   ]
  },
  {
   "cell_type": "code",
   "execution_count": null,
   "id": "008b8544",
   "metadata": {},
   "outputs": [],
   "source": [
    "ls"
   ]
  },
  {
   "cell_type": "code",
   "execution_count": null,
   "id": "01a56fc9",
   "metadata": {},
   "outputs": [],
   "source": [
    "import testn"
   ]
  },
  {
   "cell_type": "code",
   "execution_count": null,
   "id": "af016f81",
   "metadata": {},
   "outputs": [],
   "source": [
    "testn.testFun(2,3)"
   ]
  },
  {
   "cell_type": "code",
   "execution_count": null,
   "id": "14e1d035",
   "metadata": {},
   "outputs": [],
   "source": [
    "testn.testmul(2,3)"
   ]
  },
  {
   "cell_type": "code",
   "execution_count": 3,
   "id": "82bbbde0",
   "metadata": {},
   "outputs": [],
   "source": [
    "from testn import *"
   ]
  },
  {
   "cell_type": "code",
   "execution_count": 4,
   "id": "483859ee",
   "metadata": {},
   "outputs": [
    {
     "data": {
      "text/plain": [
       "20"
      ]
     },
     "execution_count": 4,
     "metadata": {},
     "output_type": "execute_result"
    }
   ],
   "source": [
    "testmul(4,5)"
   ]
  },
  {
   "cell_type": "code",
   "execution_count": 6,
   "id": "90f4f42d",
   "metadata": {},
   "outputs": [
    {
     "data": {
      "text/plain": [
       "5"
      ]
     },
     "execution_count": 6,
     "metadata": {},
     "output_type": "execute_result"
    }
   ],
   "source": [
    "testFun(2,3)"
   ]
  },
  {
   "cell_type": "code",
   "execution_count": 8,
   "id": "a1a1e2c2",
   "metadata": {},
   "outputs": [
    {
     "data": {
      "text/plain": [
       "['In',\n",
       " 'Out',\n",
       " '_',\n",
       " '_4',\n",
       " '_6',\n",
       " '_7',\n",
       " '__',\n",
       " '___',\n",
       " '__builtin__',\n",
       " '__builtins__',\n",
       " '__doc__',\n",
       " '__loader__',\n",
       " '__name__',\n",
       " '__package__',\n",
       " '__spec__',\n",
       " '_dh',\n",
       " '_i',\n",
       " '_i1',\n",
       " '_i2',\n",
       " '_i3',\n",
       " '_i4',\n",
       " '_i5',\n",
       " '_i6',\n",
       " '_i7',\n",
       " '_i8',\n",
       " '_ih',\n",
       " '_ii',\n",
       " '_iii',\n",
       " '_oh',\n",
       " 'exit',\n",
       " 'get_ipython',\n",
       " 'l',\n",
       " 'quit',\n",
       " 'testFun',\n",
       " 'testmul']"
      ]
     },
     "execution_count": 8,
     "metadata": {},
     "output_type": "execute_result"
    }
   ],
   "source": [
    "dir()"
   ]
  },
  {
   "cell_type": "code",
   "execution_count": null,
   "id": "7a929437",
   "metadata": {},
   "outputs": [],
   "source": [
    "# Assignment to create GUI and print all files in a list using modulws and packages and if it conrains more than 2 pdf file the merge all"
   ]
  }
 ],
 "metadata": {
  "kernelspec": {
   "display_name": "Python 3 (ipykernel)",
   "language": "python",
   "name": "python3"
  },
  "language_info": {
   "codemirror_mode": {
    "name": "ipython",
    "version": 3
   },
   "file_extension": ".py",
   "mimetype": "text/x-python",
   "name": "python",
   "nbconvert_exporter": "python",
   "pygments_lexer": "ipython3",
   "version": "3.9.13"
  }
 },
 "nbformat": 4,
 "nbformat_minor": 5
}
