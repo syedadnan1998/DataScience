{
 "cells": [
  {
   "cell_type": "code",
   "execution_count": 1,
   "id": "e263473c",
   "metadata": {},
   "outputs": [
    {
     "data": {
      "text/plain": [
       "'C:\\\\Users\\\\DELL'"
      ]
     },
     "execution_count": 1,
     "metadata": {},
     "output_type": "execute_result"
    }
   ],
   "source": [
    "# while loop contiue\n"
   ]
  },
  {
   "cell_type": "code",
   "execution_count": 1,
   "id": "abdf1486",
   "metadata": {},
   "outputs": [],
   "source": [
    "# a=1\n",
    "# while a<6:\n",
    "#     print(a)\n",
    "    \n",
    "#     if a==4:\n",
    "#         continue\n",
    "#     a=a+1"
   ]
  },
  {
   "cell_type": "code",
   "execution_count": 1,
   "id": "eb1396ca",
   "metadata": {},
   "outputs": [
    {
     "name": "stdout",
     "output_type": "stream",
     "text": [
      "1\n",
      "2\n",
      "3\n",
      "4\n",
      "5\n"
     ]
    }
   ],
   "source": [
    "a=1\n",
    "while a<6:\n",
    "    print(a)\n",
    "    a=a+1\n",
    "    if a==4:\n",
    "        continue\n",
    "    "
   ]
  },
  {
   "cell_type": "code",
   "execution_count": 3,
   "id": "3c57179b",
   "metadata": {},
   "outputs": [],
   "source": [
    "while a<6:\n",
    "    pass\n"
   ]
  },
  {
   "cell_type": "code",
   "execution_count": 5,
   "id": "a95d689f",
   "metadata": {},
   "outputs": [
    {
     "data": {
      "text/plain": [
       "range(0, 9)"
      ]
     },
     "execution_count": 5,
     "metadata": {},
     "output_type": "execute_result"
    }
   ],
   "source": [
    "range(9)"
   ]
  },
  {
   "cell_type": "code",
   "execution_count": 9,
   "id": "ff3d572d",
   "metadata": {},
   "outputs": [
    {
     "data": {
      "text/plain": [
       "[0, 1, 2, 3, 4, 5, 6, 7, 8]"
      ]
     },
     "execution_count": 9,
     "metadata": {},
     "output_type": "execute_result"
    }
   ],
   "source": [
    "list(range(0,9))"
   ]
  },
  {
   "cell_type": "code",
   "execution_count": 10,
   "id": "7ad42890",
   "metadata": {},
   "outputs": [
    {
     "data": {
      "text/plain": [
       "[3, 8, 13, 18, 23, 28, 33, 38, 43, 48, 53, 58, 63, 68, 73, 78, 83, 88, 93, 98]"
      ]
     },
     "execution_count": 10,
     "metadata": {},
     "output_type": "execute_result"
    }
   ],
   "source": [
    "list(range(3,100,5))"
   ]
  },
  {
   "cell_type": "code",
   "execution_count": 11,
   "id": "9ee38f6f",
   "metadata": {},
   "outputs": [
    {
     "data": {
      "text/plain": [
       "[]"
      ]
     },
     "execution_count": 11,
     "metadata": {},
     "output_type": "execute_result"
    }
   ],
   "source": [
    "list(range(1,9,-1))"
   ]
  },
  {
   "cell_type": "code",
   "execution_count": 12,
   "id": "b9018db5",
   "metadata": {},
   "outputs": [
    {
     "data": {
      "text/plain": [
       "[10, 9, 8, 7, 6]"
      ]
     },
     "execution_count": 12,
     "metadata": {},
     "output_type": "execute_result"
    }
   ],
   "source": [
    "list(range(10,5,-1))"
   ]
  },
  {
   "cell_type": "code",
   "execution_count": 17,
   "id": "629ab172",
   "metadata": {},
   "outputs": [
    {
     "name": "stdout",
     "output_type": "stream",
     "text": [
      "10\n",
      "8\n",
      "6\n",
      "4\n",
      "2\n",
      "0\n",
      "-2\n",
      "-4\n"
     ]
    }
   ],
   "source": [
    "for i in range(10,-5,-2):\n",
    "    print(i)"
   ]
  },
  {
   "cell_type": "code",
   "execution_count": 48,
   "id": "8c68799c",
   "metadata": {},
   "outputs": [
    {
     "name": "stdout",
     "output_type": "stream",
     "text": [
      "     *\r\n",
      "    ***\r\n",
      "   *****\r\n",
      "  *******\r\n",
      " *********\r\n"
     ]
    }
   ],
   "source": [
    "# pattern\n",
    "for i in range(0,5):\n",
    "    for k in range(0,5-i):\n",
    "        print(end=\" \")\n",
    "    for j in range(0,2*i+1):\n",
    "        print(\"*\",end=\"\")\n",
    "    print(\"\\r\")\n"
   ]
  },
  {
   "cell_type": "code",
   "execution_count": 14,
   "id": "cd44c9e9",
   "metadata": {},
   "outputs": [
    {
     "data": {
      "text/plain": [
       "[0, 1, 2, 3, 4]"
      ]
     },
     "execution_count": 14,
     "metadata": {},
     "output_type": "execute_result"
    }
   ],
   "source": [
    "list(range(0,5))"
   ]
  },
  {
   "cell_type": "code",
   "execution_count": 47,
   "id": "262b24e2",
   "metadata": {},
   "outputs": [
    {
     "name": "stdout",
     "output_type": "stream",
     "text": [
      "*\r\n",
      "**\r\n",
      "***\r\n",
      "****\r\n",
      "*****\r\n"
     ]
    }
   ],
   "source": [
    "for i in range(0,5,1):\n",
    "   \n",
    "    for j in range(0,i+1):\n",
    "        print(\"*\",end=\"\")\n",
    "    print(\"\\r\")"
   ]
  },
  {
   "cell_type": "code",
   "execution_count": 35,
   "id": "48ad020b",
   "metadata": {},
   "outputs": [
    {
     "data": {
      "text/plain": [
       "1"
      ]
     },
     "execution_count": 35,
     "metadata": {},
     "output_type": "execute_result"
    }
   ],
   "source": [
    "t=(1,3,4,6,8,9)\n",
    "t[0]"
   ]
  },
  {
   "cell_type": "code",
   "execution_count": 41,
   "id": "d43f7a13",
   "metadata": {},
   "outputs": [
    {
     "name": "stdout",
     "output_type": "stream",
     "text": [
      "5 index value is  9\n",
      "4 index value is  8\n",
      "3 index value is  6\n",
      "2 index value is  4\n",
      "1 index value is  3\n",
      "0 index value is  1\n"
     ]
    }
   ],
   "source": [
    "# with for loop reverse tuple\n",
    "for i in range(len(t)-1,-1,-1):\n",
    "    print(i,\"index value is \",t[i])\n",
    "    \n",
    "    "
   ]
  },
  {
   "cell_type": "code",
   "execution_count": 3,
   "id": "4f4c2501",
   "metadata": {},
   "outputs": [],
   "source": [
    "d={\"a\":\"dcds\",\"b\":\"cdsc\",\"c\":122,\"d\":(1,2,3)}"
   ]
  },
  {
   "cell_type": "code",
   "execution_count": 4,
   "id": "27b30283",
   "metadata": {},
   "outputs": [
    {
     "name": "stdout",
     "output_type": "stream",
     "text": [
      "a\n",
      "b\n",
      "c\n",
      "d\n"
     ]
    }
   ],
   "source": [
    "for i in d:\n",
    "    print(i)"
   ]
  },
  {
   "cell_type": "code",
   "execution_count": 5,
   "id": "545c5ea7",
   "metadata": {},
   "outputs": [
    {
     "name": "stdout",
     "output_type": "stream",
     "text": [
      "('a', 'dcds')\n",
      "('b', 'cdsc')\n",
      "('c', 122)\n",
      "('d', (1, 2, 3))\n"
     ]
    }
   ],
   "source": [
    "for i in d.items():\n",
    "    print(i)"
   ]
  },
  {
   "cell_type": "code",
   "execution_count": 11,
   "id": "34236136",
   "metadata": {},
   "outputs": [
    {
     "data": {
      "text/plain": [
       "{1, 3, 4, 5, 56, 322}"
      ]
     },
     "execution_count": 11,
     "metadata": {},
     "output_type": "execute_result"
    }
   ],
   "source": [
    "s={1,56,3,322,3,4,5}\n",
    "s"
   ]
  },
  {
   "cell_type": "code",
   "execution_count": 13,
   "id": "a6ed8d6f",
   "metadata": {},
   "outputs": [
    {
     "name": "stdout",
     "output_type": "stream",
     "text": [
      "1\n",
      "322\n",
      "3\n",
      "4\n",
      "5\n",
      "56\n"
     ]
    }
   ],
   "source": [
    "for i in s:\n",
    "    print(i)\n",
    "    #gives an undered set"
   ]
  },
  {
   "cell_type": "markdown",
   "id": "52d8605e",
   "metadata": {},
   "source": [
    "# Functions"
   ]
  },
  {
   "cell_type": "code",
   "execution_count": null,
   "id": "e0a5fd27",
   "metadata": {},
   "outputs": [],
   "source": [
    "# len(),print()"
   ]
  },
  {
   "cell_type": "code",
   "execution_count": 2,
   "id": "538a7191",
   "metadata": {},
   "outputs": [],
   "source": [
    "def test():\n",
    "    pass"
   ]
  },
  {
   "cell_type": "code",
   "execution_count": 3,
   "id": "81bdb1ec",
   "metadata": {},
   "outputs": [],
   "source": [
    "def test1():\n",
    "    print(\"my first func\")\n",
    "    "
   ]
  },
  {
   "cell_type": "code",
   "execution_count": 4,
   "id": "a27ad5aa",
   "metadata": {},
   "outputs": [
    {
     "name": "stdout",
     "output_type": "stream",
     "text": [
      "my first func\n"
     ]
    }
   ],
   "source": [
    "test1()"
   ]
  },
  {
   "cell_type": "code",
   "execution_count": 6,
   "id": "9bdb19aa",
   "metadata": {},
   "outputs": [
    {
     "name": "stdout",
     "output_type": "stream",
     "text": [
      "my first func\n"
     ]
    }
   ],
   "source": [
    "a=test1()"
   ]
  },
  {
   "cell_type": "code",
   "execution_count": 7,
   "id": "9615b70e",
   "metadata": {},
   "outputs": [
    {
     "ename": "TypeError",
     "evalue": "unsupported operand type(s) for +: 'NoneType' and 'str'",
     "output_type": "error",
     "traceback": [
      "\u001b[1;31m---------------------------------------------------------------------------\u001b[0m",
      "\u001b[1;31mTypeError\u001b[0m                                 Traceback (most recent call last)",
      "\u001b[1;32m~\\AppData\\Local\\Temp\\ipykernel_12180\\3196265913.py\u001b[0m in \u001b[0;36m<module>\u001b[1;34m\u001b[0m\n\u001b[1;32m----> 1\u001b[1;33m \u001b[0ma\u001b[0m\u001b[1;33m+\u001b[0m\u001b[1;34m\"adnan\"\u001b[0m\u001b[1;33m\u001b[0m\u001b[1;33m\u001b[0m\u001b[0m\n\u001b[0m",
      "\u001b[1;31mTypeError\u001b[0m: unsupported operand type(s) for +: 'NoneType' and 'str'"
     ]
    }
   ],
   "source": [
    "a+\"adnan\""
   ]
  },
  {
   "cell_type": "code",
   "execution_count": 8,
   "id": "8c839048",
   "metadata": {},
   "outputs": [
    {
     "data": {
      "text/plain": [
       "NoneType"
      ]
     },
     "execution_count": 8,
     "metadata": {},
     "output_type": "execute_result"
    }
   ],
   "source": [
    "type(a)"
   ]
  },
  {
   "cell_type": "code",
   "execution_count": 9,
   "id": "7901fce7",
   "metadata": {},
   "outputs": [
    {
     "name": "stdout",
     "output_type": "stream",
     "text": [
      "my first func\n"
     ]
    },
    {
     "data": {
      "text/plain": [
       "NoneType"
      ]
     },
     "execution_count": 9,
     "metadata": {},
     "output_type": "execute_result"
    }
   ],
   "source": [
    "type(test1())"
   ]
  },
  {
   "cell_type": "code",
   "execution_count": 10,
   "id": "ac01d065",
   "metadata": {},
   "outputs": [
    {
     "data": {
      "text/plain": [
       "'None'"
      ]
     },
     "execution_count": 10,
     "metadata": {},
     "output_type": "execute_result"
    }
   ],
   "source": [
    "str(a)"
   ]
  },
  {
   "cell_type": "code",
   "execution_count": 13,
   "id": "e5378dc1",
   "metadata": {},
   "outputs": [],
   "source": [
    "def test2():\n",
    "    return \"my first func\""
   ]
  },
  {
   "cell_type": "code",
   "execution_count": 12,
   "id": "beb63401",
   "metadata": {},
   "outputs": [
    {
     "data": {
      "text/plain": [
       "'my first func'"
      ]
     },
     "execution_count": 12,
     "metadata": {},
     "output_type": "execute_result"
    }
   ],
   "source": [
    "test2()"
   ]
  },
  {
   "cell_type": "code",
   "execution_count": 14,
   "id": "1c804798",
   "metadata": {},
   "outputs": [],
   "source": [
    "a=test2()"
   ]
  },
  {
   "cell_type": "code",
   "execution_count": 15,
   "id": "84fc78bf",
   "metadata": {},
   "outputs": [
    {
     "data": {
      "text/plain": [
       "str"
      ]
     },
     "execution_count": 15,
     "metadata": {},
     "output_type": "execute_result"
    }
   ],
   "source": [
    "type(test2())"
   ]
  },
  {
   "cell_type": "code",
   "execution_count": 16,
   "id": "ef157e53",
   "metadata": {},
   "outputs": [
    {
     "data": {
      "text/plain": [
       "'my first func adnan'"
      ]
     },
     "execution_count": 16,
     "metadata": {},
     "output_type": "execute_result"
    }
   ],
   "source": [
    "test2()+\" adnan\""
   ]
  },
  {
   "cell_type": "code",
   "execution_count": 17,
   "id": "3dd4a3f7",
   "metadata": {},
   "outputs": [],
   "source": [
    "def test3():\n",
    "    return 34"
   ]
  },
  {
   "cell_type": "code",
   "execution_count": 20,
   "id": "690e7c89",
   "metadata": {},
   "outputs": [],
   "source": [
    "a=test3()"
   ]
  },
  {
   "cell_type": "code",
   "execution_count": 21,
   "id": "fe8d2575",
   "metadata": {},
   "outputs": [
    {
     "data": {
      "text/plain": [
       "int"
      ]
     },
     "execution_count": 21,
     "metadata": {},
     "output_type": "execute_result"
    }
   ],
   "source": [
    "type(test3())"
   ]
  },
  {
   "cell_type": "code",
   "execution_count": 22,
   "id": "671e5f01",
   "metadata": {},
   "outputs": [
    {
     "data": {
      "text/plain": [
       "'34adnan'"
      ]
     },
     "execution_count": 22,
     "metadata": {},
     "output_type": "execute_result"
    }
   ],
   "source": [
    "str(a)+\"adnan\""
   ]
  },
  {
   "cell_type": "code",
   "execution_count": 24,
   "id": "b7688068",
   "metadata": {},
   "outputs": [],
   "source": [
    "def test4():\n",
    "    return \"my first func\",4,1,[1,2,3,4]"
   ]
  },
  {
   "cell_type": "code",
   "execution_count": 25,
   "id": "2827aade",
   "metadata": {},
   "outputs": [
    {
     "data": {
      "text/plain": [
       "('my first func', 4, 1, [1, 2, 3, 4])"
      ]
     },
     "execution_count": 25,
     "metadata": {},
     "output_type": "execute_result"
    }
   ],
   "source": [
    "test4()"
   ]
  },
  {
   "cell_type": "code",
   "execution_count": 27,
   "id": "6bdc88b9",
   "metadata": {},
   "outputs": [
    {
     "data": {
      "text/plain": [
       "tuple"
      ]
     },
     "execution_count": 27,
     "metadata": {},
     "output_type": "execute_result"
    }
   ],
   "source": [
    "type(test4())"
   ]
  },
  {
   "cell_type": "code",
   "execution_count": 28,
   "id": "af54334d",
   "metadata": {},
   "outputs": [],
   "source": [
    "b=test4()"
   ]
  },
  {
   "cell_type": "code",
   "execution_count": 29,
   "id": "8ac2916d",
   "metadata": {},
   "outputs": [
    {
     "data": {
      "text/plain": [
       "4"
      ]
     },
     "execution_count": 29,
     "metadata": {},
     "output_type": "execute_result"
    }
   ],
   "source": [
    "b[1]"
   ]
  },
  {
   "cell_type": "code",
   "execution_count": 30,
   "id": "beb29d98",
   "metadata": {},
   "outputs": [],
   "source": [
    "a,b,c,d=test4()"
   ]
  },
  {
   "cell_type": "code",
   "execution_count": 31,
   "id": "d3de35d0",
   "metadata": {},
   "outputs": [
    {
     "data": {
      "text/plain": [
       "'my first func'"
      ]
     },
     "execution_count": 31,
     "metadata": {},
     "output_type": "execute_result"
    }
   ],
   "source": [
    "a"
   ]
  },
  {
   "cell_type": "code",
   "execution_count": 32,
   "id": "7505f5b5",
   "metadata": {},
   "outputs": [
    {
     "data": {
      "text/plain": [
       "4"
      ]
     },
     "execution_count": 32,
     "metadata": {},
     "output_type": "execute_result"
    }
   ],
   "source": [
    "b\n"
   ]
  },
  {
   "cell_type": "code",
   "execution_count": 33,
   "id": "99162436",
   "metadata": {},
   "outputs": [
    {
     "data": {
      "text/plain": [
       "[1, 2, 3, 4]"
      ]
     },
     "execution_count": 33,
     "metadata": {},
     "output_type": "execute_result"
    }
   ],
   "source": [
    "d"
   ]
  },
  {
   "cell_type": "code",
   "execution_count": 34,
   "id": "a6f5367f",
   "metadata": {},
   "outputs": [],
   "source": [
    "def test6():\n",
    "    a=7*7/5\n",
    "    return a"
   ]
  },
  {
   "cell_type": "code",
   "execution_count": 35,
   "id": "c58d6259",
   "metadata": {},
   "outputs": [
    {
     "data": {
      "text/plain": [
       "9.8"
      ]
     },
     "execution_count": 35,
     "metadata": {},
     "output_type": "execute_result"
    }
   ],
   "source": [
    "test6()"
   ]
  },
  {
   "cell_type": "code",
   "execution_count": 58,
   "id": "3c257e99",
   "metadata": {},
   "outputs": [],
   "source": [
    "l=[3,4,5,6,7,\"sudh\",5.5,[1,2,3],5]\n",
    "# func to filter only int\n",
    "def test7(a):\n",
    "    n=[]\n",
    "    if type(a)==list:\n",
    "        for i in a:\n",
    "            if(type(i)==int):\n",
    "                n.append(i)\n",
    "    return n"
   ]
  },
  {
   "cell_type": "code",
   "execution_count": 59,
   "id": "9a720329",
   "metadata": {},
   "outputs": [
    {
     "data": {
      "text/plain": [
       "[3, 4, 5, 6, 7, 5]"
      ]
     },
     "execution_count": 59,
     "metadata": {},
     "output_type": "execute_result"
    }
   ],
   "source": [
    "test7(l)"
   ]
  },
  {
   "cell_type": "code",
   "execution_count": 65,
   "id": "24065bc7",
   "metadata": {},
   "outputs": [],
   "source": [
    "# take input as dict and return keys\n",
    "def test8(c):\n",
    "    if type(c)==dict:\n",
    "        return c.keys()"
   ]
  },
  {
   "cell_type": "code",
   "execution_count": 66,
   "id": "e725bb0e",
   "metadata": {},
   "outputs": [
    {
     "data": {
      "text/plain": [
       "dict_keys(['a', 'b', 'xx'])"
      ]
     },
     "execution_count": 66,
     "metadata": {},
     "output_type": "execute_result"
    }
   ],
   "source": [
    "test8({\"a\":\"adnna\",\"b\":\"adnna\",\"xx\":12})"
   ]
  },
  {
   "cell_type": "code",
   "execution_count": 86,
   "id": "a9c4258e",
   "metadata": {},
   "outputs": [],
   "source": [
    "def test9(a,b):\n",
    "    if type(a)==list and type(a)==list:\n",
    "        a.extend(b)\n",
    "        return a\n",
    "    else:\n",
    "        return \"Not a list\"\n",
    "    "
   ]
  },
  {
   "cell_type": "code",
   "execution_count": 87,
   "id": "efb5cce8",
   "metadata": {},
   "outputs": [
    {
     "data": {
      "text/plain": [
       "[4, 3, 4, 1, 2, 3]"
      ]
     },
     "execution_count": 87,
     "metadata": {},
     "output_type": "execute_result"
    }
   ],
   "source": [
    "test9([4,3,4],[1,2,3])\n",
    "# we are not able to see becox we are not storing list anywhere"
   ]
  },
  {
   "cell_type": "code",
   "execution_count": 88,
   "id": "5b0366a5",
   "metadata": {},
   "outputs": [],
   "source": [
    "a=[4,3,4]\n",
    "b=[1,2,3]"
   ]
  },
  {
   "cell_type": "code",
   "execution_count": 89,
   "id": "0bbc10d5",
   "metadata": {},
   "outputs": [
    {
     "data": {
      "text/plain": [
       "[4, 3, 4, 1, 2, 3]"
      ]
     },
     "execution_count": 89,
     "metadata": {},
     "output_type": "execute_result"
    }
   ],
   "source": [
    "test9(a,b)"
   ]
  },
  {
   "cell_type": "code",
   "execution_count": 90,
   "id": "05a8182d",
   "metadata": {},
   "outputs": [
    {
     "data": {
      "text/plain": [
       "[4, 3, 4, 1, 2, 3]"
      ]
     },
     "execution_count": 90,
     "metadata": {},
     "output_type": "execute_result"
    }
   ],
   "source": [
    "a"
   ]
  },
  {
   "cell_type": "code",
   "execution_count": 21,
   "id": "238d4174",
   "metadata": {},
   "outputs": [],
   "source": [
    "def triangle(row):\n",
    "    '''dcddvfs'''\n",
    "    for i in range(0,row):\n",
    "        for j in range(i+1):\n",
    "            print(\".\",end=\" \")\n",
    "        print(\"\\n\")"
   ]
  },
  {
   "cell_type": "code",
   "execution_count": 20,
   "id": "8002e034",
   "metadata": {},
   "outputs": [
    {
     "name": "stdout",
     "output_type": "stream",
     "text": [
      ". \n",
      "\n",
      ". . \n",
      "\n",
      ". . . \n",
      "\n",
      ". . . . \n",
      "\n",
      ". . . . . \n",
      "\n",
      ". . . . . . \n",
      "\n",
      ". . . . . . . \n",
      "\n",
      ". . . . . . . . \n",
      "\n",
      ". . . . . . . . . \n",
      "\n",
      ". . . . . . . . . . \n",
      "\n"
     ]
    }
   ],
   "source": [
    "triangle(10)"
   ]
  },
  {
   "cell_type": "code",
   "execution_count": 25,
   "id": "09966918",
   "metadata": {},
   "outputs": [
    {
     "name": "stdout",
     "output_type": "stream",
     "text": [
      "Help on function triangle in module __main__:\n",
      "\n",
      "triangle(row)\n",
      "    dcddvfs\n",
      "\n"
     ]
    }
   ],
   "source": [
    "help(triangle)"
   ]
  },
  {
   "cell_type": "code",
   "execution_count": null,
   "id": "9d80edd3",
   "metadata": {},
   "outputs": [],
   "source": [
    "\"\"\"fhdhg\n",
    "fh\n",
    "yt\n",
    "htr\n",
    "hytr\"\"\""
   ]
  },
  {
   "cell_type": "code",
   "execution_count": 1,
   "id": "a869b4e3",
   "metadata": {},
   "outputs": [],
   "source": [
    "# Tasks \n",
    "# 1/write func which wil take string and return the lrnth of string\n",
    "2func which will print the index of all primitive elementrs passed?\n",
    "# fuc i/p as dic and return the list of all the val even is second levelof nested lpoop\n",
    "# func wehich will take list  as input and give concatiinatiuon of all elems\n",
    "# func wehich will take list  as input and give index of all elems even if there are repetetive elems then it returns index"
   ]
  },
  {
   "cell_type": "code",
   "execution_count": 3,
   "id": "dd88e67a",
   "metadata": {},
   "outputs": [
    {
     "data": {
      "text/plain": [
       "19"
      ]
     },
     "execution_count": 3,
     "metadata": {},
     "output_type": "execute_result"
    }
   ],
   "source": [
    "# Task1?\n",
    "\n",
    "def length_string(stri):\n",
    "    a=0;\n",
    "    for i in stri:\n",
    "        a+=1\n",
    "    return a\n",
    "length_string(\"Syed Mohammad Adnan\")\n",
    "        "
   ]
  },
  {
   "cell_type": "code",
   "execution_count": 11,
   "id": "007f2648",
   "metadata": {},
   "outputs": [
    {
     "name": "stdout",
     "output_type": "stream",
     "text": [
      "0\n",
      "1\n",
      "2\n",
      "3\n",
      "4\n",
      "5\n",
      "6\n",
      "7\n",
      "8\n"
     ]
    }
   ],
   "source": [
    "# task2\n",
    "def index_permitive(elem):\n",
    "    for i in range(len(elem)):\n",
    "        print(i)\n",
    "index_permitive(\"ADNANMIAN\")"
   ]
  },
  {
   "cell_type": "code",
   "execution_count": 32,
   "id": "8c1db947",
   "metadata": {},
   "outputs": [
    {
     "data": {
      "text/plain": [
       "dict_values(['ADNAN', 'Bipasha Basu', 'Celvin Kelin', {'E': 'Elep', 'F': 'Fish'}])"
      ]
     },
     "execution_count": 32,
     "metadata": {},
     "output_type": "execute_result"
    }
   ],
   "source": [
    "# task3(to do)\n",
    "def dict_list(elem):\n",
    "    if(type(elem)==dict):\n",
    "        return elem.values()\n",
    "dict_list({\"A\":\"ADNAN\",\"B\":\"Bipasha Basu\",\"C\":\"Celvin Kelin\",\"D\":{\"E\":\"Elep\",\"F\":\"Fish\"}})"
   ]
  },
  {
   "cell_type": "code",
   "execution_count": 42,
   "id": "01506e96",
   "metadata": {},
   "outputs": [
    {
     "data": {
      "text/plain": [
       "7"
      ]
     },
     "execution_count": 42,
     "metadata": {},
     "output_type": "execute_result"
    }
   ],
   "source": [
    "# task4\n",
    "def test():\n",
    "    return \"How r u\"\n",
    "def fun():\n",
    "     a=0;\n",
    "     for i in test():\n",
    "        a+=1\n",
    "     return a\n",
    "fun()\n"
   ]
  },
  {
   "cell_type": "code",
   "execution_count": 57,
   "id": "6af3ab5d",
   "metadata": {},
   "outputs": [
    {
     "data": {
      "text/plain": [
       "'1adnanss2'"
      ]
     },
     "execution_count": 57,
     "metadata": {},
     "output_type": "execute_result"
    }
   ],
   "source": [
    "# task5\n",
    "def concatList(list):\n",
    "    strx=\"\"\n",
    "    for i in list:\n",
    "        strx=strx + str(i)\n",
    "    return strx\n",
    "concatList([1,\"adnan\",\"ss\",2])"
   ]
  },
  {
   "cell_type": "code",
   "execution_count": 62,
   "id": "0c38919d",
   "metadata": {},
   "outputs": [
    {
     "name": "stdout",
     "output_type": "stream",
     "text": [
      "0\n",
      "1\n",
      "2\n",
      "3\n",
      "4\n",
      "5\n"
     ]
    }
   ],
   "source": [
    "# task6\n",
    "def list_index(list):\n",
    "    for i in range(len(list)):\n",
    "        print(i)\n",
    "list_index([1,\"adnan\",\"ss\",2,2,3])"
   ]
  },
  {
   "cell_type": "code",
   "execution_count": 65,
   "id": "d27a2a50",
   "metadata": {},
   "outputs": [
    {
     "data": {
      "text/plain": [
       "['.cache',\n",
       " '.conda',\n",
       " '.condarc',\n",
       " '.config',\n",
       " '.continuum',\n",
       " '.eclipse',\n",
       " '.ipynb_checkpoints',\n",
       " '.ipython',\n",
       " '.jupyter',\n",
       " '.keras',\n",
       " '.lemminx',\n",
       " '.m2',\n",
       " '.matplotlib',\n",
       " '.ms-ad',\n",
       " '.sts4',\n",
       " '.vscode',\n",
       " '3D Objects',\n",
       " 'AppData',\n",
       " 'Application Data',\n",
       " 'Contacts',\n",
       " 'Cookies',\n",
       " 'Desktop',\n",
       " 'Documents',\n",
       " 'Downloads',\n",
       " 'Favorites',\n",
       " 'IntelGraphicsProfiles',\n",
       " 'Links',\n",
       " 'Local Settings',\n",
       " 'Music',\n",
       " 'My Documents',\n",
       " 'NetHood',\n",
       " 'NTUSER.DAT',\n",
       " 'ntuser.dat.LOG1',\n",
       " 'ntuser.dat.LOG2',\n",
       " 'NTUSER.DAT{b0db15e3-e3fd-11ec-8f9c-080027ec4824}.TM.blf',\n",
       " 'NTUSER.DAT{b0db15e3-e3fd-11ec-8f9c-080027ec4824}.TMContainer00000000000000000001.regtrans-ms',\n",
       " 'NTUSER.DAT{b0db15e3-e3fd-11ec-8f9c-080027ec4824}.TMContainer00000000000000000002.regtrans-ms',\n",
       " 'ntuser.ini',\n",
       " 'OneDrive',\n",
       " 'Pictures',\n",
       " 'PrintHood',\n",
       " 'Python  Basics part 1.zip',\n",
       " 'Python  Basics.ipynb',\n",
       " 'Python Basics Part 2.ipynb',\n",
       " 'RASA_Chatbot',\n",
       " 'Recent',\n",
       " 'Saved Games',\n",
       " 'Searches',\n",
       " 'SendTo',\n",
       " 'Start Menu',\n",
       " 'Templates',\n",
       " 'Videos']"
      ]
     },
     "execution_count": 65,
     "metadata": {},
     "output_type": "execute_result"
    }
   ],
   "source": [
    "# task7\n",
    "import os\n",
    "def list_filenames_dir():\n",
    "    return os.listdir(\"C:\\\\Users\\\\DELL\")\n",
    "list_filenames_dir()\n",
    "    "
   ]
  },
  {
   "cell_type": "code",
   "execution_count": 67,
   "id": "2f727cfd",
   "metadata": {},
   "outputs": [],
   "source": [
    "# task8\n",
    "import platform"
   ]
  },
  {
   "cell_type": "code",
   "execution_count": 70,
   "id": "bd752a1d",
   "metadata": {
    "scrolled": true
   },
   "outputs": [
    {
     "data": {
      "text/plain": [
       "'10.0.19044'"
      ]
     },
     "execution_count": 70,
     "metadata": {},
     "output_type": "execute_result"
    }
   ],
   "source": [
    "platform.machine()\n",
    "platform.version()"
   ]
  },
  {
   "cell_type": "code",
   "execution_count": 71,
   "id": "75e64822",
   "metadata": {},
   "outputs": [
    {
     "data": {
      "text/plain": [
       "uname_result(system='Windows', node='DESKTOP-6RBNGV3', release='10', version='10.0.19044', machine='AMD64')"
      ]
     },
     "execution_count": 71,
     "metadata": {},
     "output_type": "execute_result"
    }
   ],
   "source": [
    "platform.uname()"
   ]
  },
  {
   "cell_type": "code",
   "execution_count": 73,
   "id": "065d2c44",
   "metadata": {},
   "outputs": [
    {
     "data": {
      "text/plain": [
       "'Intel64 Family 6 Model 142 Stepping 10, GenuineIntel'"
      ]
     },
     "execution_count": 73,
     "metadata": {},
     "output_type": "execute_result"
    }
   ],
   "source": [
    "platform.processor()"
   ]
  },
  {
   "cell_type": "code",
   "execution_count": 74,
   "id": "2d00301f",
   "metadata": {},
   "outputs": [],
   "source": [
    "import datetime"
   ]
  },
  {
   "cell_type": "code",
   "execution_count": 75,
   "id": "4ab1f2f2",
   "metadata": {},
   "outputs": [],
   "source": [
    "current_time = datetime.datetime.now()"
   ]
  },
  {
   "cell_type": "code",
   "execution_count": 76,
   "id": "fbc828d9",
   "metadata": {},
   "outputs": [
    {
     "data": {
      "text/plain": [
       "2023"
      ]
     },
     "execution_count": 76,
     "metadata": {},
     "output_type": "execute_result"
    }
   ],
   "source": [
    "current_time.year"
   ]
  },
  {
   "cell_type": "code",
   "execution_count": 79,
   "id": "2080dccf",
   "metadata": {},
   "outputs": [
    {
     "data": {
      "text/plain": [
       "2"
      ]
     },
     "execution_count": 79,
     "metadata": {},
     "output_type": "execute_result"
    }
   ],
   "source": [
    "current_time.day"
   ]
  },
  {
   "cell_type": "code",
   "execution_count": 80,
   "id": "2c0da9eb",
   "metadata": {},
   "outputs": [
    {
     "data": {
      "text/plain": [
       "17"
      ]
     },
     "execution_count": 80,
     "metadata": {},
     "output_type": "execute_result"
    }
   ],
   "source": [
    "current_time.hour"
   ]
  },
  {
   "cell_type": "code",
   "execution_count": 83,
   "id": "48a71706",
   "metadata": {},
   "outputs": [
    {
     "data": {
      "text/plain": [
       "3"
      ]
     },
     "execution_count": 83,
     "metadata": {},
     "output_type": "execute_result"
    }
   ],
   "source": [
    "current_time.minute"
   ]
  },
  {
   "cell_type": "code",
   "execution_count": 85,
   "id": "c726da61",
   "metadata": {},
   "outputs": [
    {
     "ename": "ModuleNotFoundError",
     "evalue": "No module named 'cv2'",
     "output_type": "error",
     "traceback": [
      "\u001b[1;31m---------------------------------------------------------------------------\u001b[0m",
      "\u001b[1;31mModuleNotFoundError\u001b[0m                       Traceback (most recent call last)",
      "\u001b[1;32m~\\AppData\\Local\\Temp\\ipykernel_10108\\4235477061.py\u001b[0m in \u001b[0;36m<module>\u001b[1;34m\u001b[0m\n\u001b[1;32m----> 1\u001b[1;33m \u001b[1;32mimport\u001b[0m \u001b[0mcv2\u001b[0m\u001b[1;33m\u001b[0m\u001b[1;33m\u001b[0m\u001b[0m\n\u001b[0m",
      "\u001b[1;31mModuleNotFoundError\u001b[0m: No module named 'cv2'"
     ]
    }
   ],
   "source": [
    "import cv2\n"
   ]
  },
  {
   "cell_type": "code",
   "execution_count": null,
   "id": "7d486238",
   "metadata": {},
   "outputs": [],
   "source": []
  },
  {
   "cell_type": "code",
   "execution_count": null,
   "id": "d98285aa",
   "metadata": {},
   "outputs": [],
   "source": []
  },
  {
   "cell_type": "code",
   "execution_count": null,
   "id": "8f5a2d19",
   "metadata": {},
   "outputs": [],
   "source": []
  },
  {
   "cell_type": "code",
   "execution_count": null,
   "id": "badf6e6d",
   "metadata": {},
   "outputs": [],
   "source": []
  },
  {
   "cell_type": "code",
   "execution_count": null,
   "id": "c35590bf",
   "metadata": {},
   "outputs": [],
   "source": []
  },
  {
   "cell_type": "code",
   "execution_count": 87,
   "id": "26a186a9",
   "metadata": {},
   "outputs": [],
   "source": [
    "def test(a,b,c):\n",
    "    return a,b,c"
   ]
  },
  {
   "cell_type": "code",
   "execution_count": 89,
   "id": "f586e5c8",
   "metadata": {},
   "outputs": [
    {
     "data": {
      "text/plain": [
       "(1, 2, 3)"
      ]
     },
     "execution_count": 89,
     "metadata": {},
     "output_type": "execute_result"
    }
   ],
   "source": [
    "test(1,2,3)"
   ]
  },
  {
   "cell_type": "code",
   "execution_count": 90,
   "id": "e22aeaca",
   "metadata": {},
   "outputs": [],
   "source": [
    "def test(*args):\n",
    "    return args"
   ]
  },
  {
   "cell_type": "code",
   "execution_count": 92,
   "id": "a6ed2fb7",
   "metadata": {},
   "outputs": [
    {
     "data": {
      "text/plain": [
       "(1, 2, 3, 4, 5)"
      ]
     },
     "execution_count": 92,
     "metadata": {},
     "output_type": "execute_result"
    }
   ],
   "source": [
    "test(1,2,3,4,5)"
   ]
  },
  {
   "cell_type": "code",
   "execution_count": 99,
   "id": "b979dd78",
   "metadata": {},
   "outputs": [],
   "source": [
    "def test(*args,a):\n",
    "    return args,a\n",
    "\n"
   ]
  },
  {
   "cell_type": "code",
   "execution_count": 100,
   "id": "44a55674",
   "metadata": {},
   "outputs": [
    {
     "data": {
      "text/plain": [
       "((1, 2, 3, 4, 5), 6)"
      ]
     },
     "execution_count": 100,
     "metadata": {},
     "output_type": "execute_result"
    }
   ],
   "source": [
    "test(1,2,3,4,5,a=6)"
   ]
  },
  {
   "cell_type": "code",
   "execution_count": 101,
   "id": "8ac6c580",
   "metadata": {},
   "outputs": [],
   "source": [
    "def test(a,*args):\n",
    "    return args,a"
   ]
  },
  {
   "cell_type": "code",
   "execution_count": 102,
   "id": "5ca3263f",
   "metadata": {},
   "outputs": [
    {
     "data": {
      "text/plain": [
       "((2, 3, 4, 5), 1)"
      ]
     },
     "execution_count": 102,
     "metadata": {},
     "output_type": "execute_result"
    }
   ],
   "source": [
    "test(1,2,3,4,5)"
   ]
  },
  {
   "cell_type": "code",
   "execution_count": 121,
   "id": "b3a26377",
   "metadata": {},
   "outputs": [],
   "source": [
    "def test(a,*args,b,c):\n",
    "    return args"
   ]
  },
  {
   "cell_type": "code",
   "execution_count": 122,
   "id": "5feb550a",
   "metadata": {},
   "outputs": [
    {
     "data": {
      "text/plain": [
       "(2, [3, 4, 5])"
      ]
     },
     "execution_count": 122,
     "metadata": {},
     "output_type": "execute_result"
    }
   ],
   "source": [
    "test(1,2,[3,4,5],b=4,c=\"3432\")"
   ]
  },
  {
   "cell_type": "code",
   "execution_count": 120,
   "id": "9a6ad35e",
   "metadata": {},
   "outputs": [],
   "source": [
    "def test(**kwrgs):\n",
    "    return kwrgs"
   ]
  },
  {
   "cell_type": "code",
   "execution_count": 105,
   "id": "cef87356",
   "metadata": {},
   "outputs": [
    {
     "data": {
      "text/plain": [
       "{'a': 1, 'b': 2, 'c': 3}"
      ]
     },
     "execution_count": 105,
     "metadata": {},
     "output_type": "execute_result"
    }
   ],
   "source": [
    "test(a=1,b=2,c=3)"
   ]
  },
  {
   "cell_type": "code",
   "execution_count": 107,
   "id": "d03e4f55",
   "metadata": {},
   "outputs": [
    {
     "data": {
      "text/plain": [
       "{'a': 'adnan', 'b': 2, 'c': True}"
      ]
     },
     "execution_count": 107,
     "metadata": {},
     "output_type": "execute_result"
    }
   ],
   "source": [
    "test(a=\"adnan\",b=2,c=True)"
   ]
  },
  {
   "cell_type": "code",
   "execution_count": 129,
   "id": "ab1eb487",
   "metadata": {},
   "outputs": [],
   "source": [
    "def test(a,*args,**kwrgs):\n",
    "    return a,args,kwrgs"
   ]
  },
  {
   "cell_type": "code",
   "execution_count": 131,
   "id": "7e79534f",
   "metadata": {},
   "outputs": [
    {
     "data": {
      "text/plain": [
       "(1, (2, 3, 4, 5, [1, 2, 3, 4]), {'b': 'scsa', 'c': 'scsa'})"
      ]
     },
     "execution_count": 131,
     "metadata": {},
     "output_type": "execute_result"
    }
   ],
   "source": [
    "test(1,2,3,4,5,[1,2,3,4],b=\"scsa\",c=\"scsa\")"
   ]
  },
  {
   "cell_type": "markdown",
   "id": "dce40dc6",
   "metadata": {},
   "source": [
    "# Anonymous Func Lambda fun"
   ]
  },
  {
   "cell_type": "code",
   "execution_count": 135,
   "id": "9ee9d098",
   "metadata": {},
   "outputs": [],
   "source": [
    "a=lambda a,b :(a*b,a+b)"
   ]
  },
  {
   "cell_type": "code",
   "execution_count": 136,
   "id": "74bcd9a5",
   "metadata": {},
   "outputs": [
    {
     "data": {
      "text/plain": [
       "(200, 30)"
      ]
     },
     "execution_count": 136,
     "metadata": {},
     "output_type": "execute_result"
    }
   ],
   "source": [
    "a(10,20)"
   ]
  },
  {
   "cell_type": "code",
   "execution_count": 137,
   "id": "4a0a4c63",
   "metadata": {},
   "outputs": [],
   "source": [
    "a=lambda *a:a"
   ]
  },
  {
   "cell_type": "code",
   "execution_count": 138,
   "id": "d5e13ab7",
   "metadata": {},
   "outputs": [
    {
     "data": {
      "text/plain": [
       "(10, 20, 30)"
      ]
     },
     "execution_count": 138,
     "metadata": {},
     "output_type": "execute_result"
    }
   ],
   "source": [
    "a(10,20,30)"
   ]
  },
  {
   "cell_type": "code",
   "execution_count": 141,
   "id": "13d10d9b",
   "metadata": {},
   "outputs": [],
   "source": [
    "x=lambda x: [i for i in x]"
   ]
  },
  {
   "cell_type": "code",
   "execution_count": 142,
   "id": "f10091cd",
   "metadata": {},
   "outputs": [
    {
     "data": {
      "text/plain": [
       "[2, 3, 45, 5]"
      ]
     },
     "execution_count": 142,
     "metadata": {},
     "output_type": "execute_result"
    }
   ],
   "source": [
    "x([2,3,45,5])"
   ]
  },
  {
   "cell_type": "code",
   "execution_count": 143,
   "id": "597d0cc1",
   "metadata": {},
   "outputs": [],
   "source": [
    "a=lambda **kwargs:kwargs"
   ]
  },
  {
   "cell_type": "code",
   "execution_count": 146,
   "id": "24f76b4a",
   "metadata": {},
   "outputs": [
    {
     "data": {
      "text/plain": [
       "{'a': 45, 'b': 56}"
      ]
     },
     "execution_count": 146,
     "metadata": {},
     "output_type": "execute_result"
    }
   ],
   "source": [
    "a(a=45,b=56)"
   ]
  },
  {
   "cell_type": "code",
   "execution_count": 147,
   "id": "043accf5",
   "metadata": {},
   "outputs": [],
   "source": [
    "a=10\n",
    "def test16(c,d):\n",
    "    c=5\n",
    "    return c*d\n"
   ]
  },
  {
   "cell_type": "code",
   "execution_count": 148,
   "id": "ed9c1c83",
   "metadata": {},
   "outputs": [
    {
     "data": {
      "text/plain": [
       "250"
      ]
     },
     "execution_count": 148,
     "metadata": {},
     "output_type": "execute_result"
    }
   ],
   "source": [
    "test16(a,50)"
   ]
  },
  {
   "cell_type": "code",
   "execution_count": 149,
   "id": "f4d10d6d",
   "metadata": {},
   "outputs": [],
   "source": [
    "def test5(a):\n",
    "    l=[]\n",
    "    for i in a:\n",
    "        l.append(i+2)\n",
    "    return l\n",
    "        "
   ]
  },
  {
   "cell_type": "code",
   "execution_count": 150,
   "id": "bc642c16",
   "metadata": {},
   "outputs": [
    {
     "data": {
      "text/plain": [
       "[3, 5, 8]"
      ]
     },
     "execution_count": 150,
     "metadata": {},
     "output_type": "execute_result"
    }
   ],
   "source": [
    "test5([1,3,6])"
   ]
  },
  {
   "cell_type": "code",
   "execution_count": 153,
   "id": "4368ad07",
   "metadata": {},
   "outputs": [],
   "source": [
    "a=lambda a:[i+2 for i in a if i<4]"
   ]
  },
  {
   "cell_type": "code",
   "execution_count": 154,
   "id": "502766bb",
   "metadata": {},
   "outputs": [
    {
     "data": {
      "text/plain": [
       "[3, 5]"
      ]
     },
     "execution_count": 154,
     "metadata": {},
     "output_type": "execute_result"
    }
   ],
   "source": [
    "a([1,3,5])"
   ]
  },
  {
   "cell_type": "code",
   "execution_count": 1,
   "id": "40b70d04",
   "metadata": {},
   "outputs": [],
   "source": [
    "# task\n",
    "d={1:1,2:4,3:9}"
   ]
  },
  {
   "cell_type": "code",
   "execution_count": 5,
   "id": "68b5c405",
   "metadata": {},
   "outputs": [
    {
     "data": {
      "text/plain": [
       "{0: 0, 1: 1, 2: 4, 3: 9, 4: 16, 5: 25, 6: 36, 7: 49, 8: 64, 9: 81}"
      ]
     },
     "execution_count": 5,
     "metadata": {},
     "output_type": "execute_result"
    }
   ],
   "source": [
    "{i:i**2 for i in range(10)}"
   ]
  },
  {
   "cell_type": "code",
   "execution_count": 7,
   "id": "f3e81656",
   "metadata": {},
   "outputs": [],
   "source": [
    "dictonary={}\n",
    "for i in range(10):\n",
    "    dictonary[i]=i**2\n",
    "    "
   ]
  },
  {
   "cell_type": "code",
   "execution_count": 8,
   "id": "6565306f",
   "metadata": {},
   "outputs": [
    {
     "data": {
      "text/plain": [
       "{0: 0, 1: 1, 2: 4, 3: 9, 4: 16, 5: 25, 6: 36, 7: 49, 8: 64, 9: 81}"
      ]
     },
     "execution_count": 8,
     "metadata": {},
     "output_type": "execute_result"
    }
   ],
   "source": [
    "dictonary"
   ]
  },
  {
   "cell_type": "code",
   "execution_count": 10,
   "id": "c601a86b",
   "metadata": {},
   "outputs": [
    {
     "data": {
      "text/plain": [
       "(0, 1, 2, 3, 4, 5, 6, 7, 8, 9)"
      ]
     },
     "execution_count": 10,
     "metadata": {},
     "output_type": "execute_result"
    }
   ],
   "source": [
    "tuple(i for i in range(10))"
   ]
  },
  {
   "cell_type": "markdown",
   "id": "273ae721",
   "metadata": {},
   "source": [
    "\n",
    "# Iterator and generator"
   ]
  },
  {
   "cell_type": "code",
   "execution_count": 11,
   "id": "ff1881e3",
   "metadata": {
    "scrolled": true
   },
   "outputs": [
    {
     "ename": "TypeError",
     "evalue": "'int' object is not iterable",
     "output_type": "error",
     "traceback": [
      "\u001b[1;31m---------------------------------------------------------------------------\u001b[0m",
      "\u001b[1;31mTypeError\u001b[0m                                 Traceback (most recent call last)",
      "\u001b[1;32m~\\AppData\\Local\\Temp\\ipykernel_752\\396045764.py\u001b[0m in \u001b[0;36m<module>\u001b[1;34m\u001b[0m\n\u001b[0;32m      1\u001b[0m \u001b[0ma\u001b[0m\u001b[1;33m=\u001b[0m\u001b[1;36m50\u001b[0m\u001b[1;33m\u001b[0m\u001b[1;33m\u001b[0m\u001b[0m\n\u001b[1;32m----> 2\u001b[1;33m \u001b[1;32mfor\u001b[0m \u001b[0mi\u001b[0m \u001b[1;32min\u001b[0m \u001b[0ma\u001b[0m\u001b[1;33m:\u001b[0m\u001b[1;33m\u001b[0m\u001b[1;33m\u001b[0m\u001b[0m\n\u001b[0m\u001b[0;32m      3\u001b[0m     \u001b[0mprint\u001b[0m\u001b[1;33m(\u001b[0m\u001b[0mi\u001b[0m\u001b[1;33m)\u001b[0m\u001b[1;33m\u001b[0m\u001b[1;33m\u001b[0m\u001b[0m\n",
      "\u001b[1;31mTypeError\u001b[0m: 'int' object is not iterable"
     ]
    }
   ],
   "source": [
    "a=50\n",
    "for i in a:\n",
    "    print(i)"
   ]
  },
  {
   "cell_type": "code",
   "execution_count": 12,
   "id": "c9d209ef",
   "metadata": {},
   "outputs": [
    {
     "name": "stdout",
     "output_type": "stream",
     "text": [
      "a\n",
      "d\n",
      "n\n",
      "a\n",
      "n\n"
     ]
    }
   ],
   "source": [
    "s=\"adnan\"\n",
    "for i in s:\n",
    "    print(i)"
   ]
  },
  {
   "cell_type": "code",
   "execution_count": 13,
   "id": "90a1a784",
   "metadata": {},
   "outputs": [
    {
     "ename": "TypeError",
     "evalue": "'str' object is not an iterator",
     "output_type": "error",
     "traceback": [
      "\u001b[1;31m---------------------------------------------------------------------------\u001b[0m",
      "\u001b[1;31mTypeError\u001b[0m                                 Traceback (most recent call last)",
      "\u001b[1;32m~\\AppData\\Local\\Temp\\ipykernel_752\\1977886155.py\u001b[0m in \u001b[0;36m<module>\u001b[1;34m\u001b[0m\n\u001b[1;32m----> 1\u001b[1;33m \u001b[0mnext\u001b[0m\u001b[1;33m(\u001b[0m\u001b[0ms\u001b[0m\u001b[1;33m)\u001b[0m\u001b[1;33m\u001b[0m\u001b[1;33m\u001b[0m\u001b[0m\n\u001b[0m",
      "\u001b[1;31mTypeError\u001b[0m: 'str' object is not an iterator"
     ]
    }
   ],
   "source": [
    "next(s)"
   ]
  },
  {
   "cell_type": "code",
   "execution_count": 19,
   "id": "e4f42a6f",
   "metadata": {},
   "outputs": [],
   "source": [
    "b=iter(s)\n",
    "# iter convert iterable into iterator then we can access"
   ]
  },
  {
   "cell_type": "code",
   "execution_count": 17,
   "id": "4a74550f",
   "metadata": {},
   "outputs": [
    {
     "data": {
      "text/plain": [
       "'a'"
      ]
     },
     "execution_count": 17,
     "metadata": {},
     "output_type": "execute_result"
    }
   ],
   "source": [
    "next(b)"
   ]
  },
  {
   "cell_type": "code",
   "execution_count": 18,
   "id": "75b7fcd2",
   "metadata": {},
   "outputs": [
    {
     "data": {
      "text/plain": [
       "'d'"
      ]
     },
     "execution_count": 18,
     "metadata": {},
     "output_type": "execute_result"
    }
   ],
   "source": [
    "next(b)"
   ]
  },
  {
   "cell_type": "code",
   "execution_count": null,
   "id": "1fd32639",
   "metadata": {},
   "outputs": [],
   "source": [
    "# there is a diff between iterable(which we can access in sequential mannaer) and iterator\n"
   ]
  },
  {
   "cell_type": "code",
   "execution_count": 22,
   "id": "11e2d391",
   "metadata": {},
   "outputs": [
    {
     "name": "stdout",
     "output_type": "stream",
     "text": [
      "a\n",
      "d\n",
      "n\n",
      "a\n",
      "n\n"
     ]
    }
   ],
   "source": [
    "a=\"adnan\" \n",
    "# by defalut for loop internally coverts iteratable to iterator\n",
    "for i in a:\n",
    "    print(i)\n",
    "#     by doing next and next it will give all the elems"
   ]
  },
  {
   "cell_type": "code",
   "execution_count": 23,
   "id": "bb40327b",
   "metadata": {},
   "outputs": [],
   "source": [
    "l=[3,4,5,6]"
   ]
  },
  {
   "cell_type": "code",
   "execution_count": 24,
   "id": "9d093dbd",
   "metadata": {},
   "outputs": [
    {
     "ename": "TypeError",
     "evalue": "'list' object is not an iterator",
     "output_type": "error",
     "traceback": [
      "\u001b[1;31m---------------------------------------------------------------------------\u001b[0m",
      "\u001b[1;31mTypeError\u001b[0m                                 Traceback (most recent call last)",
      "\u001b[1;32m~\\AppData\\Local\\Temp\\ipykernel_752\\2016234150.py\u001b[0m in \u001b[0;36m<module>\u001b[1;34m\u001b[0m\n\u001b[1;32m----> 1\u001b[1;33m \u001b[0mnext\u001b[0m\u001b[1;33m(\u001b[0m\u001b[0ml\u001b[0m\u001b[1;33m)\u001b[0m\u001b[1;33m\u001b[0m\u001b[1;33m\u001b[0m\u001b[0m\n\u001b[0m",
      "\u001b[1;31mTypeError\u001b[0m: 'list' object is not an iterator"
     ]
    }
   ],
   "source": [
    "next(l)"
   ]
  },
  {
   "cell_type": "code",
   "execution_count": 25,
   "id": "8e12cfa4",
   "metadata": {},
   "outputs": [],
   "source": [
    "x=iter(l)"
   ]
  },
  {
   "cell_type": "code",
   "execution_count": 26,
   "id": "fcde3961",
   "metadata": {},
   "outputs": [
    {
     "data": {
      "text/plain": [
       "3"
      ]
     },
     "execution_count": 26,
     "metadata": {},
     "output_type": "execute_result"
    }
   ],
   "source": [
    "next(x)"
   ]
  },
  {
   "cell_type": "code",
   "execution_count": 27,
   "id": "9724f170",
   "metadata": {},
   "outputs": [
    {
     "data": {
      "text/plain": [
       "4"
      ]
     },
     "execution_count": 27,
     "metadata": {},
     "output_type": "execute_result"
    }
   ],
   "source": [
    "next(x)"
   ]
  },
  {
   "cell_type": "code",
   "execution_count": null,
   "id": "7176d15d",
   "metadata": {},
   "outputs": [],
   "source": [
    "# all iterables can be converted into iterator"
   ]
  }
 ],
 "metadata": {
  "kernelspec": {
   "display_name": "Python 3 (ipykernel)",
   "language": "python",
   "name": "python3"
  },
  "language_info": {
   "codemirror_mode": {
    "name": "ipython",
    "version": 3
   },
   "file_extension": ".py",
   "mimetype": "text/x-python",
   "name": "python",
   "nbconvert_exporter": "python",
   "pygments_lexer": "ipython3",
   "version": "3.9.13"
  },
  "vscode": {
   "interpreter": {
    "hash": "745acbd60b3d3a97c5945352b8ea4157d78b838f777f5ff9015d2ad09d6a6d28"
   }
  }
 },
 "nbformat": 4,
 "nbformat_minor": 5
}
